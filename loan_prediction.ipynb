{
  "nbformat": 4,
  "nbformat_minor": 0,
  "metadata": {
    "colab": {
      "name": "loan_prediction.ipynb",
      "provenance": [],
      "authorship_tag": "ABX9TyMqYLAM38rV9sMZHbI1rfXL",
      "include_colab_link": true
    },
    "kernelspec": {
      "name": "python3",
      "display_name": "Python 3"
    }
  },
  "cells": [
    {
      "cell_type": "markdown",
      "metadata": {
        "id": "view-in-github",
        "colab_type": "text"
      },
      "source": [
        "<a href=\"https://colab.research.google.com/github/NehaNeha417/loan_prediction/blob/master/loan_prediction.ipynb\" target=\"_parent\"><img src=\"https://colab.research.google.com/assets/colab-badge.svg\" alt=\"Open In Colab\"/></a>"
      ]
    },
    {
      "cell_type": "code",
      "metadata": {
        "id": "ccNsVyudFXmI",
        "colab_type": "code",
        "colab": {}
      },
      "source": [
        "import numpy as np\n",
        "import matplotlib.pyplot as plt\n",
        "import pandas as pd\n",
        "import seaborn as sns"
      ],
      "execution_count": 339,
      "outputs": []
    },
    {
      "cell_type": "code",
      "metadata": {
        "id": "uj1nXFoxFXjr",
        "colab_type": "code",
        "colab": {}
      },
      "source": [
        "data=pd.read_csv('/content/loan_predction.csv')"
      ],
      "execution_count": 340,
      "outputs": []
    },
    {
      "cell_type": "code",
      "metadata": {
        "id": "Ow639dQCFXe6",
        "colab_type": "code",
        "colab": {
          "base_uri": "https://localhost:8080/",
          "height": 241
        },
        "outputId": "7d8abf6d-3fb5-4709-8f10-37fd9f1907a6"
      },
      "source": [
        "data.head()"
      ],
      "execution_count": 341,
      "outputs": [
        {
          "output_type": "execute_result",
          "data": {
            "text/html": [
              "<div>\n",
              "<style scoped>\n",
              "    .dataframe tbody tr th:only-of-type {\n",
              "        vertical-align: middle;\n",
              "    }\n",
              "\n",
              "    .dataframe tbody tr th {\n",
              "        vertical-align: top;\n",
              "    }\n",
              "\n",
              "    .dataframe thead th {\n",
              "        text-align: right;\n",
              "    }\n",
              "</style>\n",
              "<table border=\"1\" class=\"dataframe\">\n",
              "  <thead>\n",
              "    <tr style=\"text-align: right;\">\n",
              "      <th></th>\n",
              "      <th>Loan_ID</th>\n",
              "      <th>Gender</th>\n",
              "      <th>Married</th>\n",
              "      <th>Dependents</th>\n",
              "      <th>Education</th>\n",
              "      <th>Self_Employed</th>\n",
              "      <th>ApplicantIncome</th>\n",
              "      <th>CoapplicantIncome</th>\n",
              "      <th>LoanAmount</th>\n",
              "      <th>Loan_Amount_Term</th>\n",
              "      <th>Credit_History</th>\n",
              "      <th>Property_Area</th>\n",
              "      <th>Loan_Status</th>\n",
              "    </tr>\n",
              "  </thead>\n",
              "  <tbody>\n",
              "    <tr>\n",
              "      <th>0</th>\n",
              "      <td>LP001002</td>\n",
              "      <td>Male</td>\n",
              "      <td>No</td>\n",
              "      <td>0</td>\n",
              "      <td>Graduate</td>\n",
              "      <td>No</td>\n",
              "      <td>5849</td>\n",
              "      <td>0.0</td>\n",
              "      <td>NaN</td>\n",
              "      <td>360.0</td>\n",
              "      <td>1.0</td>\n",
              "      <td>Urban</td>\n",
              "      <td>Y</td>\n",
              "    </tr>\n",
              "    <tr>\n",
              "      <th>1</th>\n",
              "      <td>LP001003</td>\n",
              "      <td>Male</td>\n",
              "      <td>Yes</td>\n",
              "      <td>1</td>\n",
              "      <td>Graduate</td>\n",
              "      <td>No</td>\n",
              "      <td>4583</td>\n",
              "      <td>1508.0</td>\n",
              "      <td>128.0</td>\n",
              "      <td>360.0</td>\n",
              "      <td>1.0</td>\n",
              "      <td>Rural</td>\n",
              "      <td>N</td>\n",
              "    </tr>\n",
              "    <tr>\n",
              "      <th>2</th>\n",
              "      <td>LP001005</td>\n",
              "      <td>Male</td>\n",
              "      <td>Yes</td>\n",
              "      <td>0</td>\n",
              "      <td>Graduate</td>\n",
              "      <td>Yes</td>\n",
              "      <td>3000</td>\n",
              "      <td>0.0</td>\n",
              "      <td>66.0</td>\n",
              "      <td>360.0</td>\n",
              "      <td>1.0</td>\n",
              "      <td>Urban</td>\n",
              "      <td>Y</td>\n",
              "    </tr>\n",
              "    <tr>\n",
              "      <th>3</th>\n",
              "      <td>LP001006</td>\n",
              "      <td>Male</td>\n",
              "      <td>Yes</td>\n",
              "      <td>0</td>\n",
              "      <td>Not Graduate</td>\n",
              "      <td>No</td>\n",
              "      <td>2583</td>\n",
              "      <td>2358.0</td>\n",
              "      <td>120.0</td>\n",
              "      <td>360.0</td>\n",
              "      <td>1.0</td>\n",
              "      <td>Urban</td>\n",
              "      <td>Y</td>\n",
              "    </tr>\n",
              "    <tr>\n",
              "      <th>4</th>\n",
              "      <td>LP001008</td>\n",
              "      <td>Male</td>\n",
              "      <td>No</td>\n",
              "      <td>0</td>\n",
              "      <td>Graduate</td>\n",
              "      <td>No</td>\n",
              "      <td>6000</td>\n",
              "      <td>0.0</td>\n",
              "      <td>141.0</td>\n",
              "      <td>360.0</td>\n",
              "      <td>1.0</td>\n",
              "      <td>Urban</td>\n",
              "      <td>Y</td>\n",
              "    </tr>\n",
              "  </tbody>\n",
              "</table>\n",
              "</div>"
            ],
            "text/plain": [
              "    Loan_ID Gender Married  ... Credit_History Property_Area Loan_Status\n",
              "0  LP001002   Male      No  ...            1.0         Urban           Y\n",
              "1  LP001003   Male     Yes  ...            1.0         Rural           N\n",
              "2  LP001005   Male     Yes  ...            1.0         Urban           Y\n",
              "3  LP001006   Male     Yes  ...            1.0         Urban           Y\n",
              "4  LP001008   Male      No  ...            1.0         Urban           Y\n",
              "\n",
              "[5 rows x 13 columns]"
            ]
          },
          "metadata": {
            "tags": []
          },
          "execution_count": 341
        }
      ]
    },
    {
      "cell_type": "code",
      "metadata": {
        "id": "S_ivYFgvFXdB",
        "colab_type": "code",
        "colab": {
          "base_uri": "https://localhost:8080/",
          "height": 34
        },
        "outputId": "fb95100b-d62e-402a-be95-9054dc56b9dd"
      },
      "source": [
        "data.shape"
      ],
      "execution_count": 342,
      "outputs": [
        {
          "output_type": "execute_result",
          "data": {
            "text/plain": [
              "(614, 13)"
            ]
          },
          "metadata": {
            "tags": []
          },
          "execution_count": 342
        }
      ]
    },
    {
      "cell_type": "code",
      "metadata": {
        "id": "6W84U9VEFXZe",
        "colab_type": "code",
        "colab": {
          "base_uri": "https://localhost:8080/",
          "height": 255
        },
        "outputId": "597a26e8-1d9b-4c1f-e951-4220ac9f1933"
      },
      "source": [
        "data.isna().sum()"
      ],
      "execution_count": 343,
      "outputs": [
        {
          "output_type": "execute_result",
          "data": {
            "text/plain": [
              "Loan_ID               0\n",
              "Gender               13\n",
              "Married               3\n",
              "Dependents           15\n",
              "Education             0\n",
              "Self_Employed        32\n",
              "ApplicantIncome       0\n",
              "CoapplicantIncome     0\n",
              "LoanAmount           22\n",
              "Loan_Amount_Term     14\n",
              "Credit_History       50\n",
              "Property_Area         0\n",
              "Loan_Status           0\n",
              "dtype: int64"
            ]
          },
          "metadata": {
            "tags": []
          },
          "execution_count": 343
        }
      ]
    },
    {
      "cell_type": "code",
      "metadata": {
        "id": "ByggXd6jFXXG",
        "colab_type": "code",
        "colab": {}
      },
      "source": [
        "#data.dtpyes"
      ],
      "execution_count": 344,
      "outputs": []
    },
    {
      "cell_type": "code",
      "metadata": {
        "id": "tXXEYaVDFXSu",
        "colab_type": "code",
        "colab": {
          "base_uri": "https://localhost:8080/",
          "height": 357
        },
        "outputId": "a23f8c1f-f2bd-4e17-9dce-941be8167e60"
      },
      "source": [
        "data.info()"
      ],
      "execution_count": 345,
      "outputs": [
        {
          "output_type": "stream",
          "text": [
            "<class 'pandas.core.frame.DataFrame'>\n",
            "RangeIndex: 614 entries, 0 to 613\n",
            "Data columns (total 13 columns):\n",
            " #   Column             Non-Null Count  Dtype  \n",
            "---  ------             --------------  -----  \n",
            " 0   Loan_ID            614 non-null    object \n",
            " 1   Gender             601 non-null    object \n",
            " 2   Married            611 non-null    object \n",
            " 3   Dependents         599 non-null    object \n",
            " 4   Education          614 non-null    object \n",
            " 5   Self_Employed      582 non-null    object \n",
            " 6   ApplicantIncome    614 non-null    int64  \n",
            " 7   CoapplicantIncome  614 non-null    float64\n",
            " 8   LoanAmount         592 non-null    float64\n",
            " 9   Loan_Amount_Term   600 non-null    float64\n",
            " 10  Credit_History     564 non-null    float64\n",
            " 11  Property_Area      614 non-null    object \n",
            " 12  Loan_Status        614 non-null    object \n",
            "dtypes: float64(4), int64(1), object(8)\n",
            "memory usage: 62.5+ KB\n"
          ],
          "name": "stdout"
        }
      ]
    },
    {
      "cell_type": "code",
      "metadata": {
        "id": "dy8sh8EmIovQ",
        "colab_type": "code",
        "colab": {}
      },
      "source": [
        "data.Gender = data.Gender.fillna(data.Gender.ffill())\n",
        "data.Dependents = data.Dependents.fillna(data.Dependents.ffill())\n",
        "data.Self_Employed = data.Self_Employed.fillna(data.Self_Employed.ffill())\n",
        "data.Credit_History = data.Credit_History.fillna(data.Credit_History.ffill())\n"
      ],
      "execution_count": 346,
      "outputs": []
    },
    {
      "cell_type": "code",
      "metadata": {
        "id": "96NDx0O6IosY",
        "colab_type": "code",
        "colab": {}
      },
      "source": [
        "data.LoanAmount.fillna(data.LoanAmount.mean(),inplace=True)\n",
        "data.Loan_Amount_Term.fillna(data.Loan_Amount_Term.mean(),inplace=True)\n"
      ],
      "execution_count": 347,
      "outputs": []
    },
    {
      "cell_type": "code",
      "metadata": {
        "id": "fHRwwYNfQPu7",
        "colab_type": "code",
        "colab": {}
      },
      "source": [
        "data=data.dropna()"
      ],
      "execution_count": 348,
      "outputs": []
    },
    {
      "cell_type": "code",
      "metadata": {
        "id": "KG1QJiT9QXkl",
        "colab_type": "code",
        "colab": {
          "base_uri": "https://localhost:8080/",
          "height": 255
        },
        "outputId": "eb3bd982-5b6c-427c-d053-47cd506029e1"
      },
      "source": [
        "data.isna().sum()"
      ],
      "execution_count": 349,
      "outputs": [
        {
          "output_type": "execute_result",
          "data": {
            "text/plain": [
              "Loan_ID              0\n",
              "Gender               0\n",
              "Married              0\n",
              "Dependents           0\n",
              "Education            0\n",
              "Self_Employed        0\n",
              "ApplicantIncome      0\n",
              "CoapplicantIncome    0\n",
              "LoanAmount           0\n",
              "Loan_Amount_Term     0\n",
              "Credit_History       0\n",
              "Property_Area        0\n",
              "Loan_Status          0\n",
              "dtype: int64"
            ]
          },
          "metadata": {
            "tags": []
          },
          "execution_count": 349
        }
      ]
    },
    {
      "cell_type": "code",
      "metadata": {
        "id": "LWsW8ctBMTo8",
        "colab_type": "code",
        "colab": {
          "base_uri": "https://localhost:8080/",
          "height": 34
        },
        "outputId": "8384f68b-d0da-4eef-ccd8-e3793571ffa1"
      },
      "source": [
        "data.shape"
      ],
      "execution_count": 350,
      "outputs": [
        {
          "output_type": "execute_result",
          "data": {
            "text/plain": [
              "(611, 13)"
            ]
          },
          "metadata": {
            "tags": []
          },
          "execution_count": 350
        }
      ]
    },
    {
      "cell_type": "code",
      "metadata": {
        "id": "sj4ER4xySJGs",
        "colab_type": "code",
        "colab": {
          "base_uri": "https://localhost:8080/",
          "height": 425
        },
        "outputId": "065912b9-764b-4560-c844-4a3aa789c439"
      },
      "source": [
        "print(data.Self_Employed.value_counts())\n",
        "print(data.Dependents.value_counts())\n",
        "print(data.Property_Area.value_counts())\n",
        "print(data.Education.value_counts())\n",
        "print(data.Gender.value_counts())\n",
        "print(data.Loan_Status.value_counts())\n",
        "print(data.Married.value_counts())\n",
        "\n"
      ],
      "execution_count": 351,
      "outputs": [
        {
          "output_type": "stream",
          "text": [
            "No     525\n",
            "Yes     86\n",
            "Name: Self_Employed, dtype: int64\n",
            "0     352\n",
            "1     104\n",
            "2     104\n",
            "3+     51\n",
            "Name: Dependents, dtype: int64\n",
            "Semiurban    231\n",
            "Urban        201\n",
            "Rural        179\n",
            "Name: Property_Area, dtype: int64\n",
            "Graduate        477\n",
            "Not Graduate    134\n",
            "Name: Education, dtype: int64\n",
            "Male      498\n",
            "Female    113\n",
            "Name: Gender, dtype: int64\n",
            "Y    419\n",
            "N    192\n",
            "Name: Loan_Status, dtype: int64\n",
            "Yes    398\n",
            "No     213\n",
            "Name: Married, dtype: int64\n"
          ],
          "name": "stdout"
        }
      ]
    },
    {
      "cell_type": "code",
      "metadata": {
        "id": "ZXi15wQC8n51",
        "colab_type": "code",
        "colab": {
          "base_uri": "https://localhost:8080/",
          "height": 241
        },
        "outputId": "bbff969e-c40b-4c19-d835-3f4fc2e8c277"
      },
      "source": [
        "data.Loan_Status=pd.get_dummies(data.Loan_Status)\n",
        "data.head()"
      ],
      "execution_count": 352,
      "outputs": [
        {
          "output_type": "execute_result",
          "data": {
            "text/html": [
              "<div>\n",
              "<style scoped>\n",
              "    .dataframe tbody tr th:only-of-type {\n",
              "        vertical-align: middle;\n",
              "    }\n",
              "\n",
              "    .dataframe tbody tr th {\n",
              "        vertical-align: top;\n",
              "    }\n",
              "\n",
              "    .dataframe thead th {\n",
              "        text-align: right;\n",
              "    }\n",
              "</style>\n",
              "<table border=\"1\" class=\"dataframe\">\n",
              "  <thead>\n",
              "    <tr style=\"text-align: right;\">\n",
              "      <th></th>\n",
              "      <th>Loan_ID</th>\n",
              "      <th>Gender</th>\n",
              "      <th>Married</th>\n",
              "      <th>Dependents</th>\n",
              "      <th>Education</th>\n",
              "      <th>Self_Employed</th>\n",
              "      <th>ApplicantIncome</th>\n",
              "      <th>CoapplicantIncome</th>\n",
              "      <th>LoanAmount</th>\n",
              "      <th>Loan_Amount_Term</th>\n",
              "      <th>Credit_History</th>\n",
              "      <th>Property_Area</th>\n",
              "      <th>Loan_Status</th>\n",
              "    </tr>\n",
              "  </thead>\n",
              "  <tbody>\n",
              "    <tr>\n",
              "      <th>0</th>\n",
              "      <td>LP001002</td>\n",
              "      <td>Male</td>\n",
              "      <td>No</td>\n",
              "      <td>0</td>\n",
              "      <td>Graduate</td>\n",
              "      <td>No</td>\n",
              "      <td>5849</td>\n",
              "      <td>0.0</td>\n",
              "      <td>146.412162</td>\n",
              "      <td>360.0</td>\n",
              "      <td>1.0</td>\n",
              "      <td>Urban</td>\n",
              "      <td>0</td>\n",
              "    </tr>\n",
              "    <tr>\n",
              "      <th>1</th>\n",
              "      <td>LP001003</td>\n",
              "      <td>Male</td>\n",
              "      <td>Yes</td>\n",
              "      <td>1</td>\n",
              "      <td>Graduate</td>\n",
              "      <td>No</td>\n",
              "      <td>4583</td>\n",
              "      <td>1508.0</td>\n",
              "      <td>128.000000</td>\n",
              "      <td>360.0</td>\n",
              "      <td>1.0</td>\n",
              "      <td>Rural</td>\n",
              "      <td>1</td>\n",
              "    </tr>\n",
              "    <tr>\n",
              "      <th>2</th>\n",
              "      <td>LP001005</td>\n",
              "      <td>Male</td>\n",
              "      <td>Yes</td>\n",
              "      <td>0</td>\n",
              "      <td>Graduate</td>\n",
              "      <td>Yes</td>\n",
              "      <td>3000</td>\n",
              "      <td>0.0</td>\n",
              "      <td>66.000000</td>\n",
              "      <td>360.0</td>\n",
              "      <td>1.0</td>\n",
              "      <td>Urban</td>\n",
              "      <td>0</td>\n",
              "    </tr>\n",
              "    <tr>\n",
              "      <th>3</th>\n",
              "      <td>LP001006</td>\n",
              "      <td>Male</td>\n",
              "      <td>Yes</td>\n",
              "      <td>0</td>\n",
              "      <td>Not Graduate</td>\n",
              "      <td>No</td>\n",
              "      <td>2583</td>\n",
              "      <td>2358.0</td>\n",
              "      <td>120.000000</td>\n",
              "      <td>360.0</td>\n",
              "      <td>1.0</td>\n",
              "      <td>Urban</td>\n",
              "      <td>0</td>\n",
              "    </tr>\n",
              "    <tr>\n",
              "      <th>4</th>\n",
              "      <td>LP001008</td>\n",
              "      <td>Male</td>\n",
              "      <td>No</td>\n",
              "      <td>0</td>\n",
              "      <td>Graduate</td>\n",
              "      <td>No</td>\n",
              "      <td>6000</td>\n",
              "      <td>0.0</td>\n",
              "      <td>141.000000</td>\n",
              "      <td>360.0</td>\n",
              "      <td>1.0</td>\n",
              "      <td>Urban</td>\n",
              "      <td>0</td>\n",
              "    </tr>\n",
              "  </tbody>\n",
              "</table>\n",
              "</div>"
            ],
            "text/plain": [
              "    Loan_ID Gender Married  ... Credit_History Property_Area Loan_Status\n",
              "0  LP001002   Male      No  ...            1.0         Urban           0\n",
              "1  LP001003   Male     Yes  ...            1.0         Rural           1\n",
              "2  LP001005   Male     Yes  ...            1.0         Urban           0\n",
              "3  LP001006   Male     Yes  ...            1.0         Urban           0\n",
              "4  LP001008   Male      No  ...            1.0         Urban           0\n",
              "\n",
              "[5 rows x 13 columns]"
            ]
          },
          "metadata": {
            "tags": []
          },
          "execution_count": 352
        }
      ]
    },
    {
      "cell_type": "code",
      "metadata": {
        "id": "eNiP_Xn0zZ5K",
        "colab_type": "code",
        "colab": {
          "base_uri": "https://localhost:8080/",
          "height": 265
        },
        "outputId": "3d9c24c5-40a8-465c-b268-67a8ceb181de"
      },
      "source": [
        "data.Gender = pd.get_dummies(data.Gender)\n",
        "plt.hist('Gender')\n",
        "plt.show()"
      ],
      "execution_count": 353,
      "outputs": [
        {
          "output_type": "display_data",
          "data": {
            "image/png": "[encoded data removed]",
            "text/plain": [
              "<Figure size 432x288 with 1 Axes>"
            ]
          },
          "metadata": {
            "tags": [],
            "needs_background": "light"
          }
        }
      ]
    },
    {
      "cell_type": "code",
      "metadata": {
        "id": "B9OS8P0qzvmK",
        "colab_type": "code",
        "colab": {
          "base_uri": "https://localhost:8080/",
          "height": 241
        },
        "outputId": "0c1d5ab8-2264-4bf0-adbb-9cd0ee02abd5"
      },
      "source": [
        "data.head()"
      ],
      "execution_count": 354,
      "outputs": [
        {
          "output_type": "execute_result",
          "data": {
            "text/html": [
              "<div>\n",
              "<style scoped>\n",
              "    .dataframe tbody tr th:only-of-type {\n",
              "        vertical-align: middle;\n",
              "    }\n",
              "\n",
              "    .dataframe tbody tr th {\n",
              "        vertical-align: top;\n",
              "    }\n",
              "\n",
              "    .dataframe thead th {\n",
              "        text-align: right;\n",
              "    }\n",
              "</style>\n",
              "<table border=\"1\" class=\"dataframe\">\n",
              "  <thead>\n",
              "    <tr style=\"text-align: right;\">\n",
              "      <th></th>\n",
              "      <th>Loan_ID</th>\n",
              "      <th>Gender</th>\n",
              "      <th>Married</th>\n",
              "      <th>Dependents</th>\n",
              "      <th>Education</th>\n",
              "      <th>Self_Employed</th>\n",
              "      <th>ApplicantIncome</th>\n",
              "      <th>CoapplicantIncome</th>\n",
              "      <th>LoanAmount</th>\n",
              "      <th>Loan_Amount_Term</th>\n",
              "      <th>Credit_History</th>\n",
              "      <th>Property_Area</th>\n",
              "      <th>Loan_Status</th>\n",
              "    </tr>\n",
              "  </thead>\n",
              "  <tbody>\n",
              "    <tr>\n",
              "      <th>0</th>\n",
              "      <td>LP001002</td>\n",
              "      <td>0</td>\n",
              "      <td>No</td>\n",
              "      <td>0</td>\n",
              "      <td>Graduate</td>\n",
              "      <td>No</td>\n",
              "      <td>5849</td>\n",
              "      <td>0.0</td>\n",
              "      <td>146.412162</td>\n",
              "      <td>360.0</td>\n",
              "      <td>1.0</td>\n",
              "      <td>Urban</td>\n",
              "      <td>0</td>\n",
              "    </tr>\n",
              "    <tr>\n",
              "      <th>1</th>\n",
              "      <td>LP001003</td>\n",
              "      <td>0</td>\n",
              "      <td>Yes</td>\n",
              "      <td>1</td>\n",
              "      <td>Graduate</td>\n",
              "      <td>No</td>\n",
              "      <td>4583</td>\n",
              "      <td>1508.0</td>\n",
              "      <td>128.000000</td>\n",
              "      <td>360.0</td>\n",
              "      <td>1.0</td>\n",
              "      <td>Rural</td>\n",
              "      <td>1</td>\n",
              "    </tr>\n",
              "    <tr>\n",
              "      <th>2</th>\n",
              "      <td>LP001005</td>\n",
              "      <td>0</td>\n",
              "      <td>Yes</td>\n",
              "      <td>0</td>\n",
              "      <td>Graduate</td>\n",
              "      <td>Yes</td>\n",
              "      <td>3000</td>\n",
              "      <td>0.0</td>\n",
              "      <td>66.000000</td>\n",
              "      <td>360.0</td>\n",
              "      <td>1.0</td>\n",
              "      <td>Urban</td>\n",
              "      <td>0</td>\n",
              "    </tr>\n",
              "    <tr>\n",
              "      <th>3</th>\n",
              "      <td>LP001006</td>\n",
              "      <td>0</td>\n",
              "      <td>Yes</td>\n",
              "      <td>0</td>\n",
              "      <td>Not Graduate</td>\n",
              "      <td>No</td>\n",
              "      <td>2583</td>\n",
              "      <td>2358.0</td>\n",
              "      <td>120.000000</td>\n",
              "      <td>360.0</td>\n",
              "      <td>1.0</td>\n",
              "      <td>Urban</td>\n",
              "      <td>0</td>\n",
              "    </tr>\n",
              "    <tr>\n",
              "      <th>4</th>\n",
              "      <td>LP001008</td>\n",
              "      <td>0</td>\n",
              "      <td>No</td>\n",
              "      <td>0</td>\n",
              "      <td>Graduate</td>\n",
              "      <td>No</td>\n",
              "      <td>6000</td>\n",
              "      <td>0.0</td>\n",
              "      <td>141.000000</td>\n",
              "      <td>360.0</td>\n",
              "      <td>1.0</td>\n",
              "      <td>Urban</td>\n",
              "      <td>0</td>\n",
              "    </tr>\n",
              "  </tbody>\n",
              "</table>\n",
              "</div>"
            ],
            "text/plain": [
              "    Loan_ID  Gender Married  ... Credit_History Property_Area Loan_Status\n",
              "0  LP001002       0      No  ...            1.0         Urban           0\n",
              "1  LP001003       0     Yes  ...            1.0         Rural           1\n",
              "2  LP001005       0     Yes  ...            1.0         Urban           0\n",
              "3  LP001006       0     Yes  ...            1.0         Urban           0\n",
              "4  LP001008       0      No  ...            1.0         Urban           0\n",
              "\n",
              "[5 rows x 13 columns]"
            ]
          },
          "metadata": {
            "tags": []
          },
          "execution_count": 354
        }
      ]
    },
    {
      "cell_type": "code",
      "metadata": {
        "id": "h1bfCe6qzvKR",
        "colab_type": "code",
        "colab": {}
      },
      "source": [
        ""
      ],
      "execution_count": 354,
      "outputs": []
    },
    {
      "cell_type": "markdown",
      "metadata": {
        "id": "OJP-sMkcyPRa",
        "colab_type": "text"
      },
      "source": [
        ""
      ]
    },
    {
      "cell_type": "code",
      "metadata": {
        "id": "Tom9gSvZ1397",
        "colab_type": "code",
        "colab": {}
      },
      "source": [
        "from sklearn.model_selection import train_test_split\n",
        "x = data.drop(['Loan_Status','Loan_ID'],axis=1)\n",
        "y = data['Loan_Status']\n",
        "x_train,x_test,y_train,y_test = train_test_split(x,y, test_size=0.2, random_state=42)"
      ],
      "execution_count": 355,
      "outputs": []
    },
    {
      "cell_type": "code",
      "metadata": {
        "id": "oNG_oOl8xHyI",
        "colab_type": "code",
        "colab": {
          "base_uri": "https://localhost:8080/",
          "height": 298
        },
        "outputId": "c687b4d0-69ee-4743-fc6f-291abab17f7f"
      },
      "source": [
        "plt.figure(figsize=(10,10))\n",
        "data.hist()\n",
        "plt.show()"
      ],
      "execution_count": 356,
      "outputs": [
        {
          "output_type": "display_data",
          "data": {
            "text/plain": [
              "<Figure size 720x720 with 0 Axes>"
            ]
          },
          "metadata": {
            "tags": []
          }
        },
        {
          "output_type": "display_data",
          "data": {
            "image/png": "[encoded data removed]",
            "text/plain": [
              "<Figure size 432x288 with 9 Axes>"
            ]
          },
          "metadata": {
            "tags": [],
            "needs_background": "light"
          }
        }
      ]
    },
    {
      "cell_type": "code",
      "metadata": {
        "id": "r9SElhxTx5Is",
        "colab_type": "code",
        "colab": {
          "base_uri": "https://localhost:8080/",
          "height": 204
        },
        "outputId": "68bbec98-be81-44e3-f30e-07490b90969b"
      },
      "source": [
        "x_train = x_train.drop(columns=['Married','Self_Employed','Education'])\n",
        "x_train.head()"
      ],
      "execution_count": 357,
      "outputs": [
        {
          "output_type": "execute_result",
          "data": {
            "text/html": [
              "<div>\n",
              "<style scoped>\n",
              "    .dataframe tbody tr th:only-of-type {\n",
              "        vertical-align: middle;\n",
              "    }\n",
              "\n",
              "    .dataframe tbody tr th {\n",
              "        vertical-align: top;\n",
              "    }\n",
              "\n",
              "    .dataframe thead th {\n",
              "        text-align: right;\n",
              "    }\n",
              "</style>\n",
              "<table border=\"1\" class=\"dataframe\">\n",
              "  <thead>\n",
              "    <tr style=\"text-align: right;\">\n",
              "      <th></th>\n",
              "      <th>Gender</th>\n",
              "      <th>Dependents</th>\n",
              "      <th>ApplicantIncome</th>\n",
              "      <th>CoapplicantIncome</th>\n",
              "      <th>LoanAmount</th>\n",
              "      <th>Loan_Amount_Term</th>\n",
              "      <th>Credit_History</th>\n",
              "      <th>Property_Area</th>\n",
              "    </tr>\n",
              "  </thead>\n",
              "  <tbody>\n",
              "    <tr>\n",
              "      <th>564</th>\n",
              "      <td>0</td>\n",
              "      <td>2</td>\n",
              "      <td>8799</td>\n",
              "      <td>0.0</td>\n",
              "      <td>258.0</td>\n",
              "      <td>360.0</td>\n",
              "      <td>0.0</td>\n",
              "      <td>Urban</td>\n",
              "    </tr>\n",
              "    <tr>\n",
              "      <th>289</th>\n",
              "      <td>0</td>\n",
              "      <td>0</td>\n",
              "      <td>9508</td>\n",
              "      <td>0.0</td>\n",
              "      <td>187.0</td>\n",
              "      <td>360.0</td>\n",
              "      <td>1.0</td>\n",
              "      <td>Rural</td>\n",
              "    </tr>\n",
              "    <tr>\n",
              "      <th>324</th>\n",
              "      <td>0</td>\n",
              "      <td>3+</td>\n",
              "      <td>15000</td>\n",
              "      <td>0.0</td>\n",
              "      <td>300.0</td>\n",
              "      <td>360.0</td>\n",
              "      <td>1.0</td>\n",
              "      <td>Rural</td>\n",
              "    </tr>\n",
              "    <tr>\n",
              "      <th>133</th>\n",
              "      <td>0</td>\n",
              "      <td>0</td>\n",
              "      <td>3459</td>\n",
              "      <td>0.0</td>\n",
              "      <td>25.0</td>\n",
              "      <td>120.0</td>\n",
              "      <td>1.0</td>\n",
              "      <td>Semiurban</td>\n",
              "    </tr>\n",
              "    <tr>\n",
              "      <th>175</th>\n",
              "      <td>0</td>\n",
              "      <td>0</td>\n",
              "      <td>3497</td>\n",
              "      <td>1964.0</td>\n",
              "      <td>116.0</td>\n",
              "      <td>360.0</td>\n",
              "      <td>1.0</td>\n",
              "      <td>Rural</td>\n",
              "    </tr>\n",
              "  </tbody>\n",
              "</table>\n",
              "</div>"
            ],
            "text/plain": [
              "     Gender Dependents  ...  Credit_History  Property_Area\n",
              "564       0          2  ...             0.0          Urban\n",
              "289       0          0  ...             1.0          Rural\n",
              "324       0         3+  ...             1.0          Rural\n",
              "133       0          0  ...             1.0      Semiurban\n",
              "175       0          0  ...             1.0          Rural\n",
              "\n",
              "[5 rows x 8 columns]"
            ]
          },
          "metadata": {
            "tags": []
          },
          "execution_count": 357
        }
      ]
    },
    {
      "cell_type": "code",
      "metadata": {
        "id": "wdENJ0UBMTmA",
        "colab_type": "code",
        "colab": {}
      },
      "source": [
        "x_train.Gender = pd.get_dummies(x_train.Gender)\n",
        "#data.Married = pd.get_dummies(data.Married)\n",
        "#data.Education = pd.get_dummies(data.Education)\n",
        "#data.Self_Employed = pd.get_dummies(data.Self_Employed)\n",
        "#data.Dependents = pd.get_dummies(data.Dependents)\n",
        "#data.Property_Area = pd.get_dummies(data.Property_Area)\n",
        "#y_train.Loan_Status = pd.get_dummies(y_train.Loan_Status)\n"
      ],
      "execution_count": 358,
      "outputs": []
    },
    {
      "cell_type": "code",
      "metadata": {
        "id": "LxgkrwI7zleA",
        "colab_type": "code",
        "colab": {
          "base_uri": "https://localhost:8080/",
          "height": 85
        },
        "outputId": "efcf3046-28eb-403e-a8a1-48fc90ec7287"
      },
      "source": [
        "x_train = pd.get_dummies(x_train,columns=['Dependents'])\n",
        "print(x_train.columns)"
      ],
      "execution_count": 359,
      "outputs": [
        {
          "output_type": "stream",
          "text": [
            "Index(['Gender', 'ApplicantIncome', 'CoapplicantIncome', 'LoanAmount',\n",
            "       'Loan_Amount_Term', 'Credit_History', 'Property_Area', 'Dependents_0',\n",
            "       'Dependents_1', 'Dependents_2', 'Dependents_3+'],\n",
            "      dtype='object')\n"
          ],
          "name": "stdout"
        }
      ]
    },
    {
      "cell_type": "code",
      "metadata": {
        "id": "fdLgOS7H0slx",
        "colab_type": "code",
        "colab": {
          "base_uri": "https://localhost:8080/",
          "height": 102
        },
        "outputId": "6b05ce7f-e7f4-4e34-dc7b-2dc855271280"
      },
      "source": [
        "x_train = pd.get_dummies(x_train,columns=['Property_Area'],prefix='PA')\n",
        "print(x_train.columns)"
      ],
      "execution_count": 360,
      "outputs": [
        {
          "output_type": "stream",
          "text": [
            "Index(['Gender', 'ApplicantIncome', 'CoapplicantIncome', 'LoanAmount',\n",
            "       'Loan_Amount_Term', 'Credit_History', 'Dependents_0', 'Dependents_1',\n",
            "       'Dependents_2', 'Dependents_3+', 'PA_Rural', 'PA_Semiurban',\n",
            "       'PA_Urban'],\n",
            "      dtype='object')\n"
          ],
          "name": "stdout"
        }
      ]
    },
    {
      "cell_type": "code",
      "metadata": {
        "id": "Tv9ljayrEDqx",
        "colab_type": "code",
        "colab": {
          "base_uri": "https://localhost:8080/",
          "height": 224
        },
        "outputId": "f19423e9-dddb-4de3-97e8-56786bf8c3e7"
      },
      "source": [
        "x_test.Gender = pd.get_dummies(x_test.Gender)\n",
        "x_test = pd.get_dummies(x_test,columns=['Dependents'])\n",
        "#print(x_train.columns)\n",
        "#x_test.Married = pd.get_dummies(x_test.Married)\n",
        "#x_test.Education = pd.get_dummies(x_test.Education)\n",
        "#x_test.Self_Employed = pd.get_dummies(x_test.Self_Employed)\n",
        "\n",
        "\n",
        "x_test = pd.get_dummies(x_test,columns=['Property_Area'],prefix='PA')\n",
        "print(x_test.columns)\n",
        "x_test = x_test.drop(columns=['Married','Education','Self_Employed'])"
      ],
      "execution_count": 361,
      "outputs": [
        {
          "output_type": "stream",
          "text": [
            "Index(['Gender', 'Married', 'Education', 'Self_Employed', 'ApplicantIncome',\n",
            "       'CoapplicantIncome', 'LoanAmount', 'Loan_Amount_Term', 'Credit_History',\n",
            "       'Dependents_0', 'Dependents_1', 'Dependents_2', 'Dependents_3+',\n",
            "       'PA_Rural', 'PA_Semiurban', 'PA_Urban'],\n",
            "      dtype='object')\n"
          ],
          "name": "stdout"
        },
        {
          "output_type": "stream",
          "text": [
            "/usr/local/lib/python3.6/dist-packages/pandas/core/generic.py:5303: SettingWithCopyWarning: \n",
            "A value is trying to be set on a copy of a slice from a DataFrame.\n",
            "Try using .loc[row_indexer,col_indexer] = value instead\n",
            "\n",
            "See the caveats in the documentation: https://pandas.pydata.org/pandas-docs/stable/user_guide/indexing.html#returning-a-view-versus-a-copy\n",
            "  self[name] = value\n"
          ],
          "name": "stderr"
        }
      ]
    },
    {
      "cell_type": "code",
      "metadata": {
        "id": "A-Y68Q85MTHN",
        "colab_type": "code",
        "colab": {
          "base_uri": "https://localhost:8080/",
          "height": 379
        },
        "outputId": "91276889-4339-41ec-9886-653f3fb3b680"
      },
      "source": [
        "x_train.head(10)"
      ],
      "execution_count": 362,
      "outputs": [
        {
          "output_type": "execute_result",
          "data": {
            "text/html": [
              "<div>\n",
              "<style scoped>\n",
              "    .dataframe tbody tr th:only-of-type {\n",
              "        vertical-align: middle;\n",
              "    }\n",
              "\n",
              "    .dataframe tbody tr th {\n",
              "        vertical-align: top;\n",
              "    }\n",
              "\n",
              "    .dataframe thead th {\n",
              "        text-align: right;\n",
              "    }\n",
              "</style>\n",
              "<table border=\"1\" class=\"dataframe\">\n",
              "  <thead>\n",
              "    <tr style=\"text-align: right;\">\n",
              "      <th></th>\n",
              "      <th>Gender</th>\n",
              "      <th>ApplicantIncome</th>\n",
              "      <th>CoapplicantIncome</th>\n",
              "      <th>LoanAmount</th>\n",
              "      <th>Loan_Amount_Term</th>\n",
              "      <th>Credit_History</th>\n",
              "      <th>Dependents_0</th>\n",
              "      <th>Dependents_1</th>\n",
              "      <th>Dependents_2</th>\n",
              "      <th>Dependents_3+</th>\n",
              "      <th>PA_Rural</th>\n",
              "      <th>PA_Semiurban</th>\n",
              "      <th>PA_Urban</th>\n",
              "    </tr>\n",
              "  </thead>\n",
              "  <tbody>\n",
              "    <tr>\n",
              "      <th>564</th>\n",
              "      <td>1</td>\n",
              "      <td>8799</td>\n",
              "      <td>0.0</td>\n",
              "      <td>258.0</td>\n",
              "      <td>360.0</td>\n",
              "      <td>0.0</td>\n",
              "      <td>0</td>\n",
              "      <td>0</td>\n",
              "      <td>1</td>\n",
              "      <td>0</td>\n",
              "      <td>0</td>\n",
              "      <td>0</td>\n",
              "      <td>1</td>\n",
              "    </tr>\n",
              "    <tr>\n",
              "      <th>289</th>\n",
              "      <td>1</td>\n",
              "      <td>9508</td>\n",
              "      <td>0.0</td>\n",
              "      <td>187.0</td>\n",
              "      <td>360.0</td>\n",
              "      <td>1.0</td>\n",
              "      <td>1</td>\n",
              "      <td>0</td>\n",
              "      <td>0</td>\n",
              "      <td>0</td>\n",
              "      <td>1</td>\n",
              "      <td>0</td>\n",
              "      <td>0</td>\n",
              "    </tr>\n",
              "    <tr>\n",
              "      <th>324</th>\n",
              "      <td>1</td>\n",
              "      <td>15000</td>\n",
              "      <td>0.0</td>\n",
              "      <td>300.0</td>\n",
              "      <td>360.0</td>\n",
              "      <td>1.0</td>\n",
              "      <td>0</td>\n",
              "      <td>0</td>\n",
              "      <td>0</td>\n",
              "      <td>1</td>\n",
              "      <td>1</td>\n",
              "      <td>0</td>\n",
              "      <td>0</td>\n",
              "    </tr>\n",
              "    <tr>\n",
              "      <th>133</th>\n",
              "      <td>1</td>\n",
              "      <td>3459</td>\n",
              "      <td>0.0</td>\n",
              "      <td>25.0</td>\n",
              "      <td>120.0</td>\n",
              "      <td>1.0</td>\n",
              "      <td>1</td>\n",
              "      <td>0</td>\n",
              "      <td>0</td>\n",
              "      <td>0</td>\n",
              "      <td>0</td>\n",
              "      <td>1</td>\n",
              "      <td>0</td>\n",
              "    </tr>\n",
              "    <tr>\n",
              "      <th>175</th>\n",
              "      <td>1</td>\n",
              "      <td>3497</td>\n",
              "      <td>1964.0</td>\n",
              "      <td>116.0</td>\n",
              "      <td>360.0</td>\n",
              "      <td>1.0</td>\n",
              "      <td>1</td>\n",
              "      <td>0</td>\n",
              "      <td>0</td>\n",
              "      <td>0</td>\n",
              "      <td>1</td>\n",
              "      <td>0</td>\n",
              "      <td>0</td>\n",
              "    </tr>\n",
              "    <tr>\n",
              "      <th>340</th>\n",
              "      <td>1</td>\n",
              "      <td>2647</td>\n",
              "      <td>1587.0</td>\n",
              "      <td>173.0</td>\n",
              "      <td>360.0</td>\n",
              "      <td>1.0</td>\n",
              "      <td>0</td>\n",
              "      <td>0</td>\n",
              "      <td>0</td>\n",
              "      <td>1</td>\n",
              "      <td>1</td>\n",
              "      <td>0</td>\n",
              "      <td>0</td>\n",
              "    </tr>\n",
              "    <tr>\n",
              "      <th>178</th>\n",
              "      <td>1</td>\n",
              "      <td>3750</td>\n",
              "      <td>0.0</td>\n",
              "      <td>116.0</td>\n",
              "      <td>360.0</td>\n",
              "      <td>1.0</td>\n",
              "      <td>0</td>\n",
              "      <td>1</td>\n",
              "      <td>0</td>\n",
              "      <td>0</td>\n",
              "      <td>0</td>\n",
              "      <td>1</td>\n",
              "      <td>0</td>\n",
              "    </tr>\n",
              "    <tr>\n",
              "      <th>159</th>\n",
              "      <td>1</td>\n",
              "      <td>4583</td>\n",
              "      <td>5625.0</td>\n",
              "      <td>255.0</td>\n",
              "      <td>360.0</td>\n",
              "      <td>1.0</td>\n",
              "      <td>1</td>\n",
              "      <td>0</td>\n",
              "      <td>0</td>\n",
              "      <td>0</td>\n",
              "      <td>0</td>\n",
              "      <td>1</td>\n",
              "      <td>0</td>\n",
              "    </tr>\n",
              "    <tr>\n",
              "      <th>138</th>\n",
              "      <td>1</td>\n",
              "      <td>14999</td>\n",
              "      <td>0.0</td>\n",
              "      <td>242.0</td>\n",
              "      <td>360.0</td>\n",
              "      <td>0.0</td>\n",
              "      <td>1</td>\n",
              "      <td>0</td>\n",
              "      <td>0</td>\n",
              "      <td>0</td>\n",
              "      <td>0</td>\n",
              "      <td>1</td>\n",
              "      <td>0</td>\n",
              "    </tr>\n",
              "    <tr>\n",
              "      <th>398</th>\n",
              "      <td>1</td>\n",
              "      <td>3902</td>\n",
              "      <td>1666.0</td>\n",
              "      <td>109.0</td>\n",
              "      <td>360.0</td>\n",
              "      <td>1.0</td>\n",
              "      <td>1</td>\n",
              "      <td>0</td>\n",
              "      <td>0</td>\n",
              "      <td>0</td>\n",
              "      <td>1</td>\n",
              "      <td>0</td>\n",
              "      <td>0</td>\n",
              "    </tr>\n",
              "  </tbody>\n",
              "</table>\n",
              "</div>"
            ],
            "text/plain": [
              "     Gender  ApplicantIncome  ...  PA_Semiurban  PA_Urban\n",
              "564       1             8799  ...             0         1\n",
              "289       1             9508  ...             0         0\n",
              "324       1            15000  ...             0         0\n",
              "133       1             3459  ...             1         0\n",
              "175       1             3497  ...             0         0\n",
              "340       1             2647  ...             0         0\n",
              "178       1             3750  ...             1         0\n",
              "159       1             4583  ...             1         0\n",
              "138       1            14999  ...             1         0\n",
              "398       1             3902  ...             0         0\n",
              "\n",
              "[10 rows x 13 columns]"
            ]
          },
          "metadata": {
            "tags": []
          },
          "execution_count": 362
        }
      ]
    },
    {
      "cell_type": "code",
      "metadata": {
        "id": "bm767AlFR07D",
        "colab_type": "code",
        "colab": {
          "base_uri": "https://localhost:8080/",
          "height": 34
        },
        "outputId": "fe5469e2-bf45-4f44-de95-afca74dfb753"
      },
      "source": [
        "x_train.shape"
      ],
      "execution_count": 363,
      "outputs": [
        {
          "output_type": "execute_result",
          "data": {
            "text/plain": [
              "(488, 13)"
            ]
          },
          "metadata": {
            "tags": []
          },
          "execution_count": 363
        }
      ]
    },
    {
      "cell_type": "code",
      "metadata": {
        "id": "NnarPXf9R1DJ",
        "colab_type": "code",
        "colab": {}
      },
      "source": [
        "# from sklearn import preprocessing\n",
        "# #SS = StandardScaler()\n",
        "# x_train.LoanAmount = preprocessing.scale(data.LoanAmount)\n",
        "# #data.Credit_History = preprocessing.scale(data.Credit_History)\n",
        "# x_train.Loan_Amount_Term = preprocessing.scale(x_train.Loan_Amount_Term)\n",
        "# x_train.ApplicantIncome = preprocessing.scale(x_train.ApplicantIncome)\n",
        "# x_train.CoapplicantIncome = preprocessing.scale(x_train.CoapplicantIncome)\n",
        "\n"
      ],
      "execution_count": 364,
      "outputs": []
    },
    {
      "cell_type": "code",
      "metadata": {
        "id": "0WS7OT-KR0vE",
        "colab_type": "code",
        "colab": {
          "base_uri": "https://localhost:8080/",
          "height": 224
        },
        "outputId": "9c0ae2ec-78bf-4fe4-d427-bb960d493b79"
      },
      "source": [
        "x_train.head()"
      ],
      "execution_count": 365,
      "outputs": [
        {
          "output_type": "execute_result",
          "data": {
            "text/html": [
              "<div>\n",
              "<style scoped>\n",
              "    .dataframe tbody tr th:only-of-type {\n",
              "        vertical-align: middle;\n",
              "    }\n",
              "\n",
              "    .dataframe tbody tr th {\n",
              "        vertical-align: top;\n",
              "    }\n",
              "\n",
              "    .dataframe thead th {\n",
              "        text-align: right;\n",
              "    }\n",
              "</style>\n",
              "<table border=\"1\" class=\"dataframe\">\n",
              "  <thead>\n",
              "    <tr style=\"text-align: right;\">\n",
              "      <th></th>\n",
              "      <th>Gender</th>\n",
              "      <th>ApplicantIncome</th>\n",
              "      <th>CoapplicantIncome</th>\n",
              "      <th>LoanAmount</th>\n",
              "      <th>Loan_Amount_Term</th>\n",
              "      <th>Credit_History</th>\n",
              "      <th>Dependents_0</th>\n",
              "      <th>Dependents_1</th>\n",
              "      <th>Dependents_2</th>\n",
              "      <th>Dependents_3+</th>\n",
              "      <th>PA_Rural</th>\n",
              "      <th>PA_Semiurban</th>\n",
              "      <th>PA_Urban</th>\n",
              "    </tr>\n",
              "  </thead>\n",
              "  <tbody>\n",
              "    <tr>\n",
              "      <th>564</th>\n",
              "      <td>1</td>\n",
              "      <td>8799</td>\n",
              "      <td>0.0</td>\n",
              "      <td>258.0</td>\n",
              "      <td>360.0</td>\n",
              "      <td>0.0</td>\n",
              "      <td>0</td>\n",
              "      <td>0</td>\n",
              "      <td>1</td>\n",
              "      <td>0</td>\n",
              "      <td>0</td>\n",
              "      <td>0</td>\n",
              "      <td>1</td>\n",
              "    </tr>\n",
              "    <tr>\n",
              "      <th>289</th>\n",
              "      <td>1</td>\n",
              "      <td>9508</td>\n",
              "      <td>0.0</td>\n",
              "      <td>187.0</td>\n",
              "      <td>360.0</td>\n",
              "      <td>1.0</td>\n",
              "      <td>1</td>\n",
              "      <td>0</td>\n",
              "      <td>0</td>\n",
              "      <td>0</td>\n",
              "      <td>1</td>\n",
              "      <td>0</td>\n",
              "      <td>0</td>\n",
              "    </tr>\n",
              "    <tr>\n",
              "      <th>324</th>\n",
              "      <td>1</td>\n",
              "      <td>15000</td>\n",
              "      <td>0.0</td>\n",
              "      <td>300.0</td>\n",
              "      <td>360.0</td>\n",
              "      <td>1.0</td>\n",
              "      <td>0</td>\n",
              "      <td>0</td>\n",
              "      <td>0</td>\n",
              "      <td>1</td>\n",
              "      <td>1</td>\n",
              "      <td>0</td>\n",
              "      <td>0</td>\n",
              "    </tr>\n",
              "    <tr>\n",
              "      <th>133</th>\n",
              "      <td>1</td>\n",
              "      <td>3459</td>\n",
              "      <td>0.0</td>\n",
              "      <td>25.0</td>\n",
              "      <td>120.0</td>\n",
              "      <td>1.0</td>\n",
              "      <td>1</td>\n",
              "      <td>0</td>\n",
              "      <td>0</td>\n",
              "      <td>0</td>\n",
              "      <td>0</td>\n",
              "      <td>1</td>\n",
              "      <td>0</td>\n",
              "    </tr>\n",
              "    <tr>\n",
              "      <th>175</th>\n",
              "      <td>1</td>\n",
              "      <td>3497</td>\n",
              "      <td>1964.0</td>\n",
              "      <td>116.0</td>\n",
              "      <td>360.0</td>\n",
              "      <td>1.0</td>\n",
              "      <td>1</td>\n",
              "      <td>0</td>\n",
              "      <td>0</td>\n",
              "      <td>0</td>\n",
              "      <td>1</td>\n",
              "      <td>0</td>\n",
              "      <td>0</td>\n",
              "    </tr>\n",
              "  </tbody>\n",
              "</table>\n",
              "</div>"
            ],
            "text/plain": [
              "     Gender  ApplicantIncome  ...  PA_Semiurban  PA_Urban\n",
              "564       1             8799  ...             0         1\n",
              "289       1             9508  ...             0         0\n",
              "324       1            15000  ...             0         0\n",
              "133       1             3459  ...             1         0\n",
              "175       1             3497  ...             0         0\n",
              "\n",
              "[5 rows x 13 columns]"
            ]
          },
          "metadata": {
            "tags": []
          },
          "execution_count": 365
        }
      ]
    },
    {
      "cell_type": "code",
      "metadata": {
        "id": "8j5eJqpTkp2b",
        "colab_type": "code",
        "colab": {
          "base_uri": "https://localhost:8080/",
          "height": 296
        },
        "outputId": "6e5f2aa1-b8b3-4188-b0c7-cc0856397d25"
      },
      "source": [
        "sns.boxplot(x_train['LoanAmount'])"
      ],
      "execution_count": 366,
      "outputs": [
        {
          "output_type": "execute_result",
          "data": {
            "text/plain": [
              "<matplotlib.axes._subplots.AxesSubplot at 0x7f3b0c823358>"
            ]
          },
          "metadata": {
            "tags": []
          },
          "execution_count": 366
        },
        {
          "output_type": "display_data",
          "data": {
            "image/png": "[encoded data removed]",
            "text/plain": [
              "<Figure size 432x288 with 1 Axes>"
            ]
          },
          "metadata": {
            "tags": [],
            "needs_background": "light"
          }
        }
      ]
    },
    {
      "cell_type": "code",
      "metadata": {
        "id": "hJo7e7qekpp4",
        "colab_type": "code",
        "colab": {
          "base_uri": "https://localhost:8080/",
          "height": 297
        },
        "outputId": "f7eee9d3-59e8-4c0d-ba41-842e824cdf0f"
      },
      "source": [
        "sns.boxplot(x_train['Loan_Amount_Term'])"
      ],
      "execution_count": 367,
      "outputs": [
        {
          "output_type": "execute_result",
          "data": {
            "text/plain": [
              "<matplotlib.axes._subplots.AxesSubplot at 0x7f3b0c0f9c18>"
            ]
          },
          "metadata": {
            "tags": []
          },
          "execution_count": 367
        },
        {
          "output_type": "display_data",
          "data": {
            "image/png": "[encoded data removed]",
            "text/plain": [
              "<Figure size 432x288 with 1 Axes>"
            ]
          },
          "metadata": {
            "tags": [],
            "needs_background": "light"
          }
        }
      ]
    },
    {
      "cell_type": "code",
      "metadata": {
        "id": "H7GbaY2SqZNf",
        "colab_type": "code",
        "colab": {
          "base_uri": "https://localhost:8080/",
          "height": 170
        },
        "outputId": "505a3aab-dea1-4d13-f225-4a14141c89e1"
      },
      "source": [
        "x_train.Loan_Amount_Term.describe()"
      ],
      "execution_count": 368,
      "outputs": [
        {
          "output_type": "execute_result",
          "data": {
            "text/plain": [
              "count    488.000000\n",
              "mean     342.565574\n",
              "std       63.618794\n",
              "min       36.000000\n",
              "25%      360.000000\n",
              "50%      360.000000\n",
              "75%      360.000000\n",
              "max      480.000000\n",
              "Name: Loan_Amount_Term, dtype: float64"
            ]
          },
          "metadata": {
            "tags": []
          },
          "execution_count": 368
        }
      ]
    },
    {
      "cell_type": "code",
      "metadata": {
        "id": "CfnABvRol4-7",
        "colab_type": "code",
        "colab": {
          "base_uri": "https://localhost:8080/",
          "height": 296
        },
        "outputId": "d6116b9d-8201-49c2-d36b-816957f9b158"
      },
      "source": [
        "sns.boxplot(x_train['ApplicantIncome'])"
      ],
      "execution_count": 369,
      "outputs": [
        {
          "output_type": "execute_result",
          "data": {
            "text/plain": [
              "<matplotlib.axes._subplots.AxesSubplot at 0x7f3b0c060fd0>"
            ]
          },
          "metadata": {
            "tags": []
          },
          "execution_count": 369
        },
        {
          "output_type": "display_data",
          "data": {
            "image/png": "[encoded data removed]",
            "text/plain": [
              "<Figure size 432x288 with 1 Axes>"
            ]
          },
          "metadata": {
            "tags": [],
            "needs_background": "light"
          }
        }
      ]
    },
    {
      "cell_type": "code",
      "metadata": {
        "id": "qPsfLzaZl5He",
        "colab_type": "code",
        "colab": {
          "base_uri": "https://localhost:8080/",
          "height": 296
        },
        "outputId": "f78f02d2-1ae7-4d14-e8f1-c17c178ff189"
      },
      "source": [
        "sns.boxplot(x_train['CoapplicantIncome'])"
      ],
      "execution_count": 370,
      "outputs": [
        {
          "output_type": "execute_result",
          "data": {
            "text/plain": [
              "<matplotlib.axes._subplots.AxesSubplot at 0x7f3b0c027d30>"
            ]
          },
          "metadata": {
            "tags": []
          },
          "execution_count": 370
        },
        {
          "output_type": "display_data",
          "data": {
            "image/png": "[encoded data removed]",
            "text/plain": [
              "<Figure size 432x288 with 1 Axes>"
            ]
          },
          "metadata": {
            "tags": [],
            "needs_background": "light"
          }
        }
      ]
    },
    {
      "cell_type": "code",
      "metadata": {
        "id": "NC-9PBuql5D9",
        "colab_type": "code",
        "colab": {}
      },
      "source": [
        "#from sklearn import MinMaxScaler"
      ],
      "execution_count": 371,
      "outputs": []
    },
    {
      "cell_type": "code",
      "metadata": {
        "id": "6Y-u2R73l460",
        "colab_type": "code",
        "colab": {
          "base_uri": "https://localhost:8080/",
          "height": 1000
        },
        "outputId": "eed32bf5-9218-46c6-ffee-640a41e0d958"
      },
      "source": [
        "x_train.hist(figsize=(20,20))"
      ],
      "execution_count": 372,
      "outputs": [
        {
          "output_type": "execute_result",
          "data": {
            "text/plain": [
              "array([[<matplotlib.axes._subplots.AxesSubplot object at 0x7f3b0bfa8828>,\n",
              "        <matplotlib.axes._subplots.AxesSubplot object at 0x7f3b0bf5a0b8>,\n",
              "        <matplotlib.axes._subplots.AxesSubplot object at 0x7f3b0bf0a438>,\n",
              "        <matplotlib.axes._subplots.AxesSubplot object at 0x7f3b0bf3e7b8>],\n",
              "       [<matplotlib.axes._subplots.AxesSubplot object at 0x7f3b0beeeb38>,\n",
              "        <matplotlib.axes._subplots.AxesSubplot object at 0x7f3b0bea3eb8>,\n",
              "        <matplotlib.axes._subplots.AxesSubplot object at 0x7f3b0be61278>,\n",
              "        <matplotlib.axes._subplots.AxesSubplot object at 0x7f3b0be145c0>],\n",
              "       [<matplotlib.axes._subplots.AxesSubplot object at 0x7f3b0be14630>,\n",
              "        <matplotlib.axes._subplots.AxesSubplot object at 0x7f3b0bdf6cf8>,\n",
              "        <matplotlib.axes._subplots.AxesSubplot object at 0x7f3b0bdb50b8>,\n",
              "        <matplotlib.axes._subplots.AxesSubplot object at 0x7f3b0bd66438>],\n",
              "       [<matplotlib.axes._subplots.AxesSubplot object at 0x7f3b0bd197b8>,\n",
              "        <matplotlib.axes._subplots.AxesSubplot object at 0x7f3b0bcccb38>,\n",
              "        <matplotlib.axes._subplots.AxesSubplot object at 0x7f3b0bcfeeb8>,\n",
              "        <matplotlib.axes._subplots.AxesSubplot object at 0x7f3b0bcbd278>]],\n",
              "      dtype=object)"
            ]
          },
          "metadata": {
            "tags": []
          },
          "execution_count": 372
        },
        {
          "output_type": "display_data",
          "data": {
            "image/png": "[encoded data removed]",
            "text/plain": [
              "<Figure size 1440x1440 with 16 Axes>"
            ]
          },
          "metadata": {
            "tags": [],
            "needs_background": "light"
          }
        }
      ]
    },
    {
      "cell_type": "code",
      "metadata": {
        "id": "oR8Dm3hEDOdo",
        "colab_type": "code",
        "colab": {}
      },
      "source": [
        "from sklearn.model_selection import train_test_split\n",
        "from sklearn import svm\n",
        "from sklearn.tree import DecisionTreeClassifier\n",
        "from sklearn.ensemble import RandomForestClassifier, AdaBoostClassifier,GradientBoostingClassifier\n",
        "from sklearn.linear_model import LogisticRegression\n"
      ],
      "execution_count": 373,
      "outputs": []
    },
    {
      "cell_type": "code",
      "metadata": {
        "id": "wZGdN0qKHMEI",
        "colab_type": "code",
        "colab": {}
      },
      "source": [
        "from sklearn.metrics import accuracy_score,confusion_matrix\n",
        "from sklearn.metrics import classification_report,roc_auc_score,roc_curve"
      ],
      "execution_count": 374,
      "outputs": []
    },
    {
      "cell_type": "code",
      "metadata": {
        "id": "3CS5UQ__2lRv",
        "colab_type": "code",
        "colab": {}
      },
      "source": [
        "# x = data.drop(['Loan_Status','Loan_ID'],axis=1)\n",
        "# y = data['Loan_Status']"
      ],
      "execution_count": 375,
      "outputs": []
    },
    {
      "cell_type": "code",
      "metadata": {
        "id": "1QNM1zue2lT_",
        "colab_type": "code",
        "colab": {}
      },
      "source": [
        "#x_train,x_test,y_train,y_test = train_test_split(x,y, test_size=0.2, random_state=42, shuffle=True)"
      ],
      "execution_count": 376,
      "outputs": []
    },
    {
      "cell_type": "code",
      "metadata": {
        "id": "Ge0m7wiU9RJm",
        "colab_type": "code",
        "colab": {
          "base_uri": "https://localhost:8080/",
          "height": 153
        },
        "outputId": "505a232f-d1b3-47b8-ae9f-f4ccc1acdfb8"
      },
      "source": [
        "print(x_train.head())\n",
        "#print(y_train)"
      ],
      "execution_count": 377,
      "outputs": [
        {
          "output_type": "stream",
          "text": [
            "     Gender  ApplicantIncome  ...  PA_Semiurban  PA_Urban\n",
            "564       1             8799  ...             0         1\n",
            "289       1             9508  ...             0         0\n",
            "324       1            15000  ...             0         0\n",
            "133       1             3459  ...             1         0\n",
            "175       1             3497  ...             0         0\n",
            "\n",
            "[5 rows x 13 columns]\n"
          ],
          "name": "stdout"
        }
      ]
    },
    {
      "cell_type": "code",
      "metadata": {
        "id": "O1LvTRbn2lY3",
        "colab_type": "code",
        "colab": {
          "base_uri": "https://localhost:8080/",
          "height": 567
        },
        "outputId": "40d488cb-5424-49ef-d6f7-0c818b5a68e6"
      },
      "source": [
        "lr = LogisticRegression()\n",
        "lr.fit(x_train,y_train)\n",
        "y_pred = lr.predict(x_test)\n",
        "y_proba = lr.predict_proba(x_test)\n",
        "y_proba = y_proba[:,1]\n",
        "fper,tper,threshold = roc_curve(y_test,y_proba)\n",
        "acc = accuracy_score(y_test,y_pred)\n",
        "print('Accuracy_score=',acc)\n",
        "print('='*40)\n",
        "print(confusion_matrix(y_test,y_pred))\n",
        "print('='*40)\n",
        "print(classification_report(y_test,y_pred))\n",
        "print('='*40)\n",
        "print(roc_auc_score(y_test,y_proba))\n",
        "plt.plot(fper,tper)\n",
        "plt.plot([0,1],[0,1],'k--')\n",
        "plt.xlabel('False positive rate')\n",
        "plt.ylabel('True positive rate')\n",
        "plt.title('LR ROC_CURVE')\n",
        "plt.show()"
      ],
      "execution_count": 378,
      "outputs": [
        {
          "output_type": "stream",
          "text": [
            "Accuracy_score= 0.8211382113821138\n",
            "========================================\n",
            "[[83  5]\n",
            " [17 18]]\n",
            "========================================\n",
            "              precision    recall  f1-score   support\n",
            "\n",
            "           0       0.83      0.94      0.88        88\n",
            "           1       0.78      0.51      0.62        35\n",
            "\n",
            "    accuracy                           0.82       123\n",
            "   macro avg       0.81      0.73      0.75       123\n",
            "weighted avg       0.82      0.82      0.81       123\n",
            "\n",
            "========================================\n",
            "0.7737012987012986\n"
          ],
          "name": "stdout"
        },
        {
          "output_type": "display_data",
          "data": {
            "image/png": "[encoded data removed]",
            "text/plain": [
              "<Figure size 432x288 with 1 Axes>"
            ]
          },
          "metadata": {
            "tags": [],
            "needs_background": "light"
          }
        }
      ]
    },
    {
      "cell_type": "code",
      "metadata": {
        "id": "L7unuIGJGjOP",
        "colab_type": "code",
        "colab": {
          "base_uri": "https://localhost:8080/",
          "height": 34
        },
        "outputId": "be28a367-5ef0-4e58-d5c3-c1f0c4add47e"
      },
      "source": [
        "i =[0.0001,0.001,0.01,0.1,10]\n",
        "test_score = []\n",
        "for c in i:\n",
        "  clf = svm.SVC(C=c) #,gamma=0.1)\n",
        "  clf.fit(x_train,y_train)\n",
        "  y_pred=clf.predict(x_test)\n",
        "  acc = accuracy_score(y_test,y_pred)\n",
        "  test_score.append(acc)\n",
        "print(test_score)\n",
        "  \n"
      ],
      "execution_count": 379,
      "outputs": [
        {
          "output_type": "stream",
          "text": [
            "[0.7154471544715447, 0.7154471544715447, 0.7154471544715447, 0.7154471544715447, 0.7154471544715447]\n"
          ],
          "name": "stdout"
        }
      ]
    },
    {
      "cell_type": "markdown",
      "metadata": {
        "id": "wdoAEVcmPYG4",
        "colab_type": "text"
      },
      "source": [
        "So, C=0.1 gives optimum value."
      ]
    },
    {
      "cell_type": "code",
      "metadata": {
        "id": "GMk8TdDIPWb1",
        "colab_type": "code",
        "colab": {
          "base_uri": "https://localhost:8080/",
          "height": 621
        },
        "outputId": "15916768-c23d-4667-e1ab-61de7963befc"
      },
      "source": [
        "clf=svm.SVC(C=0.1)          #gamma=0.1)\n",
        "clf.fit(x_train,y_train)\n",
        "y_pred=clf.predict(x_test)\n",
        "acc = accuracy_score(y_test,y_pred)\n",
        "print(acc)\n",
        "print('='*40)\n",
        "print(confusion_matrix(y_test,y_pred))\n",
        "print('='*40)\n",
        "print(classification_report(y_test,y_pred))\n",
        "print('='*40)\n",
        "print(roc_auc_score(y_test,y_proba))\n",
        "plt.plot(fper,tper)\n",
        "plt.plot([0,1],[0,1],'k--')\n",
        "plt.xlabel('False positive rate')\n",
        "plt.ylabel('True positive rate')\n",
        "plt.title('LR ROC_CURVE')\n",
        "plt.show()\n"
      ],
      "execution_count": 380,
      "outputs": [
        {
          "output_type": "stream",
          "text": [
            "0.7154471544715447\n",
            "========================================\n",
            "[[88  0]\n",
            " [35  0]]\n",
            "========================================\n",
            "              precision    recall  f1-score   support\n",
            "\n",
            "           0       0.72      1.00      0.83        88\n",
            "           1       0.00      0.00      0.00        35\n",
            "\n",
            "    accuracy                           0.72       123\n",
            "   macro avg       0.36      0.50      0.42       123\n",
            "weighted avg       0.51      0.72      0.60       123\n",
            "\n",
            "========================================\n",
            "0.7737012987012986\n"
          ],
          "name": "stdout"
        },
        {
          "output_type": "stream",
          "text": [
            "/usr/local/lib/python3.6/dist-packages/sklearn/metrics/_classification.py:1272: UndefinedMetricWarning: Precision and F-score are ill-defined and being set to 0.0 in labels with no predicted samples. Use `zero_division` parameter to control this behavior.\n",
            "  _warn_prf(average, modifier, msg_start, len(result))\n"
          ],
          "name": "stderr"
        },
        {
          "output_type": "display_data",
          "data": {
            "image/png": "[encoded data removed]",
            "text/plain": [
              "<Figure size 432x288 with 1 Axes>"
            ]
          },
          "metadata": {
            "tags": [],
            "needs_background": "light"
          }
        }
      ]
    },
    {
      "cell_type": "code",
      "metadata": {
        "id": "hhJ1-VG7HKVi",
        "colab_type": "code",
        "colab": {
          "base_uri": "https://localhost:8080/",
          "height": 567
        },
        "outputId": "1a61a1c9-f1d2-42b9-bf24-1155e4b47f86"
      },
      "source": [
        "ran = RandomForestClassifier(n_estimators=100,criterion='entropy',max_depth=5,max_features=2)\n",
        "ran.fit(x_train,y_train)\n",
        "y_pred= ran.predict(x_test)\n",
        "acc = accuracy_score(y_test,y_pred)\n",
        "print(acc)\n",
        "print('='*40)\n",
        "print(confusion_matrix(y_test,y_pred))\n",
        "print('='*40)\n",
        "print(classification_report(y_test,y_pred))\n",
        "print('='*40)\n",
        "print(roc_auc_score(y_test,y_proba))\n",
        "plt.plot(fper,tper)\n",
        "plt.plot([0,1],[0,1],'k--')\n",
        "plt.xlabel('False positive rate')\n",
        "plt.ylabel('True positive rate')\n",
        "plt.title('Random_Forest ROC_CURVE')\n",
        "plt.show()\n"
      ],
      "execution_count": 381,
      "outputs": [
        {
          "output_type": "stream",
          "text": [
            "0.8211382113821138\n",
            "========================================\n",
            "[[83  5]\n",
            " [17 18]]\n",
            "========================================\n",
            "              precision    recall  f1-score   support\n",
            "\n",
            "           0       0.83      0.94      0.88        88\n",
            "           1       0.78      0.51      0.62        35\n",
            "\n",
            "    accuracy                           0.82       123\n",
            "   macro avg       0.81      0.73      0.75       123\n",
            "weighted avg       0.82      0.82      0.81       123\n",
            "\n",
            "========================================\n",
            "0.7737012987012986\n"
          ],
          "name": "stdout"
        },
        {
          "output_type": "display_data",
          "data": {
            "image/png": "[encoded data removed]",
            "text/plain": [
              "<Figure size 432x288 with 1 Axes>"
            ]
          },
          "metadata": {
            "tags": [],
            "needs_background": "light"
          }
        }
      ]
    },
    {
      "cell_type": "code",
      "metadata": {
        "id": "xErTLdvFKQkJ",
        "colab_type": "code",
        "colab": {
          "base_uri": "https://localhost:8080/",
          "height": 224
        },
        "outputId": "3105d2c5-61a8-4c2e-f279-9563f1a23fec"
      },
      "source": [
        "from sklearn.ensemble import VotingClassifier\n",
        "from sklearn.neighbors import KNeighborsClassifier\n",
        "#VC = VotingClassifier()\n",
        "lr = LogisticRegression(max_iter=50,random_state=42)\n",
        "knn = KNeighborsClassifier()\n",
        "dt = DecisionTreeClassifier(max_depth=5,max_features=2,random_state=42)\n",
        "Classifiers = [('Logistic Regression',lr),('K Nearest Neighbour',knn),('Decision Tree',dt)]\n",
        "for clf_name,clf in Classifiers:\n",
        "  clf.fit(x_train,y_train)\n",
        "  y_pred=clf.predict(x_test)\n",
        "  acc = accuracy_score(y_test,y_pred)\n",
        "  print(acc)\n",
        "  #print(':s',':.3f'.format(clf_name,accuracy_score(y_test,y_pred)))"
      ],
      "execution_count": 382,
      "outputs": [
        {
          "output_type": "stream",
          "text": [
            "0.8211382113821138\n",
            "0.6097560975609756\n",
            "0.8130081300813008\n"
          ],
          "name": "stdout"
        },
        {
          "output_type": "stream",
          "text": [
            "/usr/local/lib/python3.6/dist-packages/sklearn/linear_model/_logistic.py:940: ConvergenceWarning: lbfgs failed to converge (status=1):\n",
            "STOP: TOTAL NO. of ITERATIONS REACHED LIMIT.\n",
            "\n",
            "Increase the number of iterations (max_iter) or scale the data as shown in:\n",
            "    https://scikit-learn.org/stable/modules/preprocessing.html\n",
            "Please also refer to the documentation for alternative solver options:\n",
            "    https://scikit-learn.org/stable/modules/linear_model.html#logistic-regression\n",
            "  extra_warning_msg=_LOGISTIC_SOLVER_CONVERGENCE_MSG)\n"
          ],
          "name": "stderr"
        }
      ]
    },
    {
      "cell_type": "code",
      "metadata": {
        "id": "6Rl_Gkiecn1J",
        "colab_type": "code",
        "colab": {
          "base_uri": "https://localhost:8080/",
          "height": 723
        },
        "outputId": "8f7d6623-32e2-4ea6-ec81-3cd9c68b8088"
      },
      "source": [
        "VC = VotingClassifier(estimators=Classifiers)\n",
        "VC.fit(x_train,y_train)\n",
        "y_pred = VC.predict(x_test)\n",
        "acc = accuracy_score(y_test,y_pred)\n",
        "print(acc)\n",
        "print('='*40)\n",
        "print(confusion_matrix(y_test,y_pred))\n",
        "print('='*40)\n",
        "print(classification_report(y_test,y_pred))\n",
        "print('='*40)\n",
        "print(roc_auc_score(y_test,y_proba))\n",
        "plt.plot(fper,tper)\n",
        "plt.plot([0,1],[0,1],'k--')\n",
        "plt.xlabel('False positive rate')\n",
        "plt.ylabel('True positive rate')\n",
        "plt.title('Random_Forest ROC_CURVE')\n",
        "plt.show()\n"
      ],
      "execution_count": 383,
      "outputs": [
        {
          "output_type": "stream",
          "text": [
            "0.8211382113821138\n",
            "========================================\n",
            "[[82  6]\n",
            " [16 19]]\n",
            "========================================\n",
            "              precision    recall  f1-score   support\n",
            "\n",
            "           0       0.84      0.93      0.88        88\n",
            "           1       0.76      0.54      0.63        35\n",
            "\n",
            "    accuracy                           0.82       123\n",
            "   macro avg       0.80      0.74      0.76       123\n",
            "weighted avg       0.81      0.82      0.81       123\n",
            "\n",
            "========================================\n",
            "0.7737012987012986\n"
          ],
          "name": "stdout"
        },
        {
          "output_type": "stream",
          "text": [
            "/usr/local/lib/python3.6/dist-packages/sklearn/linear_model/_logistic.py:940: ConvergenceWarning: lbfgs failed to converge (status=1):\n",
            "STOP: TOTAL NO. of ITERATIONS REACHED LIMIT.\n",
            "\n",
            "Increase the number of iterations (max_iter) or scale the data as shown in:\n",
            "    https://scikit-learn.org/stable/modules/preprocessing.html\n",
            "Please also refer to the documentation for alternative solver options:\n",
            "    https://scikit-learn.org/stable/modules/linear_model.html#logistic-regression\n",
            "  extra_warning_msg=_LOGISTIC_SOLVER_CONVERGENCE_MSG)\n"
          ],
          "name": "stderr"
        },
        {
          "output_type": "display_data",
          "data": {
            "image/png": "[encoded data removed]",
            "text/plain": [
              "<Figure size 432x288 with 1 Axes>"
            ]
          },
          "metadata": {
            "tags": [],
            "needs_background": "light"
          }
        }
      ]
    },
    {
      "cell_type": "code",
      "metadata": {
        "id": "UWmcQTkQdZFw",
        "colab_type": "code",
        "colab": {}
      },
      "source": [
        "# from sklearn.decomposition import PCA\n",
        "# features = data['Education','LoanAmount','Self_Employed','PropertyArea','Gender','Married','Dependent','Applicant_Income','CoapplicantIncome','Loan_Amount_Term','Credit_History']\n",
        "# x = data.loc[:,features].values\n",
        "# y = data.loc[['Loan_Status']].values\n",
        "# x = StandardScaler.fit_transform(x)\n",
        "# pca = PCA(n_components=4)\n",
        "# prin_comp = pca.fit_transform(x)\n"
      ],
      "execution_count": 384,
      "outputs": []
    },
    {
      "cell_type": "code",
      "metadata": {
        "id": "0hwd02HSkBVf",
        "colab_type": "code",
        "colab": {}
      },
      "source": [
        "# from sklearn.decomposition import PCA\n",
        "# pca = PCA(0.99)\n",
        "# x_train  = pca.fit_transform(x_train)\n",
        "# x_test = pca.fit_transform(x_test)\n",
        "# lr = LogisticRegression(max_iter=50,random_state=42)\n",
        "# lr.fit(x_train,y_train)\n",
        "# y_pred = lr.predict(x_test)\n",
        "# acc = accuracy_score(y_test,y_pred)\n",
        "# print(acc)"
      ],
      "execution_count": 385,
      "outputs": []
    },
    {
      "cell_type": "code",
      "metadata": {
        "id": "AkF_lL5sl4sz",
        "colab_type": "code",
        "colab": {
          "base_uri": "https://localhost:8080/",
          "height": 54
        },
        "outputId": "5a331b33-7f3e-4d1b-b3a5-04bbc610ba49"
      },
      "source": [
        "from sklearn.ensemble import BaggingClassifier\n",
        "dt = DecisionTreeClassifier(max_depth=5,max_features=2,random_state=42)\n",
        "n =[5,15,25,50,100,300,500,1000]\n",
        "test_score=[]\n",
        "for k in n:\n",
        "  bc = BaggingClassifier(base_estimator=dt,n_estimators=k,n_jobs=-1)\n",
        "  bc.fit(x_train,y_train)\n",
        "  y_pred = bc.predict(x_test)\n",
        "  acc = accuracy_score(y_test,y_pred)\n",
        "  test_score.append(acc)\n",
        "print(test_score)\n",
        "\n"
      ],
      "execution_count": 386,
      "outputs": [
        {
          "output_type": "stream",
          "text": [
            "[0.8292682926829268, 0.8130081300813008, 0.8130081300813008, 0.8211382113821138, 0.8048780487804879, 0.8211382113821138, 0.8211382113821138, 0.8211382113821138]\n"
          ],
          "name": "stdout"
        }
      ]
    },
    {
      "cell_type": "markdown",
      "metadata": {
        "id": "eUXWvZ0inpeB",
        "colab_type": "text"
      },
      "source": [
        "so, n_estimator = 25 gives optimum result"
      ]
    },
    {
      "cell_type": "code",
      "metadata": {
        "id": "BEUh_nXAIbEd",
        "colab_type": "code",
        "colab": {
          "base_uri": "https://localhost:8080/",
          "height": 601
        },
        "outputId": "fafbca13-1694-41d6-f1ec-af9b8f7bcdf0"
      },
      "source": [
        "import xgboost as xgb\n",
        "#Instantiating the classifier and fitting it\n",
        "xgb_clf= xgb.XGBClassifier(learning_rate=0.01)\n",
        "xgb_clf.fit(x_train,y_train)\n",
        "#Applying classifier on Train set\n",
        "predictions = xgb_clf.predict(x_train)\n",
        "accuracy = accuracy_score(y_train,predictions)\n",
        "print(np.round(accuracy*100,2),'%')\n",
        "#Applying Classifier for test set\n",
        "predictions = xgb_clf.predict(x_test)\n",
        "accuracy = accuracy_score(y_test,predictions)\n",
        "print(np.round(accuracy*100,2),'%')\n",
        "\n",
        "acc = accuracy_score(y_test,y_pred)\n",
        "print(acc)\n",
        "print('='*40)\n",
        "print(confusion_matrix(y_test,y_pred))\n",
        "print('='*40)\n",
        "print(classification_report(y_test,y_pred))\n",
        "print('='*40)\n",
        "print(roc_auc_score(y_test,y_proba))\n",
        "plt.plot(fper,tper)\n",
        "plt.plot([0,1],[0,1],'k--')\n",
        "plt.xlabel('False positive rate')\n",
        "plt.ylabel('True positive rate')\n",
        "plt.title('Random_Forest ROC_CURVE')\n",
        "plt.show()\n"
      ],
      "execution_count": 387,
      "outputs": [
        {
          "output_type": "stream",
          "text": [
            "80.12 %\n",
            "82.11 %\n",
            "0.8211382113821138\n",
            "========================================\n",
            "[[83  5]\n",
            " [17 18]]\n",
            "========================================\n",
            "              precision    recall  f1-score   support\n",
            "\n",
            "           0       0.83      0.94      0.88        88\n",
            "           1       0.78      0.51      0.62        35\n",
            "\n",
            "    accuracy                           0.82       123\n",
            "   macro avg       0.81      0.73      0.75       123\n",
            "weighted avg       0.82      0.82      0.81       123\n",
            "\n",
            "========================================\n",
            "0.7737012987012986\n"
          ],
          "name": "stdout"
        },
        {
          "output_type": "display_data",
          "data": {
            "image/png": "[encoded data removed]",
            "text/plain": [
              "<Figure size 432x288 with 1 Axes>"
            ]
          },
          "metadata": {
            "tags": [],
            "needs_background": "light"
          }
        }
      ]
    },
    {
      "cell_type": "code",
      "metadata": {
        "id": "Mdvf3E3VIbCo",
        "colab_type": "code",
        "colab": {
          "base_uri": "https://localhost:8080/",
          "height": 567
        },
        "outputId": "2729ccfb-d590-40d0-d4e3-d7cbeae9f351"
      },
      "source": [
        "clf = AdaBoostClassifier(RandomForestClassifier(n_estimators = 15, max_depth = 3),n_estimators=15, random_state=47)\n",
        "clf.fit(x_train,y_train)\n",
        "y_pred= ran.predict(x_test)\n",
        "acc = accuracy_score(y_test,y_pred)\n",
        "print(acc)\n",
        "print('='*40)\n",
        "print(confusion_matrix(y_test,y_pred))\n",
        "print('='*40)\n",
        "print(classification_report(y_test,y_pred))\n",
        "print('='*40)\n",
        "print(roc_auc_score(y_test,y_proba))\n",
        "plt.plot(fper,tper)\n",
        "plt.plot([0,1],[0,1],'k--')\n",
        "plt.xlabel('False positive rate')\n",
        "plt.ylabel('True positive rate')\n",
        "plt.title('Random_Forest ROC_CURVE')\n",
        "plt.show()\n"
      ],
      "execution_count": 388,
      "outputs": [
        {
          "output_type": "stream",
          "text": [
            "0.8211382113821138\n",
            "========================================\n",
            "[[83  5]\n",
            " [17 18]]\n",
            "========================================\n",
            "              precision    recall  f1-score   support\n",
            "\n",
            "           0       0.83      0.94      0.88        88\n",
            "           1       0.78      0.51      0.62        35\n",
            "\n",
            "    accuracy                           0.82       123\n",
            "   macro avg       0.81      0.73      0.75       123\n",
            "weighted avg       0.82      0.82      0.81       123\n",
            "\n",
            "========================================\n",
            "0.7737012987012986\n"
          ],
          "name": "stdout"
        },
        {
          "output_type": "display_data",
          "data": {
            "image/png": "[encoded data removed]",
            "text/plain": [
              "<Figure size 432x288 with 1 Axes>"
            ]
          },
          "metadata": {
            "tags": [],
            "needs_background": "light"
          }
        }
      ]
    },
    {
      "cell_type": "code",
      "metadata": {
        "id": "fy5eUaqKIbAb",
        "colab_type": "code",
        "colab": {
          "base_uri": "https://localhost:8080/",
          "height": 567
        },
        "outputId": "d848e265-3232-4bbe-a92c-70ee4560b77f"
      },
      "source": [
        "from sklearn.neural_network import MLPClassifier\n",
        "from sklearn.ensemble import GradientBoostingClassifier\n",
        "from sklearn.experimental import enable_hist_gradient_boosting\n",
        "from sklearn.ensemble import HistGradientBoostingClassifier\n",
        "from sklearn.naive_bayes import GaussianNB\n",
        "clf = GradientBoostingClassifier()# accuracy= 0.859\n",
        "\n",
        "#clf = HistGradientBoostingClassifier()# accuracy = 0.854\n",
        "\n",
        "#clf = MLPClassifier(hidden_layer_sizes=(10,5,3), activation='relu', solver='adam', alpha=0.3, batch_size=200, learning_rate=  'adaptive', learning_rate_init=0.01\n",
        "#                     , max_iter=200, shuffle=True, random_state=42, momentum=0.9, nesterovs_momentum=True,\n",
        "#                     early_stopping=True, beta_1=0.9, beta_2=0.999, epsilon=1e-08, n_iter_no_change=100,verbose=False)# accuracy = 0.88\n",
        "\n",
        "clf.fit(x_train,y_train)\n",
        "y_pred= ran.predict(x_test)\n",
        "acc = accuracy_score(y_test,y_pred)\n",
        "print(acc)\n",
        "print('='*40)\n",
        "print(confusion_matrix(y_test,y_pred))\n",
        "print('='*40)\n",
        "print(classification_report(y_test,y_pred))\n",
        "print('='*40)\n",
        "print(roc_auc_score(y_test,y_proba))\n",
        "plt.plot(fper,tper)\n",
        "plt.plot([0,1],[0,1],'k--')\n",
        "plt.xlabel('False positive rate')\n",
        "plt.ylabel('True positive rate')\n",
        "plt.title('Random_Forest ROC_CURVE')\n",
        "plt.show()\n"
      ],
      "execution_count": 389,
      "outputs": [
        {
          "output_type": "stream",
          "text": [
            "0.8211382113821138\n",
            "========================================\n",
            "[[83  5]\n",
            " [17 18]]\n",
            "========================================\n",
            "              precision    recall  f1-score   support\n",
            "\n",
            "           0       0.83      0.94      0.88        88\n",
            "           1       0.78      0.51      0.62        35\n",
            "\n",
            "    accuracy                           0.82       123\n",
            "   macro avg       0.81      0.73      0.75       123\n",
            "weighted avg       0.82      0.82      0.81       123\n",
            "\n",
            "========================================\n",
            "0.7737012987012986\n"
          ],
          "name": "stdout"
        },
        {
          "output_type": "display_data",
          "data": {
            "image/png": "[encoded data removed]",
            "text/plain": [
              "<Figure size 432x288 with 1 Axes>"
            ]
          },
          "metadata": {
            "tags": [],
            "needs_background": "light"
          }
        }
      ]
    },
    {
      "cell_type": "code",
      "metadata": {
        "id": "oRQ3zTzkIa-o",
        "colab_type": "code",
        "colab": {
          "base_uri": "https://localhost:8080/",
          "height": 567
        },
        "outputId": "0f168015-204a-4a7d-e6d9-ee3f333e90fe"
      },
      "source": [
        "clf = GaussianNB()\n",
        "clf.fit(x_train,y_train)\n",
        "y_pred= ran.predict(x_test)\n",
        "acc = accuracy_score(y_test,y_pred)\n",
        "print(acc)\n",
        "print('='*40)\n",
        "print(confusion_matrix(y_test,y_pred))\n",
        "print('='*40)\n",
        "print(classification_report(y_test,y_pred))\n",
        "print('='*40)\n",
        "print(roc_auc_score(y_test,y_proba))\n",
        "plt.plot(fper,tper)\n",
        "plt.plot([0,1],[0,1],'k--')\n",
        "plt.xlabel('False positive rate')\n",
        "plt.ylabel('True positive rate')\n",
        "plt.title('Random_Forest ROC_CURVE')\n",
        "plt.show()\n"
      ],
      "execution_count": 390,
      "outputs": [
        {
          "output_type": "stream",
          "text": [
            "0.8211382113821138\n",
            "========================================\n",
            "[[83  5]\n",
            " [17 18]]\n",
            "========================================\n",
            "              precision    recall  f1-score   support\n",
            "\n",
            "           0       0.83      0.94      0.88        88\n",
            "           1       0.78      0.51      0.62        35\n",
            "\n",
            "    accuracy                           0.82       123\n",
            "   macro avg       0.81      0.73      0.75       123\n",
            "weighted avg       0.82      0.82      0.81       123\n",
            "\n",
            "========================================\n",
            "0.7737012987012986\n"
          ],
          "name": "stdout"
        },
        {
          "output_type": "display_data",
          "data": {
            "image/png": "[encoded data removed]",
            "text/plain": [
              "<Figure size 432x288 with 1 Axes>"
            ]
          },
          "metadata": {
            "tags": [],
            "needs_background": "light"
          }
        }
      ]
    },
    {
      "cell_type": "code",
      "metadata": {
        "id": "c6QaywqjIa6P",
        "colab_type": "code",
        "colab": {}
      },
      "source": [
        ""
      ],
      "execution_count": 390,
      "outputs": []
    }
  ]
}