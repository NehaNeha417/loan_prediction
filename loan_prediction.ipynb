{
  "nbformat": 4,
  "nbformat_minor": 0,
  "metadata": {
    "colab": {
      "name": "loan_prediction.ipynb",
      "provenance": [],
      "authorship_tag": "ABX9TyMtqRF5TIWkXJnd4nh5PSVp",
      "include_colab_link": true
    },
    "kernelspec": {
      "name": "python3",
      "display_name": "Python 3"
    }
  },
  "cells": [
    {
      "cell_type": "markdown",
      "metadata": {
        "id": "view-in-github",
        "colab_type": "text"
      },
      "source": [
        "<a href=\"https://colab.research.google.com/github/NehaNeha417/loan_prediction/blob/master/loan_prediction.ipynb\" target=\"_parent\"><img src=\"https://colab.research.google.com/assets/colab-badge.svg\" alt=\"Open In Colab\"/></a>"
      ]
    },
    {
      "cell_type": "code",
      "metadata": {
        "id": "ccNsVyudFXmI",
        "colab_type": "code",
        "colab": {}
      },
      "source": [
        "import numpy as np\n",
        "import matplotlib.pyplot as plt\n",
        "import pandas as pd\n",
        "import seaborn as sns"
      ],
      "execution_count": 1198,
      "outputs": []
    },
    {
      "cell_type": "code",
      "metadata": {
        "id": "uj1nXFoxFXjr",
        "colab_type": "code",
        "colab": {}
      },
      "source": [
        "data=pd.read_csv('/content/loan_predction.csv')"
      ],
      "execution_count": 1199,
      "outputs": []
    },
    {
      "cell_type": "code",
      "metadata": {
        "id": "Ow639dQCFXe6",
        "colab_type": "code",
        "colab": {
          "base_uri": "https://localhost:8080/",
          "height": 241
        },
        "outputId": "5ff50c2e-b00a-49fc-ab79-ec92aab07582"
      },
      "source": [
        "data.head()"
      ],
      "execution_count": 1200,
      "outputs": [
        {
          "output_type": "execute_result",
          "data": {
            "text/html": [
              "<div>\n",
              "<style scoped>\n",
              "    .dataframe tbody tr th:only-of-type {\n",
              "        vertical-align: middle;\n",
              "    }\n",
              "\n",
              "    .dataframe tbody tr th {\n",
              "        vertical-align: top;\n",
              "    }\n",
              "\n",
              "    .dataframe thead th {\n",
              "        text-align: right;\n",
              "    }\n",
              "</style>\n",
              "<table border=\"1\" class=\"dataframe\">\n",
              "  <thead>\n",
              "    <tr style=\"text-align: right;\">\n",
              "      <th></th>\n",
              "      <th>Loan_ID</th>\n",
              "      <th>Gender</th>\n",
              "      <th>Married</th>\n",
              "      <th>Dependents</th>\n",
              "      <th>Education</th>\n",
              "      <th>Self_Employed</th>\n",
              "      <th>ApplicantIncome</th>\n",
              "      <th>CoapplicantIncome</th>\n",
              "      <th>LoanAmount</th>\n",
              "      <th>Loan_Amount_Term</th>\n",
              "      <th>Credit_History</th>\n",
              "      <th>Property_Area</th>\n",
              "      <th>Loan_Status</th>\n",
              "    </tr>\n",
              "  </thead>\n",
              "  <tbody>\n",
              "    <tr>\n",
              "      <th>0</th>\n",
              "      <td>LP001002</td>\n",
              "      <td>Male</td>\n",
              "      <td>No</td>\n",
              "      <td>0</td>\n",
              "      <td>Graduate</td>\n",
              "      <td>No</td>\n",
              "      <td>5849</td>\n",
              "      <td>0.0</td>\n",
              "      <td>NaN</td>\n",
              "      <td>360.0</td>\n",
              "      <td>1.0</td>\n",
              "      <td>Urban</td>\n",
              "      <td>Y</td>\n",
              "    </tr>\n",
              "    <tr>\n",
              "      <th>1</th>\n",
              "      <td>LP001003</td>\n",
              "      <td>Male</td>\n",
              "      <td>Yes</td>\n",
              "      <td>1</td>\n",
              "      <td>Graduate</td>\n",
              "      <td>No</td>\n",
              "      <td>4583</td>\n",
              "      <td>1508.0</td>\n",
              "      <td>128.0</td>\n",
              "      <td>360.0</td>\n",
              "      <td>1.0</td>\n",
              "      <td>Rural</td>\n",
              "      <td>N</td>\n",
              "    </tr>\n",
              "    <tr>\n",
              "      <th>2</th>\n",
              "      <td>LP001005</td>\n",
              "      <td>Male</td>\n",
              "      <td>Yes</td>\n",
              "      <td>0</td>\n",
              "      <td>Graduate</td>\n",
              "      <td>Yes</td>\n",
              "      <td>3000</td>\n",
              "      <td>0.0</td>\n",
              "      <td>66.0</td>\n",
              "      <td>360.0</td>\n",
              "      <td>1.0</td>\n",
              "      <td>Urban</td>\n",
              "      <td>Y</td>\n",
              "    </tr>\n",
              "    <tr>\n",
              "      <th>3</th>\n",
              "      <td>LP001006</td>\n",
              "      <td>Male</td>\n",
              "      <td>Yes</td>\n",
              "      <td>0</td>\n",
              "      <td>Not Graduate</td>\n",
              "      <td>No</td>\n",
              "      <td>2583</td>\n",
              "      <td>2358.0</td>\n",
              "      <td>120.0</td>\n",
              "      <td>360.0</td>\n",
              "      <td>1.0</td>\n",
              "      <td>Urban</td>\n",
              "      <td>Y</td>\n",
              "    </tr>\n",
              "    <tr>\n",
              "      <th>4</th>\n",
              "      <td>LP001008</td>\n",
              "      <td>Male</td>\n",
              "      <td>No</td>\n",
              "      <td>0</td>\n",
              "      <td>Graduate</td>\n",
              "      <td>No</td>\n",
              "      <td>6000</td>\n",
              "      <td>0.0</td>\n",
              "      <td>141.0</td>\n",
              "      <td>360.0</td>\n",
              "      <td>1.0</td>\n",
              "      <td>Urban</td>\n",
              "      <td>Y</td>\n",
              "    </tr>\n",
              "  </tbody>\n",
              "</table>\n",
              "</div>"
            ],
            "text/plain": [
              "    Loan_ID Gender Married  ... Credit_History Property_Area Loan_Status\n",
              "0  LP001002   Male      No  ...            1.0         Urban           Y\n",
              "1  LP001003   Male     Yes  ...            1.0         Rural           N\n",
              "2  LP001005   Male     Yes  ...            1.0         Urban           Y\n",
              "3  LP001006   Male     Yes  ...            1.0         Urban           Y\n",
              "4  LP001008   Male      No  ...            1.0         Urban           Y\n",
              "\n",
              "[5 rows x 13 columns]"
            ]
          },
          "metadata": {
            "tags": []
          },
          "execution_count": 1200
        }
      ]
    },
    {
      "cell_type": "code",
      "metadata": {
        "id": "S_ivYFgvFXdB",
        "colab_type": "code",
        "colab": {
          "base_uri": "https://localhost:8080/",
          "height": 34
        },
        "outputId": "c0697a7f-1c99-416a-c442-32d0b37e8b34"
      },
      "source": [
        "data.shape"
      ],
      "execution_count": 1201,
      "outputs": [
        {
          "output_type": "execute_result",
          "data": {
            "text/plain": [
              "(614, 13)"
            ]
          },
          "metadata": {
            "tags": []
          },
          "execution_count": 1201
        }
      ]
    },
    {
      "cell_type": "code",
      "metadata": {
        "id": "6W84U9VEFXZe",
        "colab_type": "code",
        "colab": {
          "base_uri": "https://localhost:8080/",
          "height": 255
        },
        "outputId": "502df55e-3fff-44e8-d850-739f1732ed77"
      },
      "source": [
        "data.isna().sum()"
      ],
      "execution_count": 1202,
      "outputs": [
        {
          "output_type": "execute_result",
          "data": {
            "text/plain": [
              "Loan_ID               0\n",
              "Gender               13\n",
              "Married               3\n",
              "Dependents           15\n",
              "Education             0\n",
              "Self_Employed        32\n",
              "ApplicantIncome       0\n",
              "CoapplicantIncome     0\n",
              "LoanAmount           22\n",
              "Loan_Amount_Term     14\n",
              "Credit_History       50\n",
              "Property_Area         0\n",
              "Loan_Status           0\n",
              "dtype: int64"
            ]
          },
          "metadata": {
            "tags": []
          },
          "execution_count": 1202
        }
      ]
    },
    {
      "cell_type": "code",
      "metadata": {
        "id": "ByggXd6jFXXG",
        "colab_type": "code",
        "colab": {}
      },
      "source": [
        "#data.dtpyes"
      ],
      "execution_count": 1203,
      "outputs": []
    },
    {
      "cell_type": "code",
      "metadata": {
        "id": "tXXEYaVDFXSu",
        "colab_type": "code",
        "colab": {
          "base_uri": "https://localhost:8080/",
          "height": 357
        },
        "outputId": "c7df864b-fdcf-4848-8171-abfc7f179154"
      },
      "source": [
        "data.info()"
      ],
      "execution_count": 1204,
      "outputs": [
        {
          "output_type": "stream",
          "text": [
            "<class 'pandas.core.frame.DataFrame'>\n",
            "RangeIndex: 614 entries, 0 to 613\n",
            "Data columns (total 13 columns):\n",
            " #   Column             Non-Null Count  Dtype  \n",
            "---  ------             --------------  -----  \n",
            " 0   Loan_ID            614 non-null    object \n",
            " 1   Gender             601 non-null    object \n",
            " 2   Married            611 non-null    object \n",
            " 3   Dependents         599 non-null    object \n",
            " 4   Education          614 non-null    object \n",
            " 5   Self_Employed      582 non-null    object \n",
            " 6   ApplicantIncome    614 non-null    int64  \n",
            " 7   CoapplicantIncome  614 non-null    float64\n",
            " 8   LoanAmount         592 non-null    float64\n",
            " 9   Loan_Amount_Term   600 non-null    float64\n",
            " 10  Credit_History     564 non-null    float64\n",
            " 11  Property_Area      614 non-null    object \n",
            " 12  Loan_Status        614 non-null    object \n",
            "dtypes: float64(4), int64(1), object(8)\n",
            "memory usage: 62.5+ KB\n"
          ],
          "name": "stdout"
        }
      ]
    },
    {
      "cell_type": "code",
      "metadata": {
        "id": "dy8sh8EmIovQ",
        "colab_type": "code",
        "colab": {}
      },
      "source": [
        "data.Gender = data.Gender.fillna(data.Gender.ffill())\n",
        "data.Dependents = data.Dependents.fillna(data.Dependents.ffill())\n",
        "data.Self_Employed = data.Self_Employed.fillna(data.Self_Employed.ffill())\n",
        "data.Credit_History = data.Credit_History.fillna(data.Credit_History.ffill())\n"
      ],
      "execution_count": 1205,
      "outputs": []
    },
    {
      "cell_type": "code",
      "metadata": {
        "id": "96NDx0O6IosY",
        "colab_type": "code",
        "colab": {}
      },
      "source": [
        "data.LoanAmount.fillna(data.LoanAmount.mean(),inplace=True)\n",
        "data.Loan_Amount_Term.fillna(data.Loan_Amount_Term.mean(),inplace=True)\n"
      ],
      "execution_count": 1206,
      "outputs": []
    },
    {
      "cell_type": "code",
      "metadata": {
        "id": "fHRwwYNfQPu7",
        "colab_type": "code",
        "colab": {}
      },
      "source": [
        "data=data.dropna()"
      ],
      "execution_count": 1207,
      "outputs": []
    },
    {
      "cell_type": "code",
      "metadata": {
        "id": "KG1QJiT9QXkl",
        "colab_type": "code",
        "colab": {
          "base_uri": "https://localhost:8080/",
          "height": 255
        },
        "outputId": "d05e8c84-2e8e-4a2a-fee0-a88bafa597a5"
      },
      "source": [
        "data.isna().sum()"
      ],
      "execution_count": 1208,
      "outputs": [
        {
          "output_type": "execute_result",
          "data": {
            "text/plain": [
              "Loan_ID              0\n",
              "Gender               0\n",
              "Married              0\n",
              "Dependents           0\n",
              "Education            0\n",
              "Self_Employed        0\n",
              "ApplicantIncome      0\n",
              "CoapplicantIncome    0\n",
              "LoanAmount           0\n",
              "Loan_Amount_Term     0\n",
              "Credit_History       0\n",
              "Property_Area        0\n",
              "Loan_Status          0\n",
              "dtype: int64"
            ]
          },
          "metadata": {
            "tags": []
          },
          "execution_count": 1208
        }
      ]
    },
    {
      "cell_type": "code",
      "metadata": {
        "id": "LWsW8ctBMTo8",
        "colab_type": "code",
        "colab": {
          "base_uri": "https://localhost:8080/",
          "height": 34
        },
        "outputId": "5cf29e16-0cbc-484d-fb6d-8e954e1b638e"
      },
      "source": [
        "data.shape"
      ],
      "execution_count": 1209,
      "outputs": [
        {
          "output_type": "execute_result",
          "data": {
            "text/plain": [
              "(611, 13)"
            ]
          },
          "metadata": {
            "tags": []
          },
          "execution_count": 1209
        }
      ]
    },
    {
      "cell_type": "code",
      "metadata": {
        "id": "sj4ER4xySJGs",
        "colab_type": "code",
        "colab": {
          "base_uri": "https://localhost:8080/",
          "height": 425
        },
        "outputId": "71a440fe-a42d-483e-cae3-16c0f9e89d98"
      },
      "source": [
        "print(data.Self_Employed.value_counts())\n",
        "print(data.Dependents.value_counts())\n",
        "print(data.Property_Area.value_counts())\n",
        "print(data.Education.value_counts())\n",
        "print(data.Gender.value_counts())\n",
        "print(data.Loan_Status.value_counts())\n",
        "print(data.Married.value_counts())\n",
        "\n"
      ],
      "execution_count": 1210,
      "outputs": [
        {
          "output_type": "stream",
          "text": [
            "No     525\n",
            "Yes     86\n",
            "Name: Self_Employed, dtype: int64\n",
            "0     352\n",
            "2     104\n",
            "1     104\n",
            "3+     51\n",
            "Name: Dependents, dtype: int64\n",
            "Semiurban    231\n",
            "Urban        201\n",
            "Rural        179\n",
            "Name: Property_Area, dtype: int64\n",
            "Graduate        477\n",
            "Not Graduate    134\n",
            "Name: Education, dtype: int64\n",
            "Male      498\n",
            "Female    113\n",
            "Name: Gender, dtype: int64\n",
            "Y    419\n",
            "N    192\n",
            "Name: Loan_Status, dtype: int64\n",
            "Yes    398\n",
            "No     213\n",
            "Name: Married, dtype: int64\n"
          ],
          "name": "stdout"
        }
      ]
    },
    {
      "cell_type": "code",
      "metadata": {
        "id": "ZXi15wQC8n51",
        "colab_type": "code",
        "colab": {
          "base_uri": "https://localhost:8080/",
          "height": 241
        },
        "outputId": "b8f59360-dc6b-42b6-c4be-ef8f143d0e57"
      },
      "source": [
        "data.Loan_Status=pd.get_dummies(data.Loan_Status)\n",
        "data.head()"
      ],
      "execution_count": 1211,
      "outputs": [
        {
          "output_type": "execute_result",
          "data": {
            "text/html": [
              "<div>\n",
              "<style scoped>\n",
              "    .dataframe tbody tr th:only-of-type {\n",
              "        vertical-align: middle;\n",
              "    }\n",
              "\n",
              "    .dataframe tbody tr th {\n",
              "        vertical-align: top;\n",
              "    }\n",
              "\n",
              "    .dataframe thead th {\n",
              "        text-align: right;\n",
              "    }\n",
              "</style>\n",
              "<table border=\"1\" class=\"dataframe\">\n",
              "  <thead>\n",
              "    <tr style=\"text-align: right;\">\n",
              "      <th></th>\n",
              "      <th>Loan_ID</th>\n",
              "      <th>Gender</th>\n",
              "      <th>Married</th>\n",
              "      <th>Dependents</th>\n",
              "      <th>Education</th>\n",
              "      <th>Self_Employed</th>\n",
              "      <th>ApplicantIncome</th>\n",
              "      <th>CoapplicantIncome</th>\n",
              "      <th>LoanAmount</th>\n",
              "      <th>Loan_Amount_Term</th>\n",
              "      <th>Credit_History</th>\n",
              "      <th>Property_Area</th>\n",
              "      <th>Loan_Status</th>\n",
              "    </tr>\n",
              "  </thead>\n",
              "  <tbody>\n",
              "    <tr>\n",
              "      <th>0</th>\n",
              "      <td>LP001002</td>\n",
              "      <td>Male</td>\n",
              "      <td>No</td>\n",
              "      <td>0</td>\n",
              "      <td>Graduate</td>\n",
              "      <td>No</td>\n",
              "      <td>5849</td>\n",
              "      <td>0.0</td>\n",
              "      <td>146.412162</td>\n",
              "      <td>360.0</td>\n",
              "      <td>1.0</td>\n",
              "      <td>Urban</td>\n",
              "      <td>0</td>\n",
              "    </tr>\n",
              "    <tr>\n",
              "      <th>1</th>\n",
              "      <td>LP001003</td>\n",
              "      <td>Male</td>\n",
              "      <td>Yes</td>\n",
              "      <td>1</td>\n",
              "      <td>Graduate</td>\n",
              "      <td>No</td>\n",
              "      <td>4583</td>\n",
              "      <td>1508.0</td>\n",
              "      <td>128.000000</td>\n",
              "      <td>360.0</td>\n",
              "      <td>1.0</td>\n",
              "      <td>Rural</td>\n",
              "      <td>1</td>\n",
              "    </tr>\n",
              "    <tr>\n",
              "      <th>2</th>\n",
              "      <td>LP001005</td>\n",
              "      <td>Male</td>\n",
              "      <td>Yes</td>\n",
              "      <td>0</td>\n",
              "      <td>Graduate</td>\n",
              "      <td>Yes</td>\n",
              "      <td>3000</td>\n",
              "      <td>0.0</td>\n",
              "      <td>66.000000</td>\n",
              "      <td>360.0</td>\n",
              "      <td>1.0</td>\n",
              "      <td>Urban</td>\n",
              "      <td>0</td>\n",
              "    </tr>\n",
              "    <tr>\n",
              "      <th>3</th>\n",
              "      <td>LP001006</td>\n",
              "      <td>Male</td>\n",
              "      <td>Yes</td>\n",
              "      <td>0</td>\n",
              "      <td>Not Graduate</td>\n",
              "      <td>No</td>\n",
              "      <td>2583</td>\n",
              "      <td>2358.0</td>\n",
              "      <td>120.000000</td>\n",
              "      <td>360.0</td>\n",
              "      <td>1.0</td>\n",
              "      <td>Urban</td>\n",
              "      <td>0</td>\n",
              "    </tr>\n",
              "    <tr>\n",
              "      <th>4</th>\n",
              "      <td>LP001008</td>\n",
              "      <td>Male</td>\n",
              "      <td>No</td>\n",
              "      <td>0</td>\n",
              "      <td>Graduate</td>\n",
              "      <td>No</td>\n",
              "      <td>6000</td>\n",
              "      <td>0.0</td>\n",
              "      <td>141.000000</td>\n",
              "      <td>360.0</td>\n",
              "      <td>1.0</td>\n",
              "      <td>Urban</td>\n",
              "      <td>0</td>\n",
              "    </tr>\n",
              "  </tbody>\n",
              "</table>\n",
              "</div>"
            ],
            "text/plain": [
              "    Loan_ID Gender Married  ... Credit_History Property_Area Loan_Status\n",
              "0  LP001002   Male      No  ...            1.0         Urban           0\n",
              "1  LP001003   Male     Yes  ...            1.0         Rural           1\n",
              "2  LP001005   Male     Yes  ...            1.0         Urban           0\n",
              "3  LP001006   Male     Yes  ...            1.0         Urban           0\n",
              "4  LP001008   Male      No  ...            1.0         Urban           0\n",
              "\n",
              "[5 rows x 13 columns]"
            ]
          },
          "metadata": {
            "tags": []
          },
          "execution_count": 1211
        }
      ]
    },
    {
      "cell_type": "markdown",
      "metadata": {
        "id": "OJP-sMkcyPRa",
        "colab_type": "text"
      },
      "source": [
        ""
      ]
    },
    {
      "cell_type": "code",
      "metadata": {
        "id": "Tom9gSvZ1397",
        "colab_type": "code",
        "colab": {}
      },
      "source": [
        "x = data.drop(['Loan_Status','Loan_ID'],axis=1)\n",
        "y = data['Loan_Status']\n",
        "x_train,x_test,y_train,y_test = train_test_split(x,y, test_size=0.2, random_state=42)"
      ],
      "execution_count": 1212,
      "outputs": []
    },
    {
      "cell_type": "code",
      "metadata": {
        "id": "r9SElhxTx5Is",
        "colab_type": "code",
        "colab": {
          "base_uri": "https://localhost:8080/",
          "height": 204
        },
        "outputId": "57a9f60e-1a81-4839-b756-9852ffd7778a"
      },
      "source": [
        "x_train = x_train.drop(columns=['Married','Self_Employed','Education'])\n",
        "x_train.head()"
      ],
      "execution_count": 1213,
      "outputs": [
        {
          "output_type": "execute_result",
          "data": {
            "text/html": [
              "<div>\n",
              "<style scoped>\n",
              "    .dataframe tbody tr th:only-of-type {\n",
              "        vertical-align: middle;\n",
              "    }\n",
              "\n",
              "    .dataframe tbody tr th {\n",
              "        vertical-align: top;\n",
              "    }\n",
              "\n",
              "    .dataframe thead th {\n",
              "        text-align: right;\n",
              "    }\n",
              "</style>\n",
              "<table border=\"1\" class=\"dataframe\">\n",
              "  <thead>\n",
              "    <tr style=\"text-align: right;\">\n",
              "      <th></th>\n",
              "      <th>Gender</th>\n",
              "      <th>Dependents</th>\n",
              "      <th>ApplicantIncome</th>\n",
              "      <th>CoapplicantIncome</th>\n",
              "      <th>LoanAmount</th>\n",
              "      <th>Loan_Amount_Term</th>\n",
              "      <th>Credit_History</th>\n",
              "      <th>Property_Area</th>\n",
              "    </tr>\n",
              "  </thead>\n",
              "  <tbody>\n",
              "    <tr>\n",
              "      <th>564</th>\n",
              "      <td>Male</td>\n",
              "      <td>2</td>\n",
              "      <td>8799</td>\n",
              "      <td>0.0</td>\n",
              "      <td>258.0</td>\n",
              "      <td>360.0</td>\n",
              "      <td>0.0</td>\n",
              "      <td>Urban</td>\n",
              "    </tr>\n",
              "    <tr>\n",
              "      <th>289</th>\n",
              "      <td>Male</td>\n",
              "      <td>0</td>\n",
              "      <td>9508</td>\n",
              "      <td>0.0</td>\n",
              "      <td>187.0</td>\n",
              "      <td>360.0</td>\n",
              "      <td>1.0</td>\n",
              "      <td>Rural</td>\n",
              "    </tr>\n",
              "    <tr>\n",
              "      <th>324</th>\n",
              "      <td>Male</td>\n",
              "      <td>3+</td>\n",
              "      <td>15000</td>\n",
              "      <td>0.0</td>\n",
              "      <td>300.0</td>\n",
              "      <td>360.0</td>\n",
              "      <td>1.0</td>\n",
              "      <td>Rural</td>\n",
              "    </tr>\n",
              "    <tr>\n",
              "      <th>133</th>\n",
              "      <td>Male</td>\n",
              "      <td>0</td>\n",
              "      <td>3459</td>\n",
              "      <td>0.0</td>\n",
              "      <td>25.0</td>\n",
              "      <td>120.0</td>\n",
              "      <td>1.0</td>\n",
              "      <td>Semiurban</td>\n",
              "    </tr>\n",
              "    <tr>\n",
              "      <th>175</th>\n",
              "      <td>Male</td>\n",
              "      <td>0</td>\n",
              "      <td>3497</td>\n",
              "      <td>1964.0</td>\n",
              "      <td>116.0</td>\n",
              "      <td>360.0</td>\n",
              "      <td>1.0</td>\n",
              "      <td>Rural</td>\n",
              "    </tr>\n",
              "  </tbody>\n",
              "</table>\n",
              "</div>"
            ],
            "text/plain": [
              "    Gender Dependents  ...  Credit_History  Property_Area\n",
              "564   Male          2  ...             0.0          Urban\n",
              "289   Male          0  ...             1.0          Rural\n",
              "324   Male         3+  ...             1.0          Rural\n",
              "133   Male          0  ...             1.0      Semiurban\n",
              "175   Male          0  ...             1.0          Rural\n",
              "\n",
              "[5 rows x 8 columns]"
            ]
          },
          "metadata": {
            "tags": []
          },
          "execution_count": 1213
        }
      ]
    },
    {
      "cell_type": "code",
      "metadata": {
        "id": "wdENJ0UBMTmA",
        "colab_type": "code",
        "colab": {}
      },
      "source": [
        "x_train.Gender = pd.get_dummies(x_train.Gender)\n",
        "#data.Married = pd.get_dummies(data.Married)\n",
        "#data.Education = pd.get_dummies(data.Education)\n",
        "#data.Self_Employed = pd.get_dummies(data.Self_Employed)\n",
        "#data.Dependents = pd.get_dummies(data.Dependents)\n",
        "#data.Property_Area = pd.get_dummies(data.Property_Area)\n",
        "#y_train.Loan_Status = pd.get_dummies(y_train.Loan_Status)\n"
      ],
      "execution_count": 1214,
      "outputs": []
    },
    {
      "cell_type": "code",
      "metadata": {
        "id": "LxgkrwI7zleA",
        "colab_type": "code",
        "colab": {
          "base_uri": "https://localhost:8080/",
          "height": 85
        },
        "outputId": "8280e5e6-1e0c-48cb-c9b8-158af41768a4"
      },
      "source": [
        "x_train = pd.get_dummies(x_train,columns=['Dependents'])\n",
        "print(x_train.columns)"
      ],
      "execution_count": 1215,
      "outputs": [
        {
          "output_type": "stream",
          "text": [
            "Index(['Gender', 'ApplicantIncome', 'CoapplicantIncome', 'LoanAmount',\n",
            "       'Loan_Amount_Term', 'Credit_History', 'Property_Area', 'Dependents_0',\n",
            "       'Dependents_1', 'Dependents_2', 'Dependents_3+'],\n",
            "      dtype='object')\n"
          ],
          "name": "stdout"
        }
      ]
    },
    {
      "cell_type": "code",
      "metadata": {
        "id": "fdLgOS7H0slx",
        "colab_type": "code",
        "colab": {
          "base_uri": "https://localhost:8080/",
          "height": 102
        },
        "outputId": "d063ac66-e672-4834-d1d7-31005bb74670"
      },
      "source": [
        "x_train = pd.get_dummies(x_train,columns=['Property_Area'],prefix='PA')\n",
        "print(x_train.columns)"
      ],
      "execution_count": 1216,
      "outputs": [
        {
          "output_type": "stream",
          "text": [
            "Index(['Gender', 'ApplicantIncome', 'CoapplicantIncome', 'LoanAmount',\n",
            "       'Loan_Amount_Term', 'Credit_History', 'Dependents_0', 'Dependents_1',\n",
            "       'Dependents_2', 'Dependents_3+', 'PA_Rural', 'PA_Semiurban',\n",
            "       'PA_Urban'],\n",
            "      dtype='object')\n"
          ],
          "name": "stdout"
        }
      ]
    },
    {
      "cell_type": "code",
      "metadata": {
        "id": "Tv9ljayrEDqx",
        "colab_type": "code",
        "colab": {
          "base_uri": "https://localhost:8080/",
          "height": 224
        },
        "outputId": "d35c54a6-8537-434c-d5ed-437db3b77408"
      },
      "source": [
        "x_test.Gender = pd.get_dummies(x_test.Gender)\n",
        "x_test = pd.get_dummies(x_test,columns=['Dependents'])\n",
        "#print(x_train.columns)\n",
        "#x_test.Married = pd.get_dummies(x_test.Married)\n",
        "#x_test.Education = pd.get_dummies(x_test.Education)\n",
        "#x_test.Self_Employed = pd.get_dummies(x_test.Self_Employed)\n",
        "\n",
        "\n",
        "x_test = pd.get_dummies(x_test,columns=['Property_Area'],prefix='PA')\n",
        "print(x_test.columns)\n",
        "x_test = x_test.drop(columns=['Married','Education','Self_Employed'])"
      ],
      "execution_count": 1217,
      "outputs": [
        {
          "output_type": "stream",
          "text": [
            "Index(['Gender', 'Married', 'Education', 'Self_Employed', 'ApplicantIncome',\n",
            "       'CoapplicantIncome', 'LoanAmount', 'Loan_Amount_Term', 'Credit_History',\n",
            "       'Dependents_0', 'Dependents_1', 'Dependents_2', 'Dependents_3+',\n",
            "       'PA_Rural', 'PA_Semiurban', 'PA_Urban'],\n",
            "      dtype='object')\n"
          ],
          "name": "stdout"
        },
        {
          "output_type": "stream",
          "text": [
            "/usr/local/lib/python3.6/dist-packages/pandas/core/generic.py:5303: SettingWithCopyWarning: \n",
            "A value is trying to be set on a copy of a slice from a DataFrame.\n",
            "Try using .loc[row_indexer,col_indexer] = value instead\n",
            "\n",
            "See the caveats in the documentation: https://pandas.pydata.org/pandas-docs/stable/user_guide/indexing.html#returning-a-view-versus-a-copy\n",
            "  self[name] = value\n"
          ],
          "name": "stderr"
        }
      ]
    },
    {
      "cell_type": "code",
      "metadata": {
        "id": "Kq8tUMg6zlaP",
        "colab_type": "code",
        "colab": {
          "base_uri": "https://localhost:8080/",
          "height": 51
        },
        "outputId": "90502385-4b40-4cb1-b536-7ffed99adef4"
      },
      "source": [
        "print(dummy.shape)\n",
        "x_train.shape\n"
      ],
      "execution_count": 1218,
      "outputs": [
        {
          "output_type": "stream",
          "text": [
            "(611, 13)\n"
          ],
          "name": "stdout"
        },
        {
          "output_type": "execute_result",
          "data": {
            "text/plain": [
              "(488, 13)"
            ]
          },
          "metadata": {
            "tags": []
          },
          "execution_count": 1218
        }
      ]
    },
    {
      "cell_type": "code",
      "metadata": {
        "id": "A-Y68Q85MTHN",
        "colab_type": "code",
        "colab": {
          "base_uri": "https://localhost:8080/",
          "height": 379
        },
        "outputId": "1cfdd992-c2ba-4ece-e977-f565420b48f1"
      },
      "source": [
        "x_train.head(10)"
      ],
      "execution_count": 1219,
      "outputs": [
        {
          "output_type": "execute_result",
          "data": {
            "text/html": [
              "<div>\n",
              "<style scoped>\n",
              "    .dataframe tbody tr th:only-of-type {\n",
              "        vertical-align: middle;\n",
              "    }\n",
              "\n",
              "    .dataframe tbody tr th {\n",
              "        vertical-align: top;\n",
              "    }\n",
              "\n",
              "    .dataframe thead th {\n",
              "        text-align: right;\n",
              "    }\n",
              "</style>\n",
              "<table border=\"1\" class=\"dataframe\">\n",
              "  <thead>\n",
              "    <tr style=\"text-align: right;\">\n",
              "      <th></th>\n",
              "      <th>Gender</th>\n",
              "      <th>ApplicantIncome</th>\n",
              "      <th>CoapplicantIncome</th>\n",
              "      <th>LoanAmount</th>\n",
              "      <th>Loan_Amount_Term</th>\n",
              "      <th>Credit_History</th>\n",
              "      <th>Dependents_0</th>\n",
              "      <th>Dependents_1</th>\n",
              "      <th>Dependents_2</th>\n",
              "      <th>Dependents_3+</th>\n",
              "      <th>PA_Rural</th>\n",
              "      <th>PA_Semiurban</th>\n",
              "      <th>PA_Urban</th>\n",
              "    </tr>\n",
              "  </thead>\n",
              "  <tbody>\n",
              "    <tr>\n",
              "      <th>564</th>\n",
              "      <td>0</td>\n",
              "      <td>8799</td>\n",
              "      <td>0.0</td>\n",
              "      <td>258.0</td>\n",
              "      <td>360.0</td>\n",
              "      <td>0.0</td>\n",
              "      <td>0</td>\n",
              "      <td>0</td>\n",
              "      <td>1</td>\n",
              "      <td>0</td>\n",
              "      <td>0</td>\n",
              "      <td>0</td>\n",
              "      <td>1</td>\n",
              "    </tr>\n",
              "    <tr>\n",
              "      <th>289</th>\n",
              "      <td>0</td>\n",
              "      <td>9508</td>\n",
              "      <td>0.0</td>\n",
              "      <td>187.0</td>\n",
              "      <td>360.0</td>\n",
              "      <td>1.0</td>\n",
              "      <td>1</td>\n",
              "      <td>0</td>\n",
              "      <td>0</td>\n",
              "      <td>0</td>\n",
              "      <td>1</td>\n",
              "      <td>0</td>\n",
              "      <td>0</td>\n",
              "    </tr>\n",
              "    <tr>\n",
              "      <th>324</th>\n",
              "      <td>0</td>\n",
              "      <td>15000</td>\n",
              "      <td>0.0</td>\n",
              "      <td>300.0</td>\n",
              "      <td>360.0</td>\n",
              "      <td>1.0</td>\n",
              "      <td>0</td>\n",
              "      <td>0</td>\n",
              "      <td>0</td>\n",
              "      <td>1</td>\n",
              "      <td>1</td>\n",
              "      <td>0</td>\n",
              "      <td>0</td>\n",
              "    </tr>\n",
              "    <tr>\n",
              "      <th>133</th>\n",
              "      <td>0</td>\n",
              "      <td>3459</td>\n",
              "      <td>0.0</td>\n",
              "      <td>25.0</td>\n",
              "      <td>120.0</td>\n",
              "      <td>1.0</td>\n",
              "      <td>1</td>\n",
              "      <td>0</td>\n",
              "      <td>0</td>\n",
              "      <td>0</td>\n",
              "      <td>0</td>\n",
              "      <td>1</td>\n",
              "      <td>0</td>\n",
              "    </tr>\n",
              "    <tr>\n",
              "      <th>175</th>\n",
              "      <td>0</td>\n",
              "      <td>3497</td>\n",
              "      <td>1964.0</td>\n",
              "      <td>116.0</td>\n",
              "      <td>360.0</td>\n",
              "      <td>1.0</td>\n",
              "      <td>1</td>\n",
              "      <td>0</td>\n",
              "      <td>0</td>\n",
              "      <td>0</td>\n",
              "      <td>1</td>\n",
              "      <td>0</td>\n",
              "      <td>0</td>\n",
              "    </tr>\n",
              "    <tr>\n",
              "      <th>340</th>\n",
              "      <td>0</td>\n",
              "      <td>2647</td>\n",
              "      <td>1587.0</td>\n",
              "      <td>173.0</td>\n",
              "      <td>360.0</td>\n",
              "      <td>1.0</td>\n",
              "      <td>0</td>\n",
              "      <td>0</td>\n",
              "      <td>0</td>\n",
              "      <td>1</td>\n",
              "      <td>1</td>\n",
              "      <td>0</td>\n",
              "      <td>0</td>\n",
              "    </tr>\n",
              "    <tr>\n",
              "      <th>178</th>\n",
              "      <td>0</td>\n",
              "      <td>3750</td>\n",
              "      <td>0.0</td>\n",
              "      <td>116.0</td>\n",
              "      <td>360.0</td>\n",
              "      <td>1.0</td>\n",
              "      <td>0</td>\n",
              "      <td>1</td>\n",
              "      <td>0</td>\n",
              "      <td>0</td>\n",
              "      <td>0</td>\n",
              "      <td>1</td>\n",
              "      <td>0</td>\n",
              "    </tr>\n",
              "    <tr>\n",
              "      <th>159</th>\n",
              "      <td>0</td>\n",
              "      <td>4583</td>\n",
              "      <td>5625.0</td>\n",
              "      <td>255.0</td>\n",
              "      <td>360.0</td>\n",
              "      <td>1.0</td>\n",
              "      <td>1</td>\n",
              "      <td>0</td>\n",
              "      <td>0</td>\n",
              "      <td>0</td>\n",
              "      <td>0</td>\n",
              "      <td>1</td>\n",
              "      <td>0</td>\n",
              "    </tr>\n",
              "    <tr>\n",
              "      <th>138</th>\n",
              "      <td>0</td>\n",
              "      <td>14999</td>\n",
              "      <td>0.0</td>\n",
              "      <td>242.0</td>\n",
              "      <td>360.0</td>\n",
              "      <td>0.0</td>\n",
              "      <td>1</td>\n",
              "      <td>0</td>\n",
              "      <td>0</td>\n",
              "      <td>0</td>\n",
              "      <td>0</td>\n",
              "      <td>1</td>\n",
              "      <td>0</td>\n",
              "    </tr>\n",
              "    <tr>\n",
              "      <th>398</th>\n",
              "      <td>0</td>\n",
              "      <td>3902</td>\n",
              "      <td>1666.0</td>\n",
              "      <td>109.0</td>\n",
              "      <td>360.0</td>\n",
              "      <td>1.0</td>\n",
              "      <td>1</td>\n",
              "      <td>0</td>\n",
              "      <td>0</td>\n",
              "      <td>0</td>\n",
              "      <td>1</td>\n",
              "      <td>0</td>\n",
              "      <td>0</td>\n",
              "    </tr>\n",
              "  </tbody>\n",
              "</table>\n",
              "</div>"
            ],
            "text/plain": [
              "     Gender  ApplicantIncome  ...  PA_Semiurban  PA_Urban\n",
              "564       0             8799  ...             0         1\n",
              "289       0             9508  ...             0         0\n",
              "324       0            15000  ...             0         0\n",
              "133       0             3459  ...             1         0\n",
              "175       0             3497  ...             0         0\n",
              "340       0             2647  ...             0         0\n",
              "178       0             3750  ...             1         0\n",
              "159       0             4583  ...             1         0\n",
              "138       0            14999  ...             1         0\n",
              "398       0             3902  ...             0         0\n",
              "\n",
              "[10 rows x 13 columns]"
            ]
          },
          "metadata": {
            "tags": []
          },
          "execution_count": 1219
        }
      ]
    },
    {
      "cell_type": "code",
      "metadata": {
        "id": "bm767AlFR07D",
        "colab_type": "code",
        "colab": {
          "base_uri": "https://localhost:8080/",
          "height": 34
        },
        "outputId": "8b09214a-dc82-4273-bb4d-f7269e8b8fba"
      },
      "source": [
        "x_train.shape"
      ],
      "execution_count": 1220,
      "outputs": [
        {
          "output_type": "execute_result",
          "data": {
            "text/plain": [
              "(488, 13)"
            ]
          },
          "metadata": {
            "tags": []
          },
          "execution_count": 1220
        }
      ]
    },
    {
      "cell_type": "code",
      "metadata": {
        "id": "NnarPXf9R1DJ",
        "colab_type": "code",
        "colab": {}
      },
      "source": [
        "# from sklearn import preprocessing\n",
        "# #SS = StandardScaler()\n",
        "# x_train.LoanAmount = preprocessing.scale(data.LoanAmount)\n",
        "# #data.Credit_History = preprocessing.scale(data.Credit_History)\n",
        "# x_train.Loan_Amount_Term = preprocessing.scale(x_train.Loan_Amount_Term)\n",
        "# x_train.ApplicantIncome = preprocessing.scale(x_train.ApplicantIncome)\n",
        "# x_train.CoapplicantIncome = preprocessing.scale(x_train.CoapplicantIncome)\n",
        "\n"
      ],
      "execution_count": 1221,
      "outputs": []
    },
    {
      "cell_type": "code",
      "metadata": {
        "id": "0WS7OT-KR0vE",
        "colab_type": "code",
        "colab": {
          "base_uri": "https://localhost:8080/",
          "height": 224
        },
        "outputId": "c23c80bd-9e5b-4a88-f4ad-710afd768382"
      },
      "source": [
        "x_train.head()"
      ],
      "execution_count": 1222,
      "outputs": [
        {
          "output_type": "execute_result",
          "data": {
            "text/html": [
              "<div>\n",
              "<style scoped>\n",
              "    .dataframe tbody tr th:only-of-type {\n",
              "        vertical-align: middle;\n",
              "    }\n",
              "\n",
              "    .dataframe tbody tr th {\n",
              "        vertical-align: top;\n",
              "    }\n",
              "\n",
              "    .dataframe thead th {\n",
              "        text-align: right;\n",
              "    }\n",
              "</style>\n",
              "<table border=\"1\" class=\"dataframe\">\n",
              "  <thead>\n",
              "    <tr style=\"text-align: right;\">\n",
              "      <th></th>\n",
              "      <th>Gender</th>\n",
              "      <th>ApplicantIncome</th>\n",
              "      <th>CoapplicantIncome</th>\n",
              "      <th>LoanAmount</th>\n",
              "      <th>Loan_Amount_Term</th>\n",
              "      <th>Credit_History</th>\n",
              "      <th>Dependents_0</th>\n",
              "      <th>Dependents_1</th>\n",
              "      <th>Dependents_2</th>\n",
              "      <th>Dependents_3+</th>\n",
              "      <th>PA_Rural</th>\n",
              "      <th>PA_Semiurban</th>\n",
              "      <th>PA_Urban</th>\n",
              "    </tr>\n",
              "  </thead>\n",
              "  <tbody>\n",
              "    <tr>\n",
              "      <th>564</th>\n",
              "      <td>0</td>\n",
              "      <td>8799</td>\n",
              "      <td>0.0</td>\n",
              "      <td>258.0</td>\n",
              "      <td>360.0</td>\n",
              "      <td>0.0</td>\n",
              "      <td>0</td>\n",
              "      <td>0</td>\n",
              "      <td>1</td>\n",
              "      <td>0</td>\n",
              "      <td>0</td>\n",
              "      <td>0</td>\n",
              "      <td>1</td>\n",
              "    </tr>\n",
              "    <tr>\n",
              "      <th>289</th>\n",
              "      <td>0</td>\n",
              "      <td>9508</td>\n",
              "      <td>0.0</td>\n",
              "      <td>187.0</td>\n",
              "      <td>360.0</td>\n",
              "      <td>1.0</td>\n",
              "      <td>1</td>\n",
              "      <td>0</td>\n",
              "      <td>0</td>\n",
              "      <td>0</td>\n",
              "      <td>1</td>\n",
              "      <td>0</td>\n",
              "      <td>0</td>\n",
              "    </tr>\n",
              "    <tr>\n",
              "      <th>324</th>\n",
              "      <td>0</td>\n",
              "      <td>15000</td>\n",
              "      <td>0.0</td>\n",
              "      <td>300.0</td>\n",
              "      <td>360.0</td>\n",
              "      <td>1.0</td>\n",
              "      <td>0</td>\n",
              "      <td>0</td>\n",
              "      <td>0</td>\n",
              "      <td>1</td>\n",
              "      <td>1</td>\n",
              "      <td>0</td>\n",
              "      <td>0</td>\n",
              "    </tr>\n",
              "    <tr>\n",
              "      <th>133</th>\n",
              "      <td>0</td>\n",
              "      <td>3459</td>\n",
              "      <td>0.0</td>\n",
              "      <td>25.0</td>\n",
              "      <td>120.0</td>\n",
              "      <td>1.0</td>\n",
              "      <td>1</td>\n",
              "      <td>0</td>\n",
              "      <td>0</td>\n",
              "      <td>0</td>\n",
              "      <td>0</td>\n",
              "      <td>1</td>\n",
              "      <td>0</td>\n",
              "    </tr>\n",
              "    <tr>\n",
              "      <th>175</th>\n",
              "      <td>0</td>\n",
              "      <td>3497</td>\n",
              "      <td>1964.0</td>\n",
              "      <td>116.0</td>\n",
              "      <td>360.0</td>\n",
              "      <td>1.0</td>\n",
              "      <td>1</td>\n",
              "      <td>0</td>\n",
              "      <td>0</td>\n",
              "      <td>0</td>\n",
              "      <td>1</td>\n",
              "      <td>0</td>\n",
              "      <td>0</td>\n",
              "    </tr>\n",
              "  </tbody>\n",
              "</table>\n",
              "</div>"
            ],
            "text/plain": [
              "     Gender  ApplicantIncome  ...  PA_Semiurban  PA_Urban\n",
              "564       0             8799  ...             0         1\n",
              "289       0             9508  ...             0         0\n",
              "324       0            15000  ...             0         0\n",
              "133       0             3459  ...             1         0\n",
              "175       0             3497  ...             0         0\n",
              "\n",
              "[5 rows x 13 columns]"
            ]
          },
          "metadata": {
            "tags": []
          },
          "execution_count": 1222
        }
      ]
    },
    {
      "cell_type": "code",
      "metadata": {
        "id": "8j5eJqpTkp2b",
        "colab_type": "code",
        "colab": {
          "base_uri": "https://localhost:8080/",
          "height": 296
        },
        "outputId": "9fec04f3-ff3e-4d27-897b-44306a137213"
      },
      "source": [
        "sns.boxplot(x_train['LoanAmount'])"
      ],
      "execution_count": 1223,
      "outputs": [
        {
          "output_type": "execute_result",
          "data": {
            "text/plain": [
              "<matplotlib.axes._subplots.AxesSubplot at 0x7f17717f7cc0>"
            ]
          },
          "metadata": {
            "tags": []
          },
          "execution_count": 1223
        },
        {
          "output_type": "display_data",
          "data": {
            "image/png": "[encoded data removed]",
            "text/plain": [
              "<Figure size 432x288 with 1 Axes>"
            ]
          },
          "metadata": {
            "tags": [],
            "needs_background": "light"
          }
        }
      ]
    },
    {
      "cell_type": "code",
      "metadata": {
        "id": "hJo7e7qekpp4",
        "colab_type": "code",
        "colab": {
          "base_uri": "https://localhost:8080/",
          "height": 297
        },
        "outputId": "c2513635-ba86-49ba-bc77-5a8f0da20361"
      },
      "source": [
        "sns.boxplot(x_train['Loan_Amount_Term'])"
      ],
      "execution_count": 1224,
      "outputs": [
        {
          "output_type": "execute_result",
          "data": {
            "text/plain": [
              "<matplotlib.axes._subplots.AxesSubplot at 0x7f17716d7748>"
            ]
          },
          "metadata": {
            "tags": []
          },
          "execution_count": 1224
        },
        {
          "output_type": "display_data",
          "data": {
            "image/png": "[encoded data removed]",
            "text/plain": [
              "<Figure size 432x288 with 1 Axes>"
            ]
          },
          "metadata": {
            "tags": [],
            "needs_background": "light"
          }
        }
      ]
    },
    {
      "cell_type": "code",
      "metadata": {
        "id": "H7GbaY2SqZNf",
        "colab_type": "code",
        "colab": {
          "base_uri": "https://localhost:8080/",
          "height": 170
        },
        "outputId": "55500ec2-60a1-4be2-e4ac-090f6fb66910"
      },
      "source": [
        "x_train.Loan_Amount_Term.describe()"
      ],
      "execution_count": 1225,
      "outputs": [
        {
          "output_type": "execute_result",
          "data": {
            "text/plain": [
              "count    488.000000\n",
              "mean     342.565574\n",
              "std       63.618794\n",
              "min       36.000000\n",
              "25%      360.000000\n",
              "50%      360.000000\n",
              "75%      360.000000\n",
              "max      480.000000\n",
              "Name: Loan_Amount_Term, dtype: float64"
            ]
          },
          "metadata": {
            "tags": []
          },
          "execution_count": 1225
        }
      ]
    },
    {
      "cell_type": "code",
      "metadata": {
        "id": "CfnABvRol4-7",
        "colab_type": "code",
        "colab": {
          "base_uri": "https://localhost:8080/",
          "height": 296
        },
        "outputId": "77fb0929-5b6a-43ef-cf4b-7a131577dde1"
      },
      "source": [
        "sns.boxplot(x_train['ApplicantIncome'])"
      ],
      "execution_count": 1226,
      "outputs": [
        {
          "output_type": "execute_result",
          "data": {
            "text/plain": [
              "<matplotlib.axes._subplots.AxesSubplot at 0x7f177169b3c8>"
            ]
          },
          "metadata": {
            "tags": []
          },
          "execution_count": 1226
        },
        {
          "output_type": "display_data",
          "data": {
            "image/png": "[encoded data removed]",
            "text/plain": [
              "<Figure size 432x288 with 1 Axes>"
            ]
          },
          "metadata": {
            "tags": [],
            "needs_background": "light"
          }
        }
      ]
    },
    {
      "cell_type": "code",
      "metadata": {
        "id": "qPsfLzaZl5He",
        "colab_type": "code",
        "colab": {
          "base_uri": "https://localhost:8080/",
          "height": 296
        },
        "outputId": "36f45c36-061a-44d5-96a8-5b0b135bd3a8"
      },
      "source": [
        "sns.boxplot(x_train['CoapplicantIncome'])"
      ],
      "execution_count": 1227,
      "outputs": [
        {
          "output_type": "execute_result",
          "data": {
            "text/plain": [
              "<matplotlib.axes._subplots.AxesSubplot at 0x7f1771613f28>"
            ]
          },
          "metadata": {
            "tags": []
          },
          "execution_count": 1227
        },
        {
          "output_type": "display_data",
          "data": {
            "image/png": "[encoded data removed]",
            "text/plain": [
              "<Figure size 432x288 with 1 Axes>"
            ]
          },
          "metadata": {
            "tags": [],
            "needs_background": "light"
          }
        }
      ]
    },
    {
      "cell_type": "code",
      "metadata": {
        "id": "NC-9PBuql5D9",
        "colab_type": "code",
        "colab": {}
      },
      "source": [
        "#from sklearn import MinMaxScaler"
      ],
      "execution_count": 1228,
      "outputs": []
    },
    {
      "cell_type": "code",
      "metadata": {
        "id": "6Y-u2R73l460",
        "colab_type": "code",
        "colab": {
          "base_uri": "https://localhost:8080/",
          "height": 1000
        },
        "outputId": "c8462f0e-a301-49c0-afef-8437766e84d3"
      },
      "source": [
        "x_train.hist(figsize=(20,20))"
      ],
      "execution_count": 1229,
      "outputs": [
        {
          "output_type": "execute_result",
          "data": {
            "text/plain": [
              "array([[<matplotlib.axes._subplots.AxesSubplot object at 0x7f17715d7dd8>,\n",
              "        <matplotlib.axes._subplots.AxesSubplot object at 0x7f1771589cf8>,\n",
              "        <matplotlib.axes._subplots.AxesSubplot object at 0x7f17715450b8>,\n",
              "        <matplotlib.axes._subplots.AxesSubplot object at 0x7f1771574438>],\n",
              "       [<matplotlib.axes._subplots.AxesSubplot object at 0x7f17715247b8>,\n",
              "        <matplotlib.axes._subplots.AxesSubplot object at 0x7f17714d4b38>,\n",
              "        <matplotlib.axes._subplots.AxesSubplot object at 0x7f1771488eb8>,\n",
              "        <matplotlib.axes._subplots.AxesSubplot object at 0x7f1771446240>],\n",
              "       [<matplotlib.axes._subplots.AxesSubplot object at 0x7f17714462b0>,\n",
              "        <matplotlib.axes._subplots.AxesSubplot object at 0x7f1771428978>,\n",
              "        <matplotlib.axes._subplots.AxesSubplot object at 0x7f17713dbcf8>,\n",
              "        <matplotlib.axes._subplots.AxesSubplot object at 0x7f177139a0b8>],\n",
              "       [<matplotlib.axes._subplots.AxesSubplot object at 0x7f177134b438>,\n",
              "        <matplotlib.axes._subplots.AxesSubplot object at 0x7f177137e7b8>,\n",
              "        <matplotlib.axes._subplots.AxesSubplot object at 0x7f177132fb38>,\n",
              "        <matplotlib.axes._subplots.AxesSubplot object at 0x7f17712e5eb8>]],\n",
              "      dtype=object)"
            ]
          },
          "metadata": {
            "tags": []
          },
          "execution_count": 1229
        },
        {
          "output_type": "display_data",
          "data": {
            "image/png": "[encoded data removed]",
            "text/plain": [
              "<Figure size 1440x1440 with 16 Axes>"
            ]
          },
          "metadata": {
            "tags": [],
            "needs_background": "light"
          }
        }
      ]
    },
    {
      "cell_type": "code",
      "metadata": {
        "id": "oR8Dm3hEDOdo",
        "colab_type": "code",
        "colab": {}
      },
      "source": [
        "from sklearn.model_selection import train_test_split\n",
        "from sklearn import svm\n",
        "from sklearn.tree import DecisionTreeClassifier\n",
        "from sklearn.ensemble import RandomForestClassifier, AdaBoostClassifier,GradientBoostingClassifier\n",
        "from sklearn.linear_model import LogisticRegression\n"
      ],
      "execution_count": 1230,
      "outputs": []
    },
    {
      "cell_type": "code",
      "metadata": {
        "id": "wZGdN0qKHMEI",
        "colab_type": "code",
        "colab": {}
      },
      "source": [
        "from sklearn.metrics import accuracy_score,confusion_matrix\n",
        "from sklearn.metrics import classification_report,roc_auc_score,roc_curve"
      ],
      "execution_count": 1231,
      "outputs": []
    },
    {
      "cell_type": "code",
      "metadata": {
        "id": "3CS5UQ__2lRv",
        "colab_type": "code",
        "colab": {}
      },
      "source": [
        "# x = data.drop(['Loan_Status','Loan_ID'],axis=1)\n",
        "# y = data['Loan_Status']"
      ],
      "execution_count": 1232,
      "outputs": []
    },
    {
      "cell_type": "code",
      "metadata": {
        "id": "1QNM1zue2lT_",
        "colab_type": "code",
        "colab": {}
      },
      "source": [
        "#x_train,x_test,y_train,y_test = train_test_split(x,y, test_size=0.2, random_state=42, shuffle=True)"
      ],
      "execution_count": 1233,
      "outputs": []
    },
    {
      "cell_type": "code",
      "metadata": {
        "id": "Ge0m7wiU9RJm",
        "colab_type": "code",
        "colab": {
          "base_uri": "https://localhost:8080/",
          "height": 153
        },
        "outputId": "76dbf9bf-8c3e-491a-fb9b-a2475052e3fb"
      },
      "source": [
        "print(x_train.head())\n",
        "#print(y_train)"
      ],
      "execution_count": 1234,
      "outputs": [
        {
          "output_type": "stream",
          "text": [
            "     Gender  ApplicantIncome  ...  PA_Semiurban  PA_Urban\n",
            "564       0             8799  ...             0         1\n",
            "289       0             9508  ...             0         0\n",
            "324       0            15000  ...             0         0\n",
            "133       0             3459  ...             1         0\n",
            "175       0             3497  ...             0         0\n",
            "\n",
            "[5 rows x 13 columns]\n"
          ],
          "name": "stdout"
        }
      ]
    },
    {
      "cell_type": "code",
      "metadata": {
        "id": "O1LvTRbn2lY3",
        "colab_type": "code",
        "colab": {
          "base_uri": "https://localhost:8080/",
          "height": 567
        },
        "outputId": "24ebcfe2-df0d-43ca-b70d-c304acd8adcc"
      },
      "source": [
        "lr = LogisticRegression()\n",
        "lr.fit(x_train,y_train)\n",
        "y_pred = lr.predict(x_test)\n",
        "y_proba = lr.predict_proba(x_test)\n",
        "y_proba = y_proba[:,1]\n",
        "fper,tper,threshold = roc_curve(y_test,y_proba)\n",
        "acc = accuracy_score(y_test,y_pred)\n",
        "print('Accuracy_score=',acc)\n",
        "print('='*40)\n",
        "print(confusion_matrix(y_test,y_pred))\n",
        "print('='*40)\n",
        "print(classification_report(y_test,y_pred))\n",
        "print('='*40)\n",
        "print(roc_auc_score(y_test,y_proba))\n",
        "plt.plot(fper,tper)\n",
        "plt.plot([0,1],[0,1],'k--')\n",
        "plt.xlabel('False positive rate')\n",
        "plt.ylabel('True positive rate')\n",
        "plt.title('LR ROC_CURVE')\n",
        "plt.show()"
      ],
      "execution_count": 1235,
      "outputs": [
        {
          "output_type": "stream",
          "text": [
            "Accuracy_score= 0.8130081300813008\n",
            "========================================\n",
            "[[82  6]\n",
            " [17 18]]\n",
            "========================================\n",
            "              precision    recall  f1-score   support\n",
            "\n",
            "           0       0.83      0.93      0.88        88\n",
            "           1       0.75      0.51      0.61        35\n",
            "\n",
            "    accuracy                           0.81       123\n",
            "   macro avg       0.79      0.72      0.74       123\n",
            "weighted avg       0.81      0.81      0.80       123\n",
            "\n",
            "========================================\n",
            "0.7626623376623376\n"
          ],
          "name": "stdout"
        },
        {
          "output_type": "display_data",
          "data": {
            "image/png": "[encoded data removed]",
            "text/plain": [
              "<Figure size 432x288 with 1 Axes>"
            ]
          },
          "metadata": {
            "tags": [],
            "needs_background": "light"
          }
        }
      ]
    },
    {
      "cell_type": "code",
      "metadata": {
        "id": "L7unuIGJGjOP",
        "colab_type": "code",
        "colab": {
          "base_uri": "https://localhost:8080/",
          "height": 34
        },
        "outputId": "9f4bdfef-c396-4752-9109-290db33aa080"
      },
      "source": [
        "i =[0.0001,0.001,0.01,0.1,10]\n",
        "test_score = []\n",
        "for c in i:\n",
        "  clf = svm.SVC(C=c) #,gamma=0.1)\n",
        "  clf.fit(x_train,y_train)\n",
        "  y_pred=clf.predict(x_test)\n",
        "  acc = accuracy_score(y_test,y_pred)\n",
        "  test_score.append(acc)\n",
        "print(test_score)\n",
        "  \n"
      ],
      "execution_count": 1236,
      "outputs": [
        {
          "output_type": "stream",
          "text": [
            "[0.7154471544715447, 0.7154471544715447, 0.7154471544715447, 0.7154471544715447, 0.7154471544715447]\n"
          ],
          "name": "stdout"
        }
      ]
    },
    {
      "cell_type": "markdown",
      "metadata": {
        "id": "wdoAEVcmPYG4",
        "colab_type": "text"
      },
      "source": [
        "So, C=0.1 gives optimum value."
      ]
    },
    {
      "cell_type": "code",
      "metadata": {
        "id": "GMk8TdDIPWb1",
        "colab_type": "code",
        "colab": {
          "base_uri": "https://localhost:8080/",
          "height": 621
        },
        "outputId": "cd1da7a9-512d-4845-b382-4c1e66afce7d"
      },
      "source": [
        "clf=svm.SVC(C=0.1)          #gamma=0.1)\n",
        "clf.fit(x_train,y_train)\n",
        "y_pred=clf.predict(x_test)\n",
        "acc = accuracy_score(y_test,y_pred)\n",
        "print(acc)\n",
        "print('='*40)\n",
        "print(confusion_matrix(y_test,y_pred))\n",
        "print('='*40)\n",
        "print(classification_report(y_test,y_pred))\n",
        "print('='*40)\n",
        "print(roc_auc_score(y_test,y_proba))\n",
        "plt.plot(fper,tper)\n",
        "plt.plot([0,1],[0,1],'k--')\n",
        "plt.xlabel('False positive rate')\n",
        "plt.ylabel('True positive rate')\n",
        "plt.title('LR ROC_CURVE')\n",
        "plt.show()\n"
      ],
      "execution_count": 1237,
      "outputs": [
        {
          "output_type": "stream",
          "text": [
            "0.7154471544715447\n",
            "========================================\n",
            "[[88  0]\n",
            " [35  0]]\n",
            "========================================\n",
            "              precision    recall  f1-score   support\n",
            "\n",
            "           0       0.72      1.00      0.83        88\n",
            "           1       0.00      0.00      0.00        35\n",
            "\n",
            "    accuracy                           0.72       123\n",
            "   macro avg       0.36      0.50      0.42       123\n",
            "weighted avg       0.51      0.72      0.60       123\n",
            "\n",
            "========================================\n",
            "0.7626623376623376\n"
          ],
          "name": "stdout"
        },
        {
          "output_type": "stream",
          "text": [
            "/usr/local/lib/python3.6/dist-packages/sklearn/metrics/_classification.py:1272: UndefinedMetricWarning: Precision and F-score are ill-defined and being set to 0.0 in labels with no predicted samples. Use `zero_division` parameter to control this behavior.\n",
            "  _warn_prf(average, modifier, msg_start, len(result))\n"
          ],
          "name": "stderr"
        },
        {
          "output_type": "display_data",
          "data": {
            "image/png": "[encoded data removed]",
            "text/plain": [
              "<Figure size 432x288 with 1 Axes>"
            ]
          },
          "metadata": {
            "tags": [],
            "needs_background": "light"
          }
        }
      ]
    },
    {
      "cell_type": "code",
      "metadata": {
        "id": "hhJ1-VG7HKVi",
        "colab_type": "code",
        "colab": {
          "base_uri": "https://localhost:8080/",
          "height": 567
        },
        "outputId": "91785b0f-f9f2-4cab-8648-63bf89f650c4"
      },
      "source": [
        "ran = RandomForestClassifier(n_estimators=100,criterion='entropy',max_depth=5,max_features=2)\n",
        "ran.fit(x_train,y_train)\n",
        "y_pred= ran.predict(x_test)\n",
        "acc = accuracy_score(y_test,y_pred)\n",
        "print(acc)\n",
        "print('='*40)\n",
        "print(confusion_matrix(y_test,y_pred))\n",
        "print('='*40)\n",
        "print(classification_report(y_test,y_pred))\n",
        "print('='*40)\n",
        "print(roc_auc_score(y_test,y_proba))\n",
        "plt.plot(fper,tper)\n",
        "plt.plot([0,1],[0,1],'k--')\n",
        "plt.xlabel('False positive rate')\n",
        "plt.ylabel('True positive rate')\n",
        "plt.title('Random_Forest ROC_CURVE')\n",
        "plt.show()\n"
      ],
      "execution_count": 1238,
      "outputs": [
        {
          "output_type": "stream",
          "text": [
            "0.8130081300813008\n",
            "========================================\n",
            "[[83  5]\n",
            " [18 17]]\n",
            "========================================\n",
            "              precision    recall  f1-score   support\n",
            "\n",
            "           0       0.82      0.94      0.88        88\n",
            "           1       0.77      0.49      0.60        35\n",
            "\n",
            "    accuracy                           0.81       123\n",
            "   macro avg       0.80      0.71      0.74       123\n",
            "weighted avg       0.81      0.81      0.80       123\n",
            "\n",
            "========================================\n",
            "0.7626623376623376\n"
          ],
          "name": "stdout"
        },
        {
          "output_type": "display_data",
          "data": {
            "image/png": "[encoded data removed]",
            "text/plain": [
              "<Figure size 432x288 with 1 Axes>"
            ]
          },
          "metadata": {
            "tags": [],
            "needs_background": "light"
          }
        }
      ]
    },
    {
      "cell_type": "code",
      "metadata": {
        "id": "xErTLdvFKQkJ",
        "colab_type": "code",
        "colab": {
          "base_uri": "https://localhost:8080/",
          "height": 224
        },
        "outputId": "2b2e4129-3705-422a-abb7-bed885d94c85"
      },
      "source": [
        "from sklearn.ensemble import VotingClassifier\n",
        "from sklearn.neighbors import KNeighborsClassifier\n",
        "#VC = VotingClassifier()\n",
        "lr = LogisticRegression(max_iter=50,random_state=42)\n",
        "knn = KNeighborsClassifier()\n",
        "dt = DecisionTreeClassifier(max_depth=5,max_features=2,random_state=42)\n",
        "Classifiers = [('Logistic Regression',lr),('K Nearest Neighbour',knn),('Decision Tree',dt)]\n",
        "for clf_name,clf in Classifiers:\n",
        "  clf.fit(x_train,y_train)\n",
        "  y_pred=clf.predict(x_test)\n",
        "  acc = accuracy_score(y_test,y_pred)\n",
        "  print(acc)\n",
        "  #print(':s',':.3f'.format(clf_name,accuracy_score(y_test,y_pred)))"
      ],
      "execution_count": 1239,
      "outputs": [
        {
          "output_type": "stream",
          "text": [
            "0.8211382113821138\n",
            "0.6097560975609756\n",
            "0.8130081300813008\n"
          ],
          "name": "stdout"
        },
        {
          "output_type": "stream",
          "text": [
            "/usr/local/lib/python3.6/dist-packages/sklearn/linear_model/_logistic.py:940: ConvergenceWarning: lbfgs failed to converge (status=1):\n",
            "STOP: TOTAL NO. of ITERATIONS REACHED LIMIT.\n",
            "\n",
            "Increase the number of iterations (max_iter) or scale the data as shown in:\n",
            "    https://scikit-learn.org/stable/modules/preprocessing.html\n",
            "Please also refer to the documentation for alternative solver options:\n",
            "    https://scikit-learn.org/stable/modules/linear_model.html#logistic-regression\n",
            "  extra_warning_msg=_LOGISTIC_SOLVER_CONVERGENCE_MSG)\n"
          ],
          "name": "stderr"
        }
      ]
    },
    {
      "cell_type": "code",
      "metadata": {
        "id": "6Rl_Gkiecn1J",
        "colab_type": "code",
        "colab": {
          "base_uri": "https://localhost:8080/",
          "height": 723
        },
        "outputId": "2e94654b-65b4-4849-ad2e-a987d7f49cb0"
      },
      "source": [
        "VC = VotingClassifier(estimators=Classifiers)\n",
        "VC.fit(x_train,y_train)\n",
        "y_pred = VC.predict(x_test)\n",
        "acc = accuracy_score(y_test,y_pred)\n",
        "print(acc)\n",
        "print('='*40)\n",
        "print(confusion_matrix(y_test,y_pred))\n",
        "print('='*40)\n",
        "print(classification_report(y_test,y_pred))\n",
        "print('='*40)\n",
        "print(roc_auc_score(y_test,y_proba))\n",
        "plt.plot(fper,tper)\n",
        "plt.plot([0,1],[0,1],'k--')\n",
        "plt.xlabel('False positive rate')\n",
        "plt.ylabel('True positive rate')\n",
        "plt.title('Random_Forest ROC_CURVE')\n",
        "plt.show()\n"
      ],
      "execution_count": 1240,
      "outputs": [
        {
          "output_type": "stream",
          "text": [
            "/usr/local/lib/python3.6/dist-packages/sklearn/linear_model/_logistic.py:940: ConvergenceWarning: lbfgs failed to converge (status=1):\n",
            "STOP: TOTAL NO. of ITERATIONS REACHED LIMIT.\n",
            "\n",
            "Increase the number of iterations (max_iter) or scale the data as shown in:\n",
            "    https://scikit-learn.org/stable/modules/preprocessing.html\n",
            "Please also refer to the documentation for alternative solver options:\n",
            "    https://scikit-learn.org/stable/modules/linear_model.html#logistic-regression\n",
            "  extra_warning_msg=_LOGISTIC_SOLVER_CONVERGENCE_MSG)\n"
          ],
          "name": "stderr"
        },
        {
          "output_type": "stream",
          "text": [
            "0.8211382113821138\n",
            "========================================\n",
            "[[82  6]\n",
            " [16 19]]\n",
            "========================================\n",
            "              precision    recall  f1-score   support\n",
            "\n",
            "           0       0.84      0.93      0.88        88\n",
            "           1       0.76      0.54      0.63        35\n",
            "\n",
            "    accuracy                           0.82       123\n",
            "   macro avg       0.80      0.74      0.76       123\n",
            "weighted avg       0.81      0.82      0.81       123\n",
            "\n",
            "========================================\n",
            "0.7626623376623376\n"
          ],
          "name": "stdout"
        },
        {
          "output_type": "display_data",
          "data": {
            "image/png": "[encoded data removed]",
            "text/plain": [
              "<Figure size 432x288 with 1 Axes>"
            ]
          },
          "metadata": {
            "tags": [],
            "needs_background": "light"
          }
        }
      ]
    },
    {
      "cell_type": "code",
      "metadata": {
        "id": "UWmcQTkQdZFw",
        "colab_type": "code",
        "colab": {}
      },
      "source": [
        "# from sklearn.decomposition import PCA\n",
        "# features = data['Education','LoanAmount','Self_Employed','PropertyArea','Gender','Married','Dependent','Applicant_Income','CoapplicantIncome','Loan_Amount_Term','Credit_History']\n",
        "# x = data.loc[:,features].values\n",
        "# y = data.loc[['Loan_Status']].values\n",
        "# x = StandardScaler.fit_transform(x)\n",
        "# pca = PCA(n_components=4)\n",
        "# prin_comp = pca.fit_transform(x)\n"
      ],
      "execution_count": 1241,
      "outputs": []
    },
    {
      "cell_type": "code",
      "metadata": {
        "id": "0hwd02HSkBVf",
        "colab_type": "code",
        "colab": {}
      },
      "source": [
        "# from sklearn.decomposition import PCA\n",
        "# pca = PCA(0.99)\n",
        "# x_train  = pca.fit_transform(x_train)\n",
        "# x_test = pca.fit_transform(x_test)\n",
        "# lr = LogisticRegression(max_iter=50,random_state=42)\n",
        "# lr.fit(x_train,y_train)\n",
        "# y_pred = lr.predict(x_test)\n",
        "# acc = accuracy_score(y_test,y_pred)\n",
        "# print(acc)"
      ],
      "execution_count": 1242,
      "outputs": []
    },
    {
      "cell_type": "code",
      "metadata": {
        "id": "AkF_lL5sl4sz",
        "colab_type": "code",
        "colab": {
          "base_uri": "https://localhost:8080/",
          "height": 54
        },
        "outputId": "8d296acd-bd62-47f8-cdc8-1a81396fd12b"
      },
      "source": [
        "from sklearn.ensemble import BaggingClassifier\n",
        "dt = DecisionTreeClassifier(max_depth=5,max_features=2,random_state=42)\n",
        "n =[5,15,25,50,100,300,500,1000]\n",
        "test_score=[]\n",
        "for k in n:\n",
        "  bc = BaggingClassifier(base_estimator=dt,n_estimators=k,n_jobs=-1)\n",
        "  bc.fit(x_train,y_train)\n",
        "  y_pred = bc.predict(x_test)\n",
        "  acc = accuracy_score(y_test,y_pred)\n",
        "  test_score.append(acc)\n",
        "print(test_score)\n",
        "\n"
      ],
      "execution_count": 1243,
      "outputs": [
        {
          "output_type": "stream",
          "text": [
            "[0.7967479674796748, 0.8048780487804879, 0.8211382113821138, 0.8130081300813008, 0.8211382113821138, 0.8211382113821138, 0.8211382113821138, 0.8211382113821138]\n"
          ],
          "name": "stdout"
        }
      ]
    },
    {
      "cell_type": "markdown",
      "metadata": {
        "id": "eUXWvZ0inpeB",
        "colab_type": "text"
      },
      "source": [
        "so, n_estimator = 25 gives optimum result"
      ]
    }
  ]
}