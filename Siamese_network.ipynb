{
  "nbformat": 4,
  "nbformat_minor": 0,
  "metadata": {
    "colab": {
      "name": "Siamese_network.ipynb",
      "provenance": [],
      "authorship_tag": "ABX9TyOnGenDCuqkoRjzXprRkZpn",
      "include_colab_link": true
    },
    "kernelspec": {
      "name": "python3",
      "display_name": "Python 3"
    }
  },
  "cells": [
    {
      "cell_type": "markdown",
      "metadata": {
        "id": "view-in-github",
        "colab_type": "text"
      },
      "source": [
        "<a href=\"https://colab.research.google.com/github/NehaNeha417/loan_prediction/blob/master/Siamese_network.ipynb\" target=\"_parent\"><img src=\"https://colab.research.google.com/assets/colab-badge.svg\" alt=\"Open In Colab\"/></a>"
      ]
    },
    {
      "cell_type": "code",
      "metadata": {
        "id": "i4Wl3c9AIySO",
        "colab_type": "code",
        "colab": {}
      },
      "source": [
        "import tensorflow as tf\n",
        "import matplotlib.pyplot as plt\n",
        "import random\n",
        "import numpy as np"
      ],
      "execution_count": 22,
      "outputs": []
    },
    {
      "cell_type": "code",
      "metadata": {
        "id": "cNzwsCp9I0DD",
        "colab_type": "code",
        "colab": {
          "base_uri": "https://localhost:8080/",
          "height": 52
        },
        "outputId": "15c81d80-c102-4bbf-866b-9ef2c1114f4e"
      },
      "source": [
        "(x_train, y_train), (x_test, y_test) = tf.keras.datasets.mnist.load_data()\n",
        "print(x_train.shape)\n",
        "print(y_train.shape)"
      ],
      "execution_count": 23,
      "outputs": [
        {
          "output_type": "stream",
          "text": [
            "(60000, 28, 28)\n",
            "(60000,)\n"
          ],
          "name": "stdout"
        }
      ]
    },
    {
      "cell_type": "code",
      "metadata": {
        "id": "zu9g7iwaIzx3",
        "colab_type": "code",
        "colab": {}
      },
      "source": [
        "x_train = x_train.reshape((60000, 784))/255.0\n",
        "x_test = x_test.reshape((10000,784))/255.0"
      ],
      "execution_count": 24,
      "outputs": []
    },
    {
      "cell_type": "code",
      "metadata": {
        "id": "C74pUI0KbyN2",
        "colab_type": "code",
        "colab": {
          "base_uri": "https://localhost:8080/",
          "height": 34
        },
        "outputId": "15a156c0-2142-473e-a229-4e4addacc566"
      },
      "source": [
        "print(x_train.shape)"
      ],
      "execution_count": 27,
      "outputs": [
        {
          "output_type": "stream",
          "text": [
            "(60000, 784)\n"
          ],
          "name": "stdout"
        }
      ]
    },
    {
      "cell_type": "code",
      "metadata": {
        "id": "4LlaORveIzun",
        "colab_type": "code",
        "colab": {}
      },
      "source": [
        "def plot_triplet(triplet):\n",
        "  plt.figure(figsize=(6,2))\n",
        "  for i in range(3):\n",
        "    plt.subplot(1,3, i+1)\n",
        "    plt.imshow(np.reshape(triplet[i], (28,28)) , cmap='binary')\n",
        "    plt.xticks([])\n",
        "    plt.yticks([])\n",
        "  plt.show()\n"
      ],
      "execution_count": 28,
      "outputs": []
    },
    {
      "cell_type": "code",
      "metadata": {
        "id": "c5hDANBdIzrE",
        "colab_type": "code",
        "colab": {
          "base_uri": "https://localhost:8080/",
          "height": 151
        },
        "outputId": "d9ffa7eb-36b2-4006-d723-ac47db75aef3"
      },
      "source": [
        "x = np.random.randint(0,60000-1,3)\n",
        "print(x)\n",
        "triplet_list = []\n",
        "for i in x:\n",
        "  triplet_list.append(x_train[i])\n",
        "plot_triplet(triplet_list)\n",
        "   \n",
        "\n",
        "#plot_triplet([x_train[0],x_train[1],x_train[2]])\n"
      ],
      "execution_count": 33,
      "outputs": [
        {
          "output_type": "stream",
          "text": [
            "[18651  9275 41315]\n"
          ],
          "name": "stdout"
        },
        {
          "output_type": "display_data",
          "data": {
            "image/png": "[encoded data removed]",
            "text/plain": [
              "<Figure size 432x144 with 3 Axes>"
            ]
          },
          "metadata": {
            "tags": []
          }
        }
      ]
    },
    {
      "cell_type": "code",
      "metadata": {
        "id": "BWyRefpRIzpY",
        "colab_type": "code",
        "colab": {}
      },
      "source": [
        "def create_batch(batch_size):                            \n",
        "  x_anchors = np.zeros((batch_size, 784))\n",
        "  x_positives = np.zeros((batch_size, 784))\n",
        "  x_negatives = np.zeros((batch_size, 784))\n",
        "\n",
        "  for i in range(batch_size):\n",
        "    \n",
        "    index_for_anc = random.randint(0, 60000-1)\n",
        "    x_anchor = x_train[index_for_anc]\n",
        "    y = y_train[index_for_anc]\n",
        "\n",
        "    index_for_pos = np.squeeze(np.where(y_train == y))\n",
        "    index_for_neg = np.squeeze(np.where(y_train != y))\n",
        "\n",
        "    x_positive = x_train[index_for_pos[random.randint(0,len(index_for_pos)-1)]]\n",
        "    x_negative = x_train[index_for_neg[random.randint(0,len(index_for_neg)-1)]]\n",
        "    x_anchors[i] = x_anchor\n",
        "    x_positives[i] = x_positive\n",
        "    x_negatives[i] = x_negative\n",
        "\n",
        "  return [x_anchors, x_positives, x_negatives]"
      ],
      "execution_count": 54,
      "outputs": []
    },
    {
      "cell_type": "code",
      "metadata": {
        "id": "3yiCJTDnh7-J",
        "colab_type": "code",
        "colab": {
          "base_uri": "https://localhost:8080/",
          "height": 133
        },
        "outputId": "1b789f10-d841-4c6e-e23d-4ad1cb98b795"
      },
      "source": [
        "new_triplets = create_batch(1)\n",
        "plot_triplet(new_triplets)"
      ],
      "execution_count": 57,
      "outputs": [
        {
          "output_type": "display_data",
          "data": {
            "image/png": "[encoded data removed]",
            "text/plain": [
              "<Figure size 432x144 with 3 Axes>"
            ]
          },
          "metadata": {
            "tags": []
          }
        }
      ]
    },
    {
      "cell_type": "code",
      "metadata": {
        "id": "sSRiTzhXh8CD",
        "colab_type": "code",
        "colab": {
          "base_uri": "https://localhost:8080/",
          "height": 230
        },
        "outputId": "315918ad-80b5-48ed-b742-92979457a1c5"
      },
      "source": [
        "emb_size = 64\n",
        "embedding_model = tf.keras.models.Sequential([\n",
        "                                              tf.keras.layers.Dense(emb_size, activation='relu', input_shape=(784,)),\n",
        "                                              tf.keras.layers.Dense(64, activation='sigmoid')\n",
        "])\n",
        "embedding_model.summary()"
      ],
      "execution_count": 61,
      "outputs": [
        {
          "output_type": "stream",
          "text": [
            "Model: \"sequential\"\n",
            "_________________________________________________________________\n",
            "Layer (type)                 Output Shape              Param #   \n",
            "=================================================================\n",
            "dense (Dense)                (None, 64)                50240     \n",
            "_________________________________________________________________\n",
            "dense_1 (Dense)              (None, 64)                4160      \n",
            "=================================================================\n",
            "Total params: 54,400\n",
            "Trainable params: 54,400\n",
            "Non-trainable params: 0\n",
            "_________________________________________________________________\n"
          ],
          "name": "stdout"
        }
      ]
    },
    {
      "cell_type": "code",
      "metadata": {
        "id": "WuJa-ab6h76v",
        "colab_type": "code",
        "colab": {
          "base_uri": "https://localhost:8080/",
          "height": 212
        },
        "outputId": "741130a9-e2a9-45a7-a3ee-8b0f8c2eb17a"
      },
      "source": [
        "example = np.expand_dims(x_train[0], axis=0)\n",
        "example_embedding = embedding_model.predict(example)[0]\n",
        "print(example_embedding)"
      ],
      "execution_count": 64,
      "outputs": [
        {
          "output_type": "stream",
          "text": [
            "[0.57286626 0.550995   0.4798746  0.4795397  0.46076182 0.4293689\n",
            " 0.4897737  0.612711   0.4414808  0.57228386 0.45733532 0.50000197\n",
            " 0.58618855 0.4750168  0.48712826 0.49497086 0.5699493  0.5495995\n",
            " 0.53018117 0.5528948  0.4210618  0.5111812  0.5601389  0.43741593\n",
            " 0.5202164  0.5924973  0.48957494 0.47966653 0.5501043  0.56967187\n",
            " 0.53635305 0.42770362 0.50345737 0.4381371  0.5980284  0.4205498\n",
            " 0.47922808 0.43043536 0.5645304  0.56986034 0.5235837  0.5347847\n",
            " 0.42703882 0.44701543 0.5466859  0.3729276  0.5550672  0.41576973\n",
            " 0.47389838 0.50356907 0.46075663 0.4278267  0.5484039  0.5509758\n",
            " 0.3353379  0.4948575  0.5058394  0.45782688 0.53513545 0.4085916\n",
            " 0.5189915  0.58039284 0.4956882  0.4705102 ]\n"
          ],
          "name": "stdout"
        }
      ]
    },
    {
      "cell_type": "code",
      "metadata": {
        "id": "EUadcjN9h74O",
        "colab_type": "code",
        "colab": {
          "base_uri": "https://localhost:8080/",
          "height": 407
        },
        "outputId": "76ff29b9-3f7f-424e-dd00-bfbda7c6fb8a"
      },
      "source": [
        "in_anc = tf.keras.layers.Input(shape=(784,))\n",
        "in_pos = tf.keras.layers.Input(shape=(784,))\n",
        "in_neg = tf.keras.layers.Input(shape=(784,))\n",
        "\n",
        "emb_anc = embedding_model(in_anc)\n",
        "emb_pos = embedding_model(in_pos)\n",
        "emb_neg = embedding_model(in_neg)\n",
        "\n",
        "output = tf.keras.layers.concatenate([emb_anc, emb_pos, emb_neg], axis=1)\n",
        "\n",
        "sia_network = tf.keras.models.Model([in_anc, in_pos ,in_neg], output)\n",
        "                            \n",
        "sia_network.summary()"
      ],
      "execution_count": 75,
      "outputs": [
        {
          "output_type": "stream",
          "text": [
            "Model: \"functional_3\"\n",
            "__________________________________________________________________________________________________\n",
            "Layer (type)                    Output Shape         Param #     Connected to                     \n",
            "==================================================================================================\n",
            "input_31 (InputLayer)           [(None, 784)]        0                                            \n",
            "__________________________________________________________________________________________________\n",
            "input_32 (InputLayer)           [(None, 784)]        0                                            \n",
            "__________________________________________________________________________________________________\n",
            "input_33 (InputLayer)           [(None, 784)]        0                                            \n",
            "__________________________________________________________________________________________________\n",
            "sequential (Sequential)         (None, 64)           54400       input_31[0][0]                   \n",
            "                                                                 input_32[0][0]                   \n",
            "                                                                 input_33[0][0]                   \n",
            "__________________________________________________________________________________________________\n",
            "concatenate_6 (Concatenate)     (None, 192)          0           sequential[0][0]                 \n",
            "                                                                 sequential[1][0]                 \n",
            "                                                                 sequential[2][0]                 \n",
            "==================================================================================================\n",
            "Total params: 54,400\n",
            "Trainable params: 54,400\n",
            "Non-trainable params: 0\n",
            "__________________________________________________________________________________________________\n"
          ],
          "name": "stdout"
        }
      ]
    },
    {
      "cell_type": "code",
      "metadata": {
        "id": "abo78OQH5727",
        "colab_type": "code",
        "colab": {}
      },
      "source": [
        "def triplet_loss(alpha, emb_dim):\n",
        "  def loss(y_true, y_pred):\n",
        "    anc, pos, neg = y_pred[:, :emb_dim], y_pred[:, emb_dim:2*emb_dim], y_pred[:,2*emb_dim:]\n",
        "    dp = tf.reduce_mean(tf.square(anc-pos), axis=1)\n",
        "    dn = tf.reduce_mean(tf.square(anc-neg), axis=1)\n",
        "    return tf.maximum(dp - dn + alpha, 0)\n",
        "  return loss\n",
        "\n"
      ],
      "execution_count": 86,
      "outputs": []
    },
    {
      "cell_type": "code",
      "metadata": {
        "id": "0ngpVfJx570U",
        "colab_type": "code",
        "colab": {}
      },
      "source": [
        "def data_generator(alpha, emb_dim):\n",
        "  while True:\n",
        "    x = create_batch(batch_size)\n",
        "    y = np.zeros((batch_size, 3*emb_dim))\n",
        "    yield x, y"
      ],
      "execution_count": 87,
      "outputs": []
    },
    {
      "cell_type": "code",
      "metadata": {
        "id": "aDB2nLWV57zP",
        "colab_type": "code",
        "colab": {}
      },
      "source": [
        "alpha=0.2\n",
        "emb_dim=64\n",
        "batch_size = 1024\n",
        "epochs = 10\n",
        "steps_per_epoch = 60000/batch_size\n",
        "sia_network.compile(loss=triplet_loss(alpha, emb_dim), optimizer='adam')\n",
        "\n",
        "X,Y = x_test[:1000],y_test[:1000]"
      ],
      "execution_count": 88,
      "outputs": []
    },
    {
      "cell_type": "code",
      "metadata": {
        "id": "zMtmaOWZEaWs",
        "colab_type": "code",
        "colab": {}
      },
      "source": [
        "from pca_plotter import PCAPlotter"
      ],
      "execution_count": 89,
      "outputs": []
    },
    {
      "cell_type": "code",
      "metadata": {
        "id": "lczOAamU57xi",
        "colab_type": "code",
        "colab": {
          "base_uri": "https://localhost:8080/",
          "height": 296
        },
        "outputId": "53dd018d-6255-42ac-e2de-03578a2237a4"
      },
      "source": [
        "sia_network.fit(\n",
        "    data_generator(alpha=0.2, emb_dim=emb_dim),\n",
        "    epochs=epochs, steps_per_epoch=steps_per_epoch,\n",
        "    verbose=False, callbacks=[\n",
        "                              PCAPlotter(plt, embedding_model, X, Y)\n",
        "    ]\n",
        ")"
      ],
      "execution_count": 90,
      "outputs": [
        {
          "output_type": "execute_result",
          "data": {
            "text/plain": [
              "<tensorflow.python.keras.callbacks.History at 0x7f20cdfaf278>"
            ]
          },
          "metadata": {
            "tags": []
          },
          "execution_count": 90
        },
        {
          "output_type": "display_data",
          "data": {
            "image/png": "[encoded data removed]",
            "text/plain": [
              "<Figure size 648x288 with 2 Axes>"
            ]
          },
          "metadata": {
            "tags": [],
            "needs_background": "light"
          }
        }
      ]
    },
    {
      "cell_type": "code",
      "metadata": {
        "id": "zbeAaG7L57s5",
        "colab_type": "code",
        "colab": {}
      },
      "source": [
        ""
      ],
      "execution_count": null,
      "outputs": []
    }
  ]
}