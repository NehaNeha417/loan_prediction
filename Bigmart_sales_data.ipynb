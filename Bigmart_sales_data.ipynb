{
  "nbformat": 4,
  "nbformat_minor": 0,
  "metadata": {
    "colab": {
      "name": "Bigmart_sales_data.ipynb",
      "provenance": [],
      "collapsed_sections": [],
      "authorship_tag": "ABX9TyMxYfj6xr813qTUUeQTvG0V",
      "include_colab_link": true
    },
    "kernelspec": {
      "name": "python3",
      "display_name": "Python 3"
    }
  },
  "cells": [
    {
      "cell_type": "markdown",
      "metadata": {
        "id": "view-in-github",
        "colab_type": "text"
      },
      "source": [
        "<a href=\"https://colab.research.google.com/github/NehaNeha417/loan_prediction/blob/master/Bigmart_sales_data.ipynb\" target=\"_parent\"><img src=\"https://colab.research.google.com/assets/colab-badge.svg\" alt=\"Open In Colab\"/></a>"
      ]
    },
    {
      "cell_type": "code",
      "metadata": {
        "id": "MCRuupxs7CLc",
        "colab_type": "code",
        "colab": {}
      },
      "source": [
        "import numpy as np\n",
        "import pandas as pd\n",
        "import matplotlib.pyplot as plt\n",
        "import seaborn as sns"
      ],
      "execution_count": 762,
      "outputs": []
    },
    {
      "cell_type": "code",
      "metadata": {
        "id": "SU4gKFd57CIH",
        "colab_type": "code",
        "colab": {}
      },
      "source": [
        "d_train = pd.read_csv('/content/datasets_9961_14084_Train - Copy.csv')\n",
        "d_test = pd.read_csv('/datasets_9961_14084_Test.csv')"
      ],
      "execution_count": 763,
      "outputs": []
    },
    {
      "cell_type": "code",
      "metadata": {
        "id": "L6SUcRGE7CGS",
        "colab_type": "code",
        "colab": {
          "base_uri": "https://localhost:8080/",
          "height": 609
        },
        "outputId": "688d7919-c277-45fe-c390-255fd219c1ee"
      },
      "source": [
        "d_train.tail(1000)"
      ],
      "execution_count": 764,
      "outputs": [
        {
          "output_type": "execute_result",
          "data": {
            "text/html": [
              "<div>\n",
              "<style scoped>\n",
              "    .dataframe tbody tr th:only-of-type {\n",
              "        vertical-align: middle;\n",
              "    }\n",
              "\n",
              "    .dataframe tbody tr th {\n",
              "        vertical-align: top;\n",
              "    }\n",
              "\n",
              "    .dataframe thead th {\n",
              "        text-align: right;\n",
              "    }\n",
              "</style>\n",
              "<table border=\"1\" class=\"dataframe\">\n",
              "  <thead>\n",
              "    <tr style=\"text-align: right;\">\n",
              "      <th></th>\n",
              "      <th>Item_Identifier</th>\n",
              "      <th>Item_Weight</th>\n",
              "      <th>Item_Fat_Content</th>\n",
              "      <th>Item_Visibility</th>\n",
              "      <th>Item_Type</th>\n",
              "      <th>Item_MRP</th>\n",
              "      <th>Outlet_Identifier</th>\n",
              "      <th>Outlet_Establishment_Year</th>\n",
              "      <th>Outlet_Size</th>\n",
              "      <th>Outlet_Location_Type</th>\n",
              "      <th>Outlet_Type</th>\n",
              "      <th>Item_Outlet_Sales</th>\n",
              "    </tr>\n",
              "  </thead>\n",
              "  <tbody>\n",
              "    <tr>\n",
              "      <th>7523</th>\n",
              "      <td>FDR28</td>\n",
              "      <td>13.850</td>\n",
              "      <td>Regular</td>\n",
              "      <td>0.025937</td>\n",
              "      <td>Frozen Foods</td>\n",
              "      <td>164.9210</td>\n",
              "      <td>OUT049</td>\n",
              "      <td>1999</td>\n",
              "      <td>Medium</td>\n",
              "      <td>Tier 1</td>\n",
              "      <td>Supermarket Type1</td>\n",
              "      <td>2609.9360</td>\n",
              "    </tr>\n",
              "    <tr>\n",
              "      <th>7524</th>\n",
              "      <td>FDH57</td>\n",
              "      <td>10.895</td>\n",
              "      <td>Low Fat</td>\n",
              "      <td>0.035950</td>\n",
              "      <td>Fruits and Vegetables</td>\n",
              "      <td>132.9284</td>\n",
              "      <td>OUT017</td>\n",
              "      <td>2007</td>\n",
              "      <td>NaN</td>\n",
              "      <td>Tier 2</td>\n",
              "      <td>Supermarket Type1</td>\n",
              "      <td>3295.7100</td>\n",
              "    </tr>\n",
              "    <tr>\n",
              "      <th>7525</th>\n",
              "      <td>FDC04</td>\n",
              "      <td>15.600</td>\n",
              "      <td>Low Fat</td>\n",
              "      <td>0.045169</td>\n",
              "      <td>Dairy</td>\n",
              "      <td>242.9854</td>\n",
              "      <td>OUT018</td>\n",
              "      <td>2009</td>\n",
              "      <td>Medium</td>\n",
              "      <td>Tier 3</td>\n",
              "      <td>Supermarket Type2</td>\n",
              "      <td>2175.1686</td>\n",
              "    </tr>\n",
              "    <tr>\n",
              "      <th>7526</th>\n",
              "      <td>NCI06</td>\n",
              "      <td>11.300</td>\n",
              "      <td>Low Fat</td>\n",
              "      <td>0.047678</td>\n",
              "      <td>Household</td>\n",
              "      <td>181.4660</td>\n",
              "      <td>OUT013</td>\n",
              "      <td>1987</td>\n",
              "      <td>High</td>\n",
              "      <td>Tier 3</td>\n",
              "      <td>Supermarket Type1</td>\n",
              "      <td>3775.0860</td>\n",
              "    </tr>\n",
              "    <tr>\n",
              "      <th>7527</th>\n",
              "      <td>NCY53</td>\n",
              "      <td>20.000</td>\n",
              "      <td>Low Fat</td>\n",
              "      <td>0.058812</td>\n",
              "      <td>Health and Hygiene</td>\n",
              "      <td>111.6544</td>\n",
              "      <td>OUT017</td>\n",
              "      <td>2007</td>\n",
              "      <td>NaN</td>\n",
              "      <td>Tier 2</td>\n",
              "      <td>Supermarket Type1</td>\n",
              "      <td>1565.9616</td>\n",
              "    </tr>\n",
              "    <tr>\n",
              "      <th>...</th>\n",
              "      <td>...</td>\n",
              "      <td>...</td>\n",
              "      <td>...</td>\n",
              "      <td>...</td>\n",
              "      <td>...</td>\n",
              "      <td>...</td>\n",
              "      <td>...</td>\n",
              "      <td>...</td>\n",
              "      <td>...</td>\n",
              "      <td>...</td>\n",
              "      <td>...</td>\n",
              "      <td>...</td>\n",
              "    </tr>\n",
              "    <tr>\n",
              "      <th>8518</th>\n",
              "      <td>FDF22</td>\n",
              "      <td>6.865</td>\n",
              "      <td>Low Fat</td>\n",
              "      <td>0.056783</td>\n",
              "      <td>Snack Foods</td>\n",
              "      <td>214.5218</td>\n",
              "      <td>OUT013</td>\n",
              "      <td>1987</td>\n",
              "      <td>High</td>\n",
              "      <td>Tier 3</td>\n",
              "      <td>Supermarket Type1</td>\n",
              "      <td>2778.3834</td>\n",
              "    </tr>\n",
              "    <tr>\n",
              "      <th>8519</th>\n",
              "      <td>FDS36</td>\n",
              "      <td>8.380</td>\n",
              "      <td>Regular</td>\n",
              "      <td>0.046982</td>\n",
              "      <td>Baking Goods</td>\n",
              "      <td>108.1570</td>\n",
              "      <td>OUT045</td>\n",
              "      <td>2002</td>\n",
              "      <td>NaN</td>\n",
              "      <td>Tier 2</td>\n",
              "      <td>Supermarket Type1</td>\n",
              "      <td>549.2850</td>\n",
              "    </tr>\n",
              "    <tr>\n",
              "      <th>8520</th>\n",
              "      <td>NCJ29</td>\n",
              "      <td>10.600</td>\n",
              "      <td>Low Fat</td>\n",
              "      <td>0.035186</td>\n",
              "      <td>Health and Hygiene</td>\n",
              "      <td>85.1224</td>\n",
              "      <td>OUT035</td>\n",
              "      <td>2004</td>\n",
              "      <td>Small</td>\n",
              "      <td>Tier 2</td>\n",
              "      <td>Supermarket Type1</td>\n",
              "      <td>1193.1136</td>\n",
              "    </tr>\n",
              "    <tr>\n",
              "      <th>8521</th>\n",
              "      <td>FDN46</td>\n",
              "      <td>7.210</td>\n",
              "      <td>Regular</td>\n",
              "      <td>0.145221</td>\n",
              "      <td>Snack Foods</td>\n",
              "      <td>103.1332</td>\n",
              "      <td>OUT018</td>\n",
              "      <td>2009</td>\n",
              "      <td>Medium</td>\n",
              "      <td>Tier 3</td>\n",
              "      <td>Supermarket Type2</td>\n",
              "      <td>1845.5976</td>\n",
              "    </tr>\n",
              "    <tr>\n",
              "      <th>8522</th>\n",
              "      <td>DRG01</td>\n",
              "      <td>14.800</td>\n",
              "      <td>Low Fat</td>\n",
              "      <td>0.044878</td>\n",
              "      <td>Soft Drinks</td>\n",
              "      <td>75.4670</td>\n",
              "      <td>OUT046</td>\n",
              "      <td>1997</td>\n",
              "      <td>Small</td>\n",
              "      <td>Tier 1</td>\n",
              "      <td>Supermarket Type1</td>\n",
              "      <td>765.6700</td>\n",
              "    </tr>\n",
              "  </tbody>\n",
              "</table>\n",
              "<p>1000 rows × 12 columns</p>\n",
              "</div>"
            ],
            "text/plain": [
              "     Item_Identifier  Item_Weight  ...        Outlet_Type  Item_Outlet_Sales\n",
              "7523           FDR28       13.850  ...  Supermarket Type1          2609.9360\n",
              "7524           FDH57       10.895  ...  Supermarket Type1          3295.7100\n",
              "7525           FDC04       15.600  ...  Supermarket Type2          2175.1686\n",
              "7526           NCI06       11.300  ...  Supermarket Type1          3775.0860\n",
              "7527           NCY53       20.000  ...  Supermarket Type1          1565.9616\n",
              "...              ...          ...  ...                ...                ...\n",
              "8518           FDF22        6.865  ...  Supermarket Type1          2778.3834\n",
              "8519           FDS36        8.380  ...  Supermarket Type1           549.2850\n",
              "8520           NCJ29       10.600  ...  Supermarket Type1          1193.1136\n",
              "8521           FDN46        7.210  ...  Supermarket Type2          1845.5976\n",
              "8522           DRG01       14.800  ...  Supermarket Type1           765.6700\n",
              "\n",
              "[1000 rows x 12 columns]"
            ]
          },
          "metadata": {
            "tags": []
          },
          "execution_count": 764
        }
      ]
    },
    {
      "cell_type": "code",
      "metadata": {
        "id": "fLJfjsnZ7CC7",
        "colab_type": "code",
        "colab": {
          "base_uri": "https://localhost:8080/",
          "height": 309
        },
        "outputId": "24432316-c440-4629-e33e-6e48b8626a3b"
      },
      "source": [
        "d_test.head()"
      ],
      "execution_count": 765,
      "outputs": [
        {
          "output_type": "execute_result",
          "data": {
            "text/html": [
              "<div>\n",
              "<style scoped>\n",
              "    .dataframe tbody tr th:only-of-type {\n",
              "        vertical-align: middle;\n",
              "    }\n",
              "\n",
              "    .dataframe tbody tr th {\n",
              "        vertical-align: top;\n",
              "    }\n",
              "\n",
              "    .dataframe thead th {\n",
              "        text-align: right;\n",
              "    }\n",
              "</style>\n",
              "<table border=\"1\" class=\"dataframe\">\n",
              "  <thead>\n",
              "    <tr style=\"text-align: right;\">\n",
              "      <th></th>\n",
              "      <th>Item_Identifier</th>\n",
              "      <th>Item_Weight</th>\n",
              "      <th>Item_Fat_Content</th>\n",
              "      <th>Item_Visibility</th>\n",
              "      <th>Item_Type</th>\n",
              "      <th>Item_MRP</th>\n",
              "      <th>Outlet_Identifier</th>\n",
              "      <th>Outlet_Establishment_Year</th>\n",
              "      <th>Outlet_Size</th>\n",
              "      <th>Outlet_Location_Type</th>\n",
              "      <th>Outlet_Type</th>\n",
              "    </tr>\n",
              "  </thead>\n",
              "  <tbody>\n",
              "    <tr>\n",
              "      <th>0</th>\n",
              "      <td>FDW58</td>\n",
              "      <td>20.750</td>\n",
              "      <td>Low Fat</td>\n",
              "      <td>0.007565</td>\n",
              "      <td>Snack Foods</td>\n",
              "      <td>107.8622</td>\n",
              "      <td>OUT049</td>\n",
              "      <td>1999</td>\n",
              "      <td>Medium</td>\n",
              "      <td>Tier 1</td>\n",
              "      <td>Supermarket Type1</td>\n",
              "    </tr>\n",
              "    <tr>\n",
              "      <th>1</th>\n",
              "      <td>FDW14</td>\n",
              "      <td>8.300</td>\n",
              "      <td>reg</td>\n",
              "      <td>0.038428</td>\n",
              "      <td>Dairy</td>\n",
              "      <td>87.3198</td>\n",
              "      <td>OUT017</td>\n",
              "      <td>2007</td>\n",
              "      <td>NaN</td>\n",
              "      <td>Tier 2</td>\n",
              "      <td>Supermarket Type1</td>\n",
              "    </tr>\n",
              "    <tr>\n",
              "      <th>2</th>\n",
              "      <td>NCN55</td>\n",
              "      <td>14.600</td>\n",
              "      <td>Low Fat</td>\n",
              "      <td>0.099575</td>\n",
              "      <td>Others</td>\n",
              "      <td>241.7538</td>\n",
              "      <td>OUT010</td>\n",
              "      <td>1998</td>\n",
              "      <td>NaN</td>\n",
              "      <td>Tier 3</td>\n",
              "      <td>Grocery Store</td>\n",
              "    </tr>\n",
              "    <tr>\n",
              "      <th>3</th>\n",
              "      <td>FDQ58</td>\n",
              "      <td>7.315</td>\n",
              "      <td>Low Fat</td>\n",
              "      <td>0.015388</td>\n",
              "      <td>Snack Foods</td>\n",
              "      <td>155.0340</td>\n",
              "      <td>OUT017</td>\n",
              "      <td>2007</td>\n",
              "      <td>NaN</td>\n",
              "      <td>Tier 2</td>\n",
              "      <td>Supermarket Type1</td>\n",
              "    </tr>\n",
              "    <tr>\n",
              "      <th>4</th>\n",
              "      <td>FDY38</td>\n",
              "      <td>NaN</td>\n",
              "      <td>Regular</td>\n",
              "      <td>0.118599</td>\n",
              "      <td>Dairy</td>\n",
              "      <td>234.2300</td>\n",
              "      <td>OUT027</td>\n",
              "      <td>1985</td>\n",
              "      <td>Medium</td>\n",
              "      <td>Tier 3</td>\n",
              "      <td>Supermarket Type3</td>\n",
              "    </tr>\n",
              "  </tbody>\n",
              "</table>\n",
              "</div>"
            ],
            "text/plain": [
              "  Item_Identifier  Item_Weight  ... Outlet_Location_Type        Outlet_Type\n",
              "0           FDW58       20.750  ...               Tier 1  Supermarket Type1\n",
              "1           FDW14        8.300  ...               Tier 2  Supermarket Type1\n",
              "2           NCN55       14.600  ...               Tier 3      Grocery Store\n",
              "3           FDQ58        7.315  ...               Tier 2  Supermarket Type1\n",
              "4           FDY38          NaN  ...               Tier 3  Supermarket Type3\n",
              "\n",
              "[5 rows x 11 columns]"
            ]
          },
          "metadata": {
            "tags": []
          },
          "execution_count": 765
        }
      ]
    },
    {
      "cell_type": "code",
      "metadata": {
        "id": "Cj1Mpf207B_Y",
        "colab_type": "code",
        "colab": {
          "base_uri": "https://localhost:8080/",
          "height": 51
        },
        "outputId": "87f8dee6-327d-44aa-9bc8-c306cf7830c2"
      },
      "source": [
        "print(d_train.shape)\n",
        "print(d_test.shape)"
      ],
      "execution_count": 766,
      "outputs": [
        {
          "output_type": "stream",
          "text": [
            "(8523, 12)\n",
            "(5681, 11)\n"
          ],
          "name": "stdout"
        }
      ]
    },
    {
      "cell_type": "code",
      "metadata": {
        "id": "ztCX2cNj7B81",
        "colab_type": "code",
        "colab": {
          "base_uri": "https://localhost:8080/",
          "height": 187
        },
        "outputId": "e374d5ca-cd4f-4853-c214-3a94ae1e794b"
      },
      "source": [
        "print(d_train.columns)\n",
        "print(d_test.columns)"
      ],
      "execution_count": 767,
      "outputs": [
        {
          "output_type": "stream",
          "text": [
            "Index(['Item_Identifier', 'Item_Weight', 'Item_Fat_Content', 'Item_Visibility',\n",
            "       'Item_Type', 'Item_MRP', 'Outlet_Identifier',\n",
            "       'Outlet_Establishment_Year', 'Outlet_Size', 'Outlet_Location_Type',\n",
            "       'Outlet_Type', 'Item_Outlet_Sales'],\n",
            "      dtype='object')\n",
            "Index(['Item_Identifier', 'Item_Weight', 'Item_Fat_Content', 'Item_Visibility',\n",
            "       'Item_Type', 'Item_MRP', 'Outlet_Identifier',\n",
            "       'Outlet_Establishment_Year', 'Outlet_Size', 'Outlet_Location_Type',\n",
            "       'Outlet_Type'],\n",
            "      dtype='object')\n"
          ],
          "name": "stdout"
        }
      ]
    },
    {
      "cell_type": "code",
      "metadata": {
        "id": "l26f9f8I-UR1",
        "colab_type": "code",
        "colab": {
          "base_uri": "https://localhost:8080/",
          "height": 68
        },
        "outputId": "eba77a75-7ca1-4908-cf85-e64abcefcc42"
      },
      "source": [
        "d_train.Item_Fat_Content.value_counts()"
      ],
      "execution_count": 768,
      "outputs": [
        {
          "output_type": "execute_result",
          "data": {
            "text/plain": [
              "Low Fat    5517\n",
              "Regular    3006\n",
              "Name: Item_Fat_Content, dtype: int64"
            ]
          },
          "metadata": {
            "tags": []
          },
          "execution_count": 768
        }
      ]
    },
    {
      "cell_type": "code",
      "metadata": {
        "id": "9w71fHGD-UYe",
        "colab_type": "code",
        "colab": {
          "base_uri": "https://localhost:8080/",
          "height": 238
        },
        "outputId": "078cab07-ba7c-417d-f985-3737f0598ec1"
      },
      "source": [
        "d_train.isna().sum()"
      ],
      "execution_count": 769,
      "outputs": [
        {
          "output_type": "execute_result",
          "data": {
            "text/plain": [
              "Item_Identifier                 0\n",
              "Item_Weight                  1463\n",
              "Item_Fat_Content                0\n",
              "Item_Visibility                 0\n",
              "Item_Type                       0\n",
              "Item_MRP                        0\n",
              "Outlet_Identifier               0\n",
              "Outlet_Establishment_Year       0\n",
              "Outlet_Size                  2410\n",
              "Outlet_Location_Type            0\n",
              "Outlet_Type                     0\n",
              "Item_Outlet_Sales               0\n",
              "dtype: int64"
            ]
          },
          "metadata": {
            "tags": []
          },
          "execution_count": 769
        }
      ]
    },
    {
      "cell_type": "code",
      "metadata": {
        "id": "lgmvXc6f-UWU",
        "colab_type": "code",
        "colab": {}
      },
      "source": [
        "d_train.Item_Weight.fillna(d_train.Item_Weight.mean(),inplace=True)"
      ],
      "execution_count": 770,
      "outputs": []
    },
    {
      "cell_type": "code",
      "metadata": {
        "id": "7cjAbutw-UOb",
        "colab_type": "code",
        "colab": {}
      },
      "source": [
        "d_train.Outlet_Size.fillna(d_train.Outlet_Size.bfill,inplace=True)"
      ],
      "execution_count": 771,
      "outputs": []
    },
    {
      "cell_type": "code",
      "metadata": {
        "id": "B_4s_tZr-UMM",
        "colab_type": "code",
        "colab": {
          "base_uri": "https://localhost:8080/",
          "height": 238
        },
        "outputId": "564e6484-286c-4e24-e7a1-b8348fd91821"
      },
      "source": [
        "d_train.isna().sum()"
      ],
      "execution_count": 772,
      "outputs": [
        {
          "output_type": "execute_result",
          "data": {
            "text/plain": [
              "Item_Identifier              0\n",
              "Item_Weight                  0\n",
              "Item_Fat_Content             0\n",
              "Item_Visibility              0\n",
              "Item_Type                    0\n",
              "Item_MRP                     0\n",
              "Outlet_Identifier            0\n",
              "Outlet_Establishment_Year    0\n",
              "Outlet_Size                  0\n",
              "Outlet_Location_Type         0\n",
              "Outlet_Type                  0\n",
              "Item_Outlet_Sales            0\n",
              "dtype: int64"
            ]
          },
          "metadata": {
            "tags": []
          },
          "execution_count": 772
        }
      ]
    },
    {
      "cell_type": "code",
      "metadata": {
        "id": "0o8m6jc_Pao0",
        "colab_type": "code",
        "colab": {
          "base_uri": "https://localhost:8080/",
          "height": 726
        },
        "outputId": "8acae29b-c04d-4300-b7aa-761a3b12e97b"
      },
      "source": [
        "d_train.hist(figsize=(10,10))"
      ],
      "execution_count": 773,
      "outputs": [
        {
          "output_type": "execute_result",
          "data": {
            "text/plain": [
              "array([[<matplotlib.axes._subplots.AxesSubplot object at 0x7f883a0c4a90>,\n",
              "        <matplotlib.axes._subplots.AxesSubplot object at 0x7f883a05a7f0>],\n",
              "       [<matplotlib.axes._subplots.AxesSubplot object at 0x7f883a008b38>,\n",
              "        <matplotlib.axes._subplots.AxesSubplot object at 0x7f883a03aeb8>],\n",
              "       [<matplotlib.axes._subplots.AxesSubplot object at 0x7f8839ff2278>,\n",
              "        <matplotlib.axes._subplots.AxesSubplot object at 0x7f8839f98e10>]],\n",
              "      dtype=object)"
            ]
          },
          "metadata": {
            "tags": []
          },
          "execution_count": 773
        },
        {
          "output_type": "display_data",
          "data": {
            "image/png": "[encoded data removed]",
            "text/plain": [
              "<Figure size 720x720 with 6 Axes>"
            ]
          },
          "metadata": {
            "tags": [],
            "needs_background": "light"
          }
        }
      ]
    },
    {
      "cell_type": "markdown",
      "metadata": {
        "id": "c4BPU56yXaDW",
        "colab_type": "text"
      },
      "source": [
        "From HISTOGRAM, It can be concluded that Outlet_Establishment_Year doesn't affect the sales much"
      ]
    },
    {
      "cell_type": "code",
      "metadata": {
        "id": "CyxkPEdpgzLb",
        "colab_type": "code",
        "colab": {
          "base_uri": "https://localhost:8080/",
          "height": 282
        },
        "outputId": "af34b4fe-f349-4708-dd7f-d5c07fb84ad3"
      },
      "source": [
        "d_train.Outlet_Type.hist()"
      ],
      "execution_count": 774,
      "outputs": [
        {
          "output_type": "execute_result",
          "data": {
            "text/plain": [
              "<matplotlib.axes._subplots.AxesSubplot at 0x7f8839ec4d68>"
            ]
          },
          "metadata": {
            "tags": []
          },
          "execution_count": 774
        },
        {
          "output_type": "display_data",
          "data": {
            "image/png": "[encoded data removed]",
            "text/plain": [
              "<Figure size 432x288 with 1 Axes>"
            ]
          },
          "metadata": {
            "tags": [],
            "needs_background": "light"
          }
        }
      ]
    },
    {
      "cell_type": "markdown",
      "metadata": {
        "id": "EmHr73pchJoV",
        "colab_type": "text"
      },
      "source": [
        "So, sales largly depends upon Outlet_type"
      ]
    },
    {
      "cell_type": "code",
      "metadata": {
        "id": "ofD2rozpg_aV",
        "colab_type": "code",
        "colab": {
          "base_uri": "https://localhost:8080/",
          "height": 285
        },
        "outputId": "c5cc095e-3324-4823-86f5-65d12c6dca6c"
      },
      "source": [
        "d_train.Outlet_Location_Type.hist()"
      ],
      "execution_count": 775,
      "outputs": [
        {
          "output_type": "execute_result",
          "data": {
            "text/plain": [
              "<matplotlib.axes._subplots.AxesSubplot at 0x7f8839de1860>"
            ]
          },
          "metadata": {
            "tags": []
          },
          "execution_count": 775
        },
        {
          "output_type": "display_data",
          "data": {
            "image/png": "[encoded data removed]",
            "text/plain": [
              "<Figure size 432x288 with 1 Axes>"
            ]
          },
          "metadata": {
            "tags": [],
            "needs_background": "light"
          }
        }
      ]
    },
    {
      "cell_type": "code",
      "metadata": {
        "id": "T_V2On1WiaBw",
        "colab_type": "code",
        "colab": {
          "base_uri": "https://localhost:8080/",
          "height": 715
        },
        "outputId": "4404d0e8-d918-464e-d2bd-90f63c56f998"
      },
      "source": [
        "z = d_train.corr()\n",
        "plt.figure(figsize=(10,10))\n",
        "mask = np.zeros_like(z, dtype=np.bool)\n",
        "mask[np.triu_indices_from(mask)] = True\n",
        "sns.heatmap(z, \n",
        "            vmin = -1,\n",
        "            cmap='coolwarm',\n",
        "            annot=True,\n",
        "            mask=mask)\n",
        "# plt.savefig('corr-matrix.png')\n",
        "plt.show()"
      ],
      "execution_count": 776,
      "outputs": [
        {
          "output_type": "display_data",
          "data": {
            "image/png": "[encoded data removed]",
            "text/plain": [
              "<Figure size 720x720 with 2 Axes>"
            ]
          },
          "metadata": {
            "tags": [],
            "needs_background": "light"
          }
        }
      ]
    },
    {
      "cell_type": "code",
      "metadata": {
        "id": "zL7Hzs82QHKF",
        "colab_type": "code",
        "colab": {}
      },
      "source": [
        "from sklearn import preprocessing\n",
        "#a= d_train.Item_Outlet_Sales.min()\n",
        "#b = d_train.Item_Outlet_Sales.max()\n",
        "d_train.Item_Outlet_Sales = preprocessing.scale(d_train.Item_Outlet_Sales)\n",
        "#d_train.Item_Visibility = preprocessing.scale(d_train.Item_Visibility)\n",
        "d_train.Item_MRP = preprocessing.scale(d_train.Item_MRP)\n",
        "d_train.Item_Weight = preprocessing.scale(d_train.Item_Weight)\n"
      ],
      "execution_count": 777,
      "outputs": []
    },
    {
      "cell_type": "code",
      "metadata": {
        "id": "_UsCJE7NTdBo",
        "colab_type": "code",
        "colab": {
          "base_uri": "https://localhost:8080/",
          "height": 726
        },
        "outputId": "32f37d26-6070-4e2d-a137-f5f4c08135b1"
      },
      "source": [
        "d_train.hist(figsize=(10,10))"
      ],
      "execution_count": 778,
      "outputs": [
        {
          "output_type": "execute_result",
          "data": {
            "text/plain": [
              "array([[<matplotlib.axes._subplots.AxesSubplot object at 0x7f8839d0e828>,\n",
              "        <matplotlib.axes._subplots.AxesSubplot object at 0x7f8839c63978>],\n",
              "       [<matplotlib.axes._subplots.AxesSubplot object at 0x7f8839c16c18>,\n",
              "        <matplotlib.axes._subplots.AxesSubplot object at 0x7f8839bcbf98>],\n",
              "       [<matplotlib.axes._subplots.AxesSubplot object at 0x7f8839b88358>,\n",
              "        <matplotlib.axes._subplots.AxesSubplot object at 0x7f8839bb96d8>]],\n",
              "      dtype=object)"
            ]
          },
          "metadata": {
            "tags": []
          },
          "execution_count": 778
        },
        {
          "output_type": "display_data",
          "data": {
            "image/png": "[encoded data removed]",
            "text/plain": [
              "<Figure size 720x720 with 6 Axes>"
            ]
          },
          "metadata": {
            "tags": [],
            "needs_background": "light"
          }
        }
      ]
    },
    {
      "cell_type": "code",
      "metadata": {
        "id": "4DT18SWCZJtV",
        "colab_type": "code",
        "colab": {
          "base_uri": "https://localhost:8080/",
          "height": 282
        },
        "outputId": "9c342d03-d1d5-4813-a356-b233ee572de4"
      },
      "source": [
        "d_train.Item_Fat_Content.hist()"
      ],
      "execution_count": 779,
      "outputs": [
        {
          "output_type": "execute_result",
          "data": {
            "text/plain": [
              "<matplotlib.axes._subplots.AxesSubplot at 0x7f88399dca90>"
            ]
          },
          "metadata": {
            "tags": []
          },
          "execution_count": 779
        },
        {
          "output_type": "display_data",
          "data": {
            "image/png": "[encoded data removed]",
            "text/plain": [
              "<Figure size 432x288 with 1 Axes>"
            ]
          },
          "metadata": {
            "tags": [],
            "needs_background": "light"
          }
        }
      ]
    },
    {
      "cell_type": "code",
      "metadata": {
        "id": "yRdvhM7n_4fK",
        "colab_type": "code",
        "colab": {
          "base_uri": "https://localhost:8080/",
          "height": 68
        },
        "outputId": "9ee6e703-7bf8-4b49-842a-1c1a031163ea"
      },
      "source": [
        "d_train.Item_Fat_Content.value_counts()"
      ],
      "execution_count": 780,
      "outputs": [
        {
          "output_type": "execute_result",
          "data": {
            "text/plain": [
              "Low Fat    5517\n",
              "Regular    3006\n",
              "Name: Item_Fat_Content, dtype: int64"
            ]
          },
          "metadata": {
            "tags": []
          },
          "execution_count": 780
        }
      ]
    },
    {
      "cell_type": "code",
      "metadata": {
        "id": "I0BRSVcq_4k8",
        "colab_type": "code",
        "colab": {
          "base_uri": "https://localhost:8080/",
          "height": 340
        },
        "outputId": "8d80b45c-4c50-4b42-b8a0-742baf8233e7"
      },
      "source": [
        "d_train.info()"
      ],
      "execution_count": 781,
      "outputs": [
        {
          "output_type": "stream",
          "text": [
            "<class 'pandas.core.frame.DataFrame'>\n",
            "RangeIndex: 8523 entries, 0 to 8522\n",
            "Data columns (total 12 columns):\n",
            " #   Column                     Non-Null Count  Dtype  \n",
            "---  ------                     --------------  -----  \n",
            " 0   Item_Identifier            8523 non-null   object \n",
            " 1   Item_Weight                8523 non-null   float64\n",
            " 2   Item_Fat_Content           8523 non-null   object \n",
            " 3   Item_Visibility            8523 non-null   float64\n",
            " 4   Item_Type                  8523 non-null   object \n",
            " 5   Item_MRP                   8523 non-null   float64\n",
            " 6   Outlet_Identifier          8523 non-null   object \n",
            " 7   Outlet_Establishment_Year  8523 non-null   int64  \n",
            " 8   Outlet_Size                8523 non-null   object \n",
            " 9   Outlet_Location_Type       8523 non-null   object \n",
            " 10  Outlet_Type                8523 non-null   object \n",
            " 11  Item_Outlet_Sales          8523 non-null   float64\n",
            "dtypes: float64(4), int64(1), object(7)\n",
            "memory usage: 799.2+ KB\n"
          ],
          "name": "stdout"
        }
      ]
    },
    {
      "cell_type": "code",
      "metadata": {
        "id": "9Q4Arr3L_4TV",
        "colab_type": "code",
        "colab": {
          "base_uri": "https://localhost:8080/",
          "height": 391
        },
        "outputId": "b87cc6c8-7c10-43ca-ec05-d5df74e79309"
      },
      "source": [
        "print(d_train.Item_Type.value_counts())\n",
        "print(d_train.Outlet_Type.value_counts())"
      ],
      "execution_count": 782,
      "outputs": [
        {
          "output_type": "stream",
          "text": [
            "Fruits and Vegetables    1232\n",
            "Snack Foods              1200\n",
            "Household                 910\n",
            "Frozen Foods              856\n",
            "Dairy                     682\n",
            "Canned                    649\n",
            "Baking Goods              648\n",
            "Health and Hygiene        520\n",
            "Soft Drinks               445\n",
            "Meat                      425\n",
            "Breads                    251\n",
            "Hard Drinks               214\n",
            "Others                    169\n",
            "Starchy Foods             148\n",
            "Breakfast                 110\n",
            "Seafood                    64\n",
            "Name: Item_Type, dtype: int64\n",
            "Supermarket Type1    5577\n",
            "Grocery Store        1083\n",
            "Supermarket Type3     935\n",
            "Supermarket Type2     928\n",
            "Name: Outlet_Type, dtype: int64\n"
          ],
          "name": "stdout"
        }
      ]
    },
    {
      "cell_type": "code",
      "metadata": {
        "id": "OcGR0k-aJl5_",
        "colab_type": "code",
        "colab": {}
      },
      "source": [
        "d_train = pd.get_dummies(d_train,columns=['Item_Type'])\n",
        "d_train = pd.get_dummies(d_train,columns=['Outlet_Type'])"
      ],
      "execution_count": 783,
      "outputs": []
    },
    {
      "cell_type": "code",
      "metadata": {
        "id": "5p12_q_CHvUZ",
        "colab_type": "code",
        "colab": {
          "base_uri": "https://localhost:8080/",
          "height": 272
        },
        "outputId": "2e253892-a399-452f-a9d3-6679303119dd"
      },
      "source": [
        "print(d_train.Outlet_Location_Type.value_counts())\n",
        "print(d_train.Outlet_Identifier.value_counts())\n",
        "#print(d_train.Outlet_Size.value_counts())"
      ],
      "execution_count": 784,
      "outputs": [
        {
          "output_type": "stream",
          "text": [
            "Tier 3    3350\n",
            "Tier 2    2785\n",
            "Tier 1    2388\n",
            "Name: Outlet_Location_Type, dtype: int64\n",
            "OUT027    935\n",
            "OUT013    932\n",
            "OUT035    930\n",
            "OUT046    930\n",
            "OUT049    930\n",
            "OUT045    929\n",
            "OUT018    928\n",
            "OUT017    926\n",
            "OUT010    555\n",
            "OUT019    528\n",
            "Name: Outlet_Identifier, dtype: int64\n"
          ],
          "name": "stdout"
        }
      ]
    },
    {
      "cell_type": "code",
      "metadata": {
        "id": "gzr6T4LeNAe6",
        "colab_type": "code",
        "colab": {}
      },
      "source": [
        "d_train = pd.get_dummies(d_train,columns=['Outlet_Location_Type'])\n",
        "d_train = pd.get_dummies(d_train,columns=['Outlet_Identifier'])"
      ],
      "execution_count": 785,
      "outputs": []
    },
    {
      "cell_type": "code",
      "metadata": {
        "id": "c095LnggkPJg",
        "colab_type": "code",
        "colab": {}
      },
      "source": [
        "d_train.Item_Fat_Content = pd.get_dummies(d_train.Item_Fat_Content)"
      ],
      "execution_count": 786,
      "outputs": []
    },
    {
      "cell_type": "code",
      "metadata": {
        "id": "NiJ3Qf5e3_da",
        "colab_type": "code",
        "colab": {}
      },
      "source": [
        "#d_train = pd.get_dummies(d_train,columns=['Outlet_Size'])"
      ],
      "execution_count": 787,
      "outputs": []
    },
    {
      "cell_type": "code",
      "metadata": {
        "id": "EMU-CNOw6nU0",
        "colab_type": "code",
        "colab": {}
      },
      "source": [
        "#d_train.Outlet_Size.hist()"
      ],
      "execution_count": 788,
      "outputs": []
    },
    {
      "cell_type": "code",
      "metadata": {
        "id": "hmoHFZix6Ajj",
        "colab_type": "code",
        "colab": {}
      },
      "source": [
        "# from sklearn.preprocessing import OneHotEncoder\n",
        "# onehot = OneHotEncoder()\n",
        "# d_train.Outlet_Size= onehot.fit_transform(d_train.Outlet_Size.reshape(-1,1)).toarray()\n"
      ],
      "execution_count": 789,
      "outputs": []
    },
    {
      "cell_type": "code",
      "metadata": {
        "id": "8ZoCYKKcOkL_",
        "colab_type": "code",
        "colab": {
          "base_uri": "https://localhost:8080/",
          "height": 323
        },
        "outputId": "ad3146da-a13b-4fc7-9311-6d8da0d860c2"
      },
      "source": [
        "print(d_train.columns)"
      ],
      "execution_count": 790,
      "outputs": [
        {
          "output_type": "stream",
          "text": [
            "Index(['Item_Identifier', 'Item_Weight', 'Item_Fat_Content', 'Item_Visibility',\n",
            "       'Item_MRP', 'Outlet_Establishment_Year', 'Outlet_Size',\n",
            "       'Item_Outlet_Sales', 'Item_Type_Baking Goods', 'Item_Type_Breads',\n",
            "       'Item_Type_Breakfast', 'Item_Type_Canned', 'Item_Type_Dairy',\n",
            "       'Item_Type_Frozen Foods', 'Item_Type_Fruits and Vegetables',\n",
            "       'Item_Type_Hard Drinks', 'Item_Type_Health and Hygiene',\n",
            "       'Item_Type_Household', 'Item_Type_Meat', 'Item_Type_Others',\n",
            "       'Item_Type_Seafood', 'Item_Type_Snack Foods', 'Item_Type_Soft Drinks',\n",
            "       'Item_Type_Starchy Foods', 'Outlet_Type_Grocery Store',\n",
            "       'Outlet_Type_Supermarket Type1', 'Outlet_Type_Supermarket Type2',\n",
            "       'Outlet_Type_Supermarket Type3', 'Outlet_Location_Type_Tier 1',\n",
            "       'Outlet_Location_Type_Tier 2', 'Outlet_Location_Type_Tier 3',\n",
            "       'Outlet_Identifier_OUT010', 'Outlet_Identifier_OUT013',\n",
            "       'Outlet_Identifier_OUT017', 'Outlet_Identifier_OUT018',\n",
            "       'Outlet_Identifier_OUT019', 'Outlet_Identifier_OUT027',\n",
            "       'Outlet_Identifier_OUT035', 'Outlet_Identifier_OUT045',\n",
            "       'Outlet_Identifier_OUT046', 'Outlet_Identifier_OUT049'],\n",
            "      dtype='object')\n"
          ],
          "name": "stdout"
        }
      ]
    },
    {
      "cell_type": "code",
      "metadata": {
        "id": "Okh1Vk9mNZ-J",
        "colab_type": "code",
        "colab": {
          "base_uri": "https://localhost:8080/",
          "height": 34
        },
        "outputId": "a7a8c419-782f-4e9a-861c-9fd54d256ee6"
      },
      "source": [
        "d_train.shape"
      ],
      "execution_count": 791,
      "outputs": [
        {
          "output_type": "execute_result",
          "data": {
            "text/plain": [
              "(8523, 41)"
            ]
          },
          "metadata": {
            "tags": []
          },
          "execution_count": 791
        }
      ]
    },
    {
      "cell_type": "code",
      "metadata": {
        "id": "r3b3D4CokeW1",
        "colab_type": "code",
        "colab": {}
      },
      "source": [
        "#d_train.head()"
      ],
      "execution_count": 792,
      "outputs": []
    },
    {
      "cell_type": "code",
      "metadata": {
        "id": "pzZP03BjmUxq",
        "colab_type": "code",
        "colab": {}
      },
      "source": [
        "x = d_train.drop(['Item_Outlet_Sales','Outlet_Establishment_Year','Outlet_Size','Item_Identifier'],axis=1)\n",
        "y = d_train['Item_Outlet_Sales']"
      ],
      "execution_count": 793,
      "outputs": []
    },
    {
      "cell_type": "code",
      "metadata": {
        "id": "dwIQ1jEZlC7c",
        "colab_type": "code",
        "colab": {}
      },
      "source": [
        "from sklearn.model_selection import train_test_split\n",
        "from sklearn.linear_model import LinearRegression\n",
        "from sklearn import svm\n",
        "from sklearn.tree import DecisionTreeRegressor\n",
        "from sklearn.ensemble import RandomForestRegressor,bagging\n",
        "from sklearn.neighbors import KNeighborsRegressor as KNR"
      ],
      "execution_count": 809,
      "outputs": []
    },
    {
      "cell_type": "code",
      "metadata": {
        "id": "ltC40XNMlxzq",
        "colab_type": "code",
        "colab": {}
      },
      "source": [
        "from sklearn.metrics import mean_squared_error"
      ],
      "execution_count": 795,
      "outputs": []
    },
    {
      "cell_type": "code",
      "metadata": {
        "id": "wE_kh1ACmIZK",
        "colab_type": "code",
        "colab": {}
      },
      "source": [
        "x_train,x_test,y_train,y_test = train_test_split(x,y,test_size=0.2,random_state=42,shuffle=True)\n"
      ],
      "execution_count": 796,
      "outputs": []
    },
    {
      "cell_type": "code",
      "metadata": {
        "id": "oq5nfjCkmIh4",
        "colab_type": "code",
        "colab": {
          "base_uri": "https://localhost:8080/",
          "height": 68
        },
        "outputId": "8a9aabff-98a6-4d26-87c8-6f24fb16dd00"
      },
      "source": [
        "lr = LinearRegression()\n",
        "lr.fit(x_train,y_train)\n",
        "y_pred = lr.predict(x_test)\n",
        "mse = mean_squared_error(y_test,y_pred)\n",
        "print(mse)\n",
        "rmse = (mse)**(0.5)\n",
        "print('rmse:',rmse)\n",
        "acc = 1-mse\n",
        "print('accuracy = ',acc*100)"
      ],
      "execution_count": 797,
      "outputs": [
        {
          "output_type": "stream",
          "text": [
            "0.39272669518301595\n",
            "rmse: 0.6266791006432366\n",
            "accuracy =  60.7273304816984\n"
          ],
          "name": "stdout"
        }
      ]
    },
    {
      "cell_type": "code",
      "metadata": {
        "id": "YvhRNxQymIe3",
        "colab_type": "code",
        "colab": {
          "base_uri": "https://localhost:8080/",
          "height": 51
        },
        "outputId": "4e5555a5-f7e0-49bc-eeb1-cc132d9c13e6"
      },
      "source": [
        "sr = svm.SVR(C=0.01)\n",
        "sr.fit(x_train,y_train)\n",
        "y_pred = sr.predict(x_test)\n",
        "mse = mean_squared_error(y_test,y_pred)\n",
        "print(mse)\n",
        "acc = 1-mse\n",
        "print('accuracy = ',acc*100)"
      ],
      "execution_count": 798,
      "outputs": [
        {
          "output_type": "stream",
          "text": [
            "0.43117014715025215\n",
            "accuracy =  56.88298528497479\n"
          ],
          "name": "stdout"
        }
      ]
    },
    {
      "cell_type": "code",
      "metadata": {
        "id": "GfPe_h_ImH17",
        "colab_type": "code",
        "colab": {
          "base_uri": "https://localhost:8080/",
          "height": 51
        },
        "outputId": "6167bd17-6465-4bec-ef8c-0379af3250b6"
      },
      "source": [
        "i =[20]\n",
        "test_score=[]\n",
        "for ele in i:\n",
        "  model = RandomForestRegressor(n_estimators=ele,max_depth=8,max_features=8)\n",
        "  model.fit(x_train,y_train)\n",
        "  y_pred = model.predict(x_test)\n",
        "  mse = mean_squared_error(y_test,y_pred)\n",
        "  print(mse)\n",
        "  acc = 1-mse\n",
        "  test_score.append(acc)\n",
        "print(test_score)\n",
        "\n"
      ],
      "execution_count": 806,
      "outputs": [
        {
          "output_type": "stream",
          "text": [
            "0.38753041274674094\n",
            "[0.6124695872532591]\n"
          ],
          "name": "stdout"
        }
      ]
    },
    {
      "cell_type": "code",
      "metadata": {
        "id": "CP8AGd9B_rzQ",
        "colab_type": "code",
        "colab": {
          "base_uri": "https://localhost:8080/",
          "height": 51
        },
        "outputId": "7bd8f682-68c2-4b2e-9726-83f102eca081"
      },
      "source": [
        "dt = DecisionTreeRegressor(max_depth=8,max_features=8,random_state=42)\n",
        "dt.fit(x_train,y_train)\n",
        "y_pred = dt.predict(x_test)\n",
        "mse = mean_squared_error(y_test,y_pred)\n",
        "print(mse)\n",
        "acc = 1-mse\n",
        "print('accuracy = ',acc*100)\n"
      ],
      "execution_count": 811,
      "outputs": [
        {
          "output_type": "stream",
          "text": [
            "0.39170636539514675\n",
            "accuracy =  60.82936346048533\n"
          ],
          "name": "stdout"
        }
      ]
    },
    {
      "cell_type": "code",
      "metadata": {
        "id": "3DZ3ixUkAqYh",
        "colab_type": "code",
        "colab": {
          "base_uri": "https://localhost:8080/",
          "height": 51
        },
        "outputId": "5ea96230-45fe-4d0f-851c-ee3e42b7a827"
      },
      "source": [
        "knr = KNR()\n",
        "knr.fit(x_train,y_train)\n",
        "y_pred = knr.predict(x_test)\n",
        "mse = mean_squared_error(y_test,y_pred)\n",
        "print(mse)\n",
        "acc = 1-mse\n",
        "print('accuracy = ',acc*100)"
      ],
      "execution_count": 810,
      "outputs": [
        {
          "output_type": "stream",
          "text": [
            "0.4396210650412319\n",
            "accuracy =  56.03789349587681\n"
          ],
          "name": "stdout"
        }
      ]
    },
    {
      "cell_type": "code",
      "metadata": {
        "id": "54JKbjV4CO2c",
        "colab_type": "code",
        "colab": {
          "base_uri": "https://localhost:8080/",
          "height": 34
        },
        "outputId": "8f09fa73-6d1b-471d-a589-f2e8eddc26a2"
      },
      "source": [
        "from sklearn.ensemble import BaggingRegressor\n",
        "dt = DecisionTreeRegressor(max_depth=8,max_features=8,random_state=42)\n",
        "n =[200,250,300,400,1000]\n",
        "test_error=[]\n",
        "for k in n:\n",
        "  bc = BaggingRegressor(base_estimator=dt,n_estimators=k,n_jobs=-1)\n",
        "  bc.fit(x_train,y_train)\n",
        "  y_pred = bc.predict(x_test)\n",
        "  mse = mean_squared_error(y_test,y_pred)\n",
        "  test_error.append(mse)\n",
        "print(test_error)"
      ],
      "execution_count": 814,
      "outputs": [
        {
          "output_type": "stream",
          "text": [
            "[0.3750757890524591, 0.3761462282115254, 0.3789606497109757, 0.3800663910641649, 0.3785535512045532]\n"
          ],
          "name": "stdout"
        }
      ]
    },
    {
      "cell_type": "code",
      "metadata": {
        "id": "cOg9UxwrDzfd",
        "colab_type": "code",
        "colab": {
          "base_uri": "https://localhost:8080/",
          "height": 68
        },
        "outputId": "a8928cd8-b9f0-4603-b67e-73c05411b7aa"
      },
      "source": [
        "from sklearn.ensemble import VotingRegressor\n",
        "from sklearn.neighbors import KNeighborsRegressor\n",
        "#VC = VotingClassifier()\n",
        "knr = KNeighborsRegressor()\n",
        "dt = DecisionTreeRegressor(max_depth=8,max_features=8,random_state=42)\n",
        "sr = svm.SVR(C=0.01)\n",
        "Regressors= [('K Nearest Neighbour',knr),('Decision Tree',dt),('SVR',sr)]\n",
        "for clf_name,clf in Regressors:\n",
        "  clf.fit(x_train,y_train)\n",
        "  y_pred=clf.predict(x_test)\n",
        "  mse = mean_squared_error(y_test,y_pred)\n",
        "  print(mse)"
      ],
      "execution_count": 816,
      "outputs": [
        {
          "output_type": "stream",
          "text": [
            "0.4396210650412319\n",
            "0.39170636539514675\n",
            "0.43117014715025215\n"
          ],
          "name": "stdout"
        }
      ]
    },
    {
      "cell_type": "code",
      "metadata": {
        "id": "PBcWDoKdFIm5",
        "colab_type": "code",
        "colab": {
          "base_uri": "https://localhost:8080/",
          "height": 34
        },
        "outputId": "feefb76a-e7c8-4866-a3b2-6875e29cad11"
      },
      "source": [
        "VR = VotingRegressor(estimators=Regressors)\n",
        "VR.fit(x_train,y_train)\n",
        "y_pred = VR.predict(x_test)\n",
        "mse = mean_squared_error(y_test,y_pred)\n",
        "print(mse)"
      ],
      "execution_count": 817,
      "outputs": [
        {
          "output_type": "stream",
          "text": [
            "0.3793517254389462\n"
          ],
          "name": "stdout"
        }
      ]
    }
  ]
}